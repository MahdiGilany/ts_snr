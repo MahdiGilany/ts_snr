{
 "cells": [
  {
   "cell_type": "code",
   "execution_count": null,
   "metadata": {},
   "outputs": [],
   "source": [
    "import os\n",
    "from glob import glob\n",
    "import numpy as np\n",
    "import pandas as pd\n",
    "import torch\n",
    "import matplotlib.pyplot as plt\n",
    "from darts import TimeSeries\n",
    "from darts.datasets import AirPassengersDataset\n",
    "%cd ..\n",
    "%ls"
   ]
  },
  {
   "cell_type": "code",
   "execution_count": null,
   "metadata": {},
   "outputs": [],
   "source": [
    "i_th_run = 0\n",
    "exp_name = f\"test_deeptime_calculate_metrics\"\n",
    "main_dir = f\"logs/experiments/runs/{exp_name}\"\n",
    "main_dir = os.path.join(os.getcwd(), main_dir)\n",
    "work_dir = glob(os.path.join(main_dir, \"**/darts_logs\"), recursive=True)\n",
    "config_dir = glob(os.path.join(main_dir, \"**/config.yaml\"), recursive=True)\n",
    "config_dir = [dir for dir in config_dir if \"wandb\" not in dir]\n",
    "work_dir = work_dir[i_th_run]\n",
    "config_dir = config_dir[i_th_run]\n",
    "config_dir"
   ]
  },
  {
   "cell_type": "code",
   "execution_count": null,
   "metadata": {},
   "outputs": [],
   "source": [
    "from omegaconf import OmegaConf\n",
    "from src.driver.drivers import inference_darts_lightning_driver_run\n",
    "\n",
    "config = OmegaConf.load(config_dir)\n",
    "config.logger = None\n",
    "model, data, metrics = inference_darts_lightning_driver_run(config)"
   ]
  },
  {
   "cell_type": "code",
   "execution_count": null,
   "metadata": {},
   "outputs": [],
   "source": [
    "train, val, test, scaler = data.train_series, data.val_series, data.test_series, data.scaler\n",
    "results = model.lr_find(train, val, verbose=True)\n",
    "# model.load_weights_from_checkpoint(config.model.model_name, work_dir=work_dir) # don't use load_from_checkpoint since needs logger and produces error"
   ]
  }
 ],
 "metadata": {
  "kernelspec": {
   "display_name": "borealis",
   "language": "python",
   "name": "python3"
  },
  "language_info": {
   "codemirror_mode": {
    "name": "ipython",
    "version": 3
   },
   "file_extension": ".py",
   "mimetype": "text/x-python",
   "name": "python",
   "nbconvert_exporter": "python",
   "pygments_lexer": "ipython3",
   "version": "3.9.16"
  },
  "orig_nbformat": 4
 },
 "nbformat": 4,
 "nbformat_minor": 2
}
