{
 "cells": [
  {
   "cell_type": "code",
   "execution_count": 844,
   "metadata": {},
   "outputs": [],
   "source": [
    "import os\n",
    "import torch\n",
    "import torch.utils\n",
    "import torch.utils.data\n",
    "from sklearn.datasets import make_sparse_coded_signal\n",
    "import matplotlib.pyplot as plt\n",
    "import numpy as np\n",
    "from sklearn.linear_model import OrthogonalMatchingPursuit\n",
    "from contextlib import contextmanager\n",
    "from timeit import default_timer\n",
    "# from test_omp import omp_naive\n",
    "# from test import *  # FIXME: better name\n"
   ]
  },
  {
   "cell_type": "code",
   "execution_count": 845,
   "metadata": {},
   "outputs": [
    {
     "data": {
      "text/plain": [
       "(torch.Size([1, 672]),\n",
       " torch.Size([1, 672, 1000]),\n",
       " torch.Size([1000]),\n",
       " True,\n",
       " True,\n",
       " True)"
      ]
     },
     "execution_count": 845,
     "metadata": {},
     "output_type": "execute_result"
    }
   ],
   "source": [
    "y_0, X_0, w_0 = make_sparse_coded_signal(\n",
    "    n_samples=1,\n",
    "    n_components=1000,\n",
    "    n_features=96,\n",
    "    n_nonzero_coefs=10,\n",
    "    random_state=0)\n",
    "\n",
    "requires_grad = True\n",
    "y = torch.tensor(y_0, dtype=torch.float32, requires_grad=requires_grad).reshape(y_0.shape[0], -1).T.detach()\n",
    "X = torch.tensor(X_0, dtype=torch.float32, requires_grad=requires_grad).reshape(1, X_0.shape[0], -1).detach()\n",
    "w = torch.tensor(w_0, dtype=torch.float32, requires_grad=requires_grad).T.detach()\n",
    "X.requires_grad = True\n",
    "y.requires_grad = True\n",
    "w.requires_grad = True\n",
    "\n",
    "y.shape, X.shape, w.shape, y.is_leaf, X.is_leaf, w.is_leaf\n",
    "# y_hat = X @ w\n",
    "# ((y_hat-y)**2).sum()"
   ]
  },
  {
   "cell_type": "code",
   "execution_count": 1010,
   "metadata": {},
   "outputs": [
    {
     "name": "stderr",
     "output_type": "stream",
     "text": [
      "/home/mahdigilany/anaconda3/envs/borealis/lib/python3.9/site-packages/sklearn/datasets/_samples_generator.py:1335: FutureWarning: The default value of data_transposed will change from True to False in version 1.3\n",
      "  warnings.warn(\n"
     ]
    },
    {
     "data": {
      "text/plain": [
       "(array([-0.77817141, -2.08033674, -2.27265899, -0.62209651,  1.55394908,\n",
       "         1.43806502, -0.94548482, -0.48103745,  0.98482889, -0.71483167]),\n",
       " array([-0.77817141, -2.08033674, -2.27265899, -0.62209651,  1.55394908,\n",
       "         1.43806502, -0.94548482, -0.48103745,  0.98482889, -0.71483167]))"
      ]
     },
     "execution_count": 1010,
     "metadata": {},
     "output_type": "execute_result"
    }
   ],
   "source": [
    "from sklearn.linear_model import OrthogonalMatchingPursuit\n",
    "from sklearn.datasets import make_regression\n",
    "\n",
    "n_nonzero_coefs=10\n",
    "y_, X_, w_ = make_sparse_coded_signal(\n",
    "    n_samples=1,\n",
    "    n_components=1000,\n",
    "    n_features=96,\n",
    "    n_nonzero_coefs=n_nonzero_coefs,\n",
    "    random_state=0,\n",
    ")\n",
    "\n",
    "omp_ = OrthogonalMatchingPursuit(n_nonzero_coefs=n_nonzero_coefs)\n",
    "reg = omp_.fit(X_, y_)\n",
    "omp_.coef_[omp_.coef_ != 0][:15], w_[w_ != 0][:15]\n",
    "# reg.score(X_0, y_0)"
   ]
  },
  {
   "cell_type": "code",
   "execution_count": 802,
   "metadata": {},
   "outputs": [
    {
     "data": {
      "text/plain": [
       "tensor(9.1351e-07)"
      ]
     },
     "execution_count": 802,
     "metadata": {},
     "output_type": "execute_result"
    }
   ],
   "source": [
    "torch.manual_seed(0)\n",
    "dictionary_noise = (torch.rand_like(X.detach())*(X.std().detach()*.00000005))\n",
    "X_hat = X.detach() + dictionary_noise\n",
    "X_hat.requires_grad = True\n",
    "dictionary_noise.norm()"
   ]
  },
  {
   "cell_type": "code",
   "execution_count": 803,
   "metadata": {},
   "outputs": [],
   "source": [
    "'''Orthogonal Matching pursuit algorithm\n",
    "'''\n",
    "X_hat = X_hat/(X_hat.norm(dim=1, keepdim=True) + 1e-30)\n",
    "# X_hat = X\n",
    "dict = X_hat[0, ...] # consider cloning the tensor\n",
    "\n",
    "chunk_length, n_atoms = dict.shape\n",
    "batch_sz, chunk_length = y.shape\n",
    "n_nonzero_coefs = 100\n",
    "tau = 1e-3\n",
    "hard = True\n",
    "hard_mode = 0\n",
    "reg_=1e-10\n",
    "\n",
    "# DTD = dict.T @ dict\n",
    "\n",
    "residuals = y.clone().detach() # (batch_sz, chunk_length)\n",
    "residuals.requires_grad = True\n",
    "# max_score_indices = y.new_zeros((batch_sz, n_nonzero_coefs, n_atoms), dtype=X.dtype, device=X.device)\n",
    "max_score_indices = []\n",
    "sum_collector = torch.zeros((batch_sz, n_atoms), dtype=X.dtype, device=X.device)\n",
    "detached_indices = np.zeros((batch_sz, n_nonzero_coefs), dtype=np.int64) # (batch_sz, n_nonzero_coefs)\n",
    "\n",
    "\n",
    "tolerance = True\n",
    "# Control stop interation with norm thresh or sparsity\n",
    "for i in range(n_nonzero_coefs):\n",
    "    # Compute the score of each atoms\n",
    "    projections = dict.T @ residuals[:, :, None] # (batch_sz, n_atoms, 1)\n",
    "\n",
    "    detached_indices[:, i] = projections.abs().squeeze(-1).argmax(-1).detach().cpu().numpy()\n",
    "    soft_score_indices = (projections/tau).abs().squeeze(-1).softmax(-1) # (batch_sz, n_atoms)\n",
    "    \n",
    "    if hard:\n",
    "        # copied and modified from https://pytorch.org/docs/stable/_modules/torch/nn/functional.html#gumbel_softmax\n",
    "        # Straight through.\n",
    "        index = soft_score_indices.max(-1, keepdim=True)[1]\n",
    "        hard_score_indices = torch.zeros_like(soft_score_indices).scatter_(-1, index, 1.0)\n",
    "        ret = hard_score_indices - soft_score_indices.detach() + soft_score_indices   \n",
    "        # max_score_indices[:, i] = ret\n",
    "        if hard_mode == 0:\n",
    "            max_score_indices.append(ret[:, None, :]) # (batch_sz, i+1, n_atoms), it is list on dimension of i+1\n",
    "            \n",
    "            # update selected_D torch.cat(max_score_indices, dim=1)\n",
    "            ## first indexing then multiplication with max_score_indices\n",
    "            ind_0 = torch.arange(batch_sz)[:, None, None]\n",
    "            ind_1 = torch.arange(chunk_length)[None, :, None]\n",
    "            _selected_D = X_hat[ind_0, ind_1, detached_indices[:, None, :i+1]] # (batch_sz, chunk_length, i+1)\n",
    "            ind_0 = torch.arange(batch_sz)[:, None]\n",
    "            ind_1 = torch.arange(i+1)[None, :]\n",
    "            _selected_max_score_indices = torch.cat(max_score_indices, dim=1)[ind_0, ind_1, detached_indices[:, :i+1]]\n",
    "            selected_D = _selected_D * _selected_max_score_indices[:, None, :] # (batch_sz, chunk_length, i+1)\n",
    "            ## first multiplication then indexing with max_score_indices \n",
    "            # _selected_D = X[:, None, ...] * torch.cat(max_score_indices, dim=1)[:, :i+1, None, :] # max_score_indices[:, :i+1, None, :] # (batch_sz, i+1, chunk_length, n_atoms)\n",
    "            # _selected_D = _selected_D.permute(0, 2, 1, 3) # (batch_sz, chunk_length, i+1, n_atoms)\n",
    "            # ind_0 = torch.arange(batch_sz)[:, None, None]\n",
    "            # ind_1 = torch.arange(chunk_length)[None, :, None]\n",
    "            # ind_2 = torch.arange(i+1)[None, None, :]\n",
    "            # selected_D = _selected_D[ind_0, ind_1, ind_2, detached_indices[:, None, :i+1]] # (batch_sz, chunk_length, i+1)\n",
    "            \n",
    "            # calculate selected_DTy\n",
    "            selected_DTy = selected_D.permute(0, 2, 1) @ y[:, :, None] # (batch_sz, i+1, 1)\n",
    "\n",
    "            # calculate selected_DTD\n",
    "            selected_DTD = selected_D.permute(0, 2, 1) @ selected_D # (batch_sz, i+1, i+1)\n",
    "\n",
    "            # find W = (selected_DTD)^-1 @ selected_DTy\n",
    "            selected_DTD.diagonal(dim1=-2, dim2=-1).add_(reg_) # TODO: add multipath OMP\n",
    "            nonzero_W = torch.linalg.solve(selected_DTD, selected_DTy) # (batch_sz, i+1, 1)\n",
    "\n",
    "            # finally get residuals r=y-Wx\n",
    "            residuals = y - (selected_D @ nonzero_W).squeeze(-1) # (batch_sz, chunk_length)\n",
    "        else:\n",
    "            sum_collector = sum_collector + ret\n",
    "            selected_D = X_hat * sum_collector[:, None, :] # (batch_sz, chunk_length, n_atoms)\n",
    "            \n",
    "            # calculate selected_DTy\n",
    "            selected_DTy = selected_D.permute(0, 2, 1) @ y[:, :, None] # (batch_sz, n_atoms, 1)\n",
    "\n",
    "            # calculate selected_DTD\n",
    "            selected_DTD = selected_D.permute(0, 2, 1) @ selected_D # (batch_sz, n_atoms, n_atoms)\n",
    "\n",
    "            # find W = (selected_DTD)^-1 @ selected_DTy\n",
    "            selected_DTD.diagonal(dim1=-2, dim2=-1).add_(reg_) # TODO: add multipath OMP\n",
    "            nonzero_W = torch.linalg.solve(selected_DTD, selected_DTy) # (batch_sz, n_atoms, 1)\n",
    "\n",
    "            # finally get residuals r=y-Wx\n",
    "            residuals = y - (selected_D @ nonzero_W).squeeze(-1) # (batch_sz, chunk_length)\n",
    "            \n",
    "            \n",
    "    else:\n",
    "        # raise NotImplementedError\n",
    "        sum_collector = sum_collector + soft_score_indices\n",
    "        selected_D = X_hat * sum_collector[:, None, :] # (batch_sz, chunk_length, n_atoms)\n",
    "        \n",
    "        # calculate selected_DTy\n",
    "        selected_DTy = selected_D.permute(0, 2, 1) @ y[:, :, None] # (batch_sz, n_atoms, 1)\n",
    "\n",
    "        # calculate selected_DTD\n",
    "        selected_DTD = selected_D.permute(0, 2, 1) @ selected_D # (batch_sz, n_atoms, n_atoms)\n",
    "\n",
    "        # find W = (selected_DTD)^-1 @ selected_DTy\n",
    "        selected_DTD.diagonal(dim1=-2, dim2=-1).add_(reg_) # TODO: add multipath OMP\n",
    "        nonzero_W = torch.linalg.solve(selected_DTD, selected_DTy) # (batch_sz, n_atoms, 1)\n",
    "\n",
    "        # finally get residuals r=y-Wx\n",
    "        residuals = y - (selected_D @ nonzero_W).squeeze(-1) # (batch_sz, chunk_length)\n",
    "\n",
    "if hard:\n",
    "    if hard_mode == 0:\n",
    "        W = torch.zeros(batch_sz, n_atoms, dtype=selected_D.dtype, device=selected_D.device)\n",
    "        W[torch.arange(batch_sz)[:, None], detached_indices] = nonzero_W.squeeze(-1)\n",
    "    else:\n",
    "        W = nonzero_W.squeeze(-1)\n",
    "else:\n",
    "    W = nonzero_W.squeeze(-1)\n"
   ]
  },
  {
   "cell_type": "code",
   "execution_count": 804,
   "metadata": {},
   "outputs": [
    {
     "data": {
      "text/plain": [
       "tensor(4.8077e-06, grad_fn=<LinalgVectorNormBackward0>)"
      ]
     },
     "execution_count": 804,
     "metadata": {},
     "output_type": "execute_result"
    }
   ],
   "source": [
    "y_hat = X_hat @ W[..., None]\n",
    "loss = ((y_hat.squeeze(-1)-y)).norm()\n",
    "loss\n",
    "# loss.backward(), loss, detached_indices[0,:10], X.grad, X_hat.grad[0, :, 78][:10], X_hat.grad[0, :, 230][:10], X_hat.grad.abs().sum(), X_hat.grad[0, :, 78].abs().sum(), X_hat.grad[0, :, 230].abs().sum()"
   ]
  },
  {
   "cell_type": "code",
   "execution_count": 805,
   "metadata": {},
   "outputs": [
    {
     "data": {
      "text/plain": [
       "(tensor([ 1.2283,  0.7654,  0.4563, -0.5398,  0.0076, -0.0651,  0.9550,  0.4489,\n",
       "          0.5807,  2.3090], grad_fn=<SliceBackward0>),\n",
       " tensor([ 1.2283,  0.7654,  0.4563, -0.5398,  0.0076, -0.0651,  0.9550,  0.4489,\n",
       "          0.5807,  2.3090], grad_fn=<SliceBackward0>))"
      ]
     },
     "execution_count": 805,
     "metadata": {},
     "output_type": "execute_result"
    }
   ],
   "source": [
    "W[W!=0][:10], w[w!=0][:10]"
   ]
  },
  {
   "cell_type": "code",
   "execution_count": null,
   "metadata": {},
   "outputs": [],
   "source": [
    "abs_sums = []\n",
    "for i in range(len(detached_indices[0])):\n",
    "    abs_sums.append(X_hat.grad[0, :, detached_indices[0, i]].abs().sum())\n",
    "plt.plot(abs_sums)"
   ]
  },
  {
   "cell_type": "code",
   "execution_count": 5,
   "metadata": {},
   "outputs": [],
   "source": [
    "# fake_loss = W.sum() + 100\n",
    "fake_loss = (nonzero_W**5).sum() + 100\n",
    "fake_loss.backward()"
   ]
  },
  {
   "cell_type": "code",
   "execution_count": null,
   "metadata": {},
   "outputs": [],
   "source": [
    "X.grad, y.grad, w.grad, X.is_leaf, soft_score_indices.requires_grad"
   ]
  },
  {
   "cell_type": "markdown",
   "metadata": {},
   "source": [
    "# Alex idea for OMP"
   ]
  },
  {
   "cell_type": "code",
   "execution_count": 1011,
   "metadata": {},
   "outputs": [
    {
     "name": "stderr",
     "output_type": "stream",
     "text": [
      "/home/mahdigilany/anaconda3/envs/borealis/lib/python3.9/site-packages/sklearn/datasets/_samples_generator.py:1335: FutureWarning: The default value of data_transposed will change from True to False in version 1.3\n",
      "  warnings.warn(\n"
     ]
    },
    {
     "data": {
      "text/plain": [
       "(torch.Size([1, 96]),\n",
       " torch.Size([1, 96, 1000]),\n",
       " torch.Size([1000]),\n",
       " True,\n",
       " True,\n",
       " True)"
      ]
     },
     "execution_count": 1011,
     "metadata": {},
     "output_type": "execute_result"
    }
   ],
   "source": [
    "n_components = 10\n",
    "y_0, X_0, w_0 = make_sparse_coded_signal(\n",
    "    n_samples=1,\n",
    "    n_components=1000,\n",
    "    n_features=96,\n",
    "    n_nonzero_coefs=n_components,\n",
    "    random_state=0)\n",
    "\n",
    "requires_grad = True\n",
    "y = torch.tensor(y_0, dtype=torch.float32, requires_grad=requires_grad).reshape(y_0.shape[0], -1).T.detach()\n",
    "X = torch.tensor(X_0, dtype=torch.float32, requires_grad=requires_grad).reshape(1, X_0.shape[0], -1).detach()\n",
    "w = torch.tensor(w_0, dtype=torch.float32, requires_grad=requires_grad).T.detach()\n",
    "X.requires_grad = True\n",
    "y.requires_grad = True\n",
    "w.requires_grad = True\n",
    "\n",
    "y.shape, X.shape, w.shape, y.is_leaf, X.is_leaf, w.is_leaf\n",
    "# y_hat = X @ w\n",
    "# ((y_hat-y)**2).sum()"
   ]
  },
  {
   "cell_type": "code",
   "execution_count": 1012,
   "metadata": {},
   "outputs": [
    {
     "data": {
      "text/plain": [
       "tensor(0.0164)"
      ]
     },
     "execution_count": 1012,
     "metadata": {},
     "output_type": "execute_result"
    }
   ],
   "source": [
    "torch.manual_seed(0)\n",
    "dictionary_noise = (torch.rand_like(X.detach())*(X.std().detach()*.0009))\n",
    "X_hat = X.detach() + dictionary_noise\n",
    "X_hat.requires_grad = True\n",
    "dictionary_noise.norm()"
   ]
  },
  {
   "cell_type": "code",
   "execution_count": 1013,
   "metadata": {},
   "outputs": [],
   "source": [
    "'''Orthogonal Matching pursuit algorithm\n",
    "'''\n",
    "# X_hat = X_hat/(X_hat.norm(dim=1, keepdim=True) + 1e-30)\n",
    "X_hat = X\n",
    "dict = X_hat[0, ...] # consider cloning the tensor\n",
    "\n",
    "\n",
    "chunk_length, n_atoms = dict.shape\n",
    "batch_sz, chunk_length = y.shape\n",
    "n_nonzero_coefs = n_components\n",
    "tau = 1e-30\n",
    "hard = True\n",
    "reg_ = 1e-15\n",
    "\n",
    "# DTD = dict.T @ dict\n",
    "\n",
    "residuals = y.clone().detach() # (batch_sz, chunk_length)\n",
    "residuals.requires_grad = True\n",
    "\n",
    "max_score_indices = []\n",
    "detached_indices = np.zeros((batch_sz, n_nonzero_coefs), dtype=np.int64) # (batch_sz, n_nonzero_coefs)\n",
    "# max_score_indices = y.new_zeros((batch_sz, n_nonzero_coefs, n_atoms), dtype=X.dtype, device=X.device)\n",
    "# sum_collector = torch.zeros((batch_sz, n_atoms), dtype=X.dtype, device=X.device)\n",
    "\n",
    "\n",
    "tolerance = True\n",
    "# Control stop interation with norm thresh or sparsity\n",
    "for i in range(n_nonzero_coefs):\n",
    "    # Compute the score of each atoms\n",
    "    projections = dict.T @ residuals[:, :, None] # (batch_sz, n_atoms, 1)\n",
    "    soft_score_indices = (projections/tau).abs().squeeze(-1).softmax(-1) # (batch_sz, n_atoms)\n",
    "    detached_indices[:, i] = projections.abs().squeeze(-1).argmax(-1).detach().cpu().numpy() # (batch_sz, ) for final W\n",
    "\n",
    "    if hard:\n",
    "        # copied and modified from https://pytorch.org/docs/stable/_modules/torch/nn/functional.html#gumbel_softmax\n",
    "        # Straight through.\n",
    "        index = soft_score_indices.max(-1, keepdim=True)[1]\n",
    "        hard_score_indices = torch.zeros_like(soft_score_indices).scatter_(-1, index, 1.0)\n",
    "        ret = hard_score_indices - soft_score_indices.detach() + soft_score_indices # (batch_sz, n_atoms)  \n",
    "\n",
    "        max_score_indices.append(ret[:, :, None]) # list[(batch_sz, n_atoms)] * i+1\n",
    "        \n",
    "        # update selected_D\n",
    "        selected_D = X_hat @ torch.cat(max_score_indices, dim=2) # (batch_sz, chunk_length, i+1)\n",
    "        \n",
    "        # calculate selected_DTy\n",
    "        selected_DTy = selected_D.permute(0, 2, 1) @ y[:, :, None] # (batch_sz, i+1, 1)\n",
    "\n",
    "        # calculate selected_DTD\n",
    "        selected_DTD = selected_D.permute(0, 2, 1) @ selected_D # (batch_sz, i+1, i+1)\n",
    "\n",
    "        # find W = (selected_DTD)^-1 @ selected_DTy\n",
    "        selected_DTD.diagonal(dim1=-2, dim2=-1).add_(reg_) # TODO: add multipath OMP\n",
    "        # print(i)\n",
    "        nonzero_W = torch.linalg.solve(selected_DTD, selected_DTy) # (batch_sz, i+1, 1)\n",
    "\n",
    "        # finally get residuals r=y-Wx\n",
    "        residuals = y.detach() - (selected_D @ nonzero_W).squeeze(-1) # (batch_sz, chunk_length)                    \n",
    "            \n",
    "    else:\n",
    "        max_score_indices.append(soft_score_indices[:, :, None]) # list[(batch_sz, n_atoms)] * i+1\n",
    "        \n",
    "        # update selected_D\n",
    "        selected_D = X_hat @ torch.cat(max_score_indices, dim=2) # (batch_sz, chunk_length, i+1)\n",
    "        \n",
    "        # calculate selected_DTy\n",
    "        selected_DTy = selected_D.permute(0, 2, 1) @ y[:, :, None] # (batch_sz, i+1, 1)\n",
    "\n",
    "        # calculate selected_DTD\n",
    "        selected_DTD = selected_D.permute(0, 2, 1) @ selected_D # (batch_sz, i+1, i+1)\n",
    "\n",
    "        # find W = (selected_DTD)^-1 @ selected_DTy\n",
    "        # selected_DTD.diagonal(dim1=-2, dim2=-1).add_(reg_) # TODO: add multipath OMP\n",
    "        \n",
    "        nonzero_W = torch.linalg.solve(selected_DTD, selected_DTy) # (batch_sz, i+1, 1)\n",
    "\n",
    "        # finally get residuals r=y-Wx\n",
    "        residuals = y.detach() - (selected_D @ nonzero_W).squeeze(-1) # (batch_sz, chunk_length)        \n",
    "\n",
    "\n",
    "W = torch.zeros(batch_sz, n_atoms, dtype=selected_D.dtype, device=selected_D.device,)\n",
    "W[torch.arange(batch_sz)[:, None], detached_indices] = nonzero_W.squeeze(-1)\n",
    "# aaa=5"
   ]
  },
  {
   "cell_type": "code",
   "execution_count": 1014,
   "metadata": {},
   "outputs": [
    {
     "data": {
      "text/plain": [
       "(None,\n",
       " tensor(4.8279e-07, grad_fn=<LinalgVectorNormBackward0>),\n",
       " tensor(49.4592),\n",
       " array([183, 466, 559, 587, 934, 636, 474, 155, 973, 855]),\n",
       " tensor([[[0., 0., 0.,  ..., 0., 0., 0.],\n",
       "          [0., 0., 0.,  ..., 0., 0., 0.],\n",
       "          [0., 0., 0.,  ..., 0., 0., 0.],\n",
       "          ...,\n",
       "          [0., 0., 0.,  ..., 0., 0., 0.],\n",
       "          [0., 0., 0.,  ..., 0., 0., 0.],\n",
       "          [0., 0., 0.,  ..., 0., 0., 0.]]]))"
      ]
     },
     "execution_count": 1014,
     "metadata": {},
     "output_type": "execute_result"
    }
   ],
   "source": [
    "y_hat = X_hat @ W[..., None]\n",
    "loss = ((y_hat.squeeze(-1)-y)).norm()\n",
    "loss\n",
    "loss.backward(), loss, X_hat.grad.abs().sum(), detached_indices[0,:10], X.grad, "
   ]
  },
  {
   "cell_type": "code",
   "execution_count": 1015,
   "metadata": {},
   "outputs": [
    {
     "data": {
      "text/plain": [
       "(tensor([0., 0., 0., 0., 0., 0., 0., 0., 0., 0.]),\n",
       " tensor([0., 0., 0., 0., 0., 0., 0., 0., 0., 0.]),\n",
       " tensor(0.),\n",
       " tensor(0.))"
      ]
     },
     "execution_count": 1015,
     "metadata": {},
     "output_type": "execute_result"
    }
   ],
   "source": [
    "X_hat.grad[0, :, 78][:10], X_hat.grad[0, :, 230][:10], X_hat.grad[0, :, 78].abs().sum(), X_hat.grad[0, :, 230].abs().sum()"
   ]
  },
  {
   "cell_type": "code",
   "execution_count": 1016,
   "metadata": {},
   "outputs": [
    {
     "data": {
      "text/plain": [
       "(tensor([-0.7782, -2.0803, -2.2727, -0.6221,  1.5539,  1.4381, -0.9455, -0.4810,\n",
       "          0.9848, -0.7148], grad_fn=<SliceBackward0>),\n",
       " tensor([-0.7782, -2.0803, -2.2727, -0.6221,  1.5539,  1.4381, -0.9455, -0.4810,\n",
       "          0.9848, -0.7148], grad_fn=<SliceBackward0>))"
      ]
     },
     "execution_count": 1016,
     "metadata": {},
     "output_type": "execute_result"
    }
   ],
   "source": [
    "W[W!=0][:15], w[w!=0][:15]"
   ]
  },
  {
   "cell_type": "code",
   "execution_count": 1017,
   "metadata": {},
   "outputs": [
    {
     "data": {
      "text/plain": [
       "[<matplotlib.lines.Line2D at 0x7fefd849a6d0>]"
      ]
     },
     "execution_count": 1017,
     "metadata": {},
     "output_type": "execute_result"
    },
    {
     "data": {
      "image/png": "[encoded data removed]",
      "text/plain": [
       "<Figure size 640x480 with 1 Axes>"
      ]
     },
     "metadata": {},
     "output_type": "display_data"
    }
   ],
   "source": [
    "abs_sums = []\n",
    "for i in range(len(detached_indices[0])):\n",
    "    abs_sums.append(X_hat.grad[0, :, detached_indices[0, i]].abs().sum())\n",
    "plt.plot(abs_sums[:])"
   ]
  },
  {
   "cell_type": "code",
   "execution_count": 115,
   "metadata": {},
   "outputs": [],
   "source": [
    "# fake_loss = W.sum() + 100\n",
    "fake_loss = (nonzero_W**1).sum() + 0\n",
    "fake_loss.backward()"
   ]
  },
  {
   "cell_type": "code",
   "execution_count": null,
   "metadata": {},
   "outputs": [],
   "source": [
    "X.grad[0, :, 78], detached_indices,X.grad.abs().sum()"
   ]
  },
  {
   "cell_type": "code",
   "execution_count": 2,
   "metadata": {},
   "outputs": [
    {
     "name": "stdout",
     "output_type": "stream",
     "text": [
      "x: tensor(2., requires_grad=True)\n"
     ]
    },
    {
     "data": {
      "text/plain": [
       "(False, True, True)"
      ]
     },
     "execution_count": 2,
     "metadata": {},
     "output_type": "execute_result"
    }
   ],
   "source": [
    "import torch\n",
    "x = torch.tensor(2.0, requires_grad = True)\n",
    "print(\"x:\", x)\n",
    "y = x**2\n",
    "y.backward()\n",
    "x.grad\n",
    "y.is_leaf, x.is_leaf, x.grad.is_leaf"
   ]
  },
  {
   "cell_type": "code",
   "execution_count": 670,
   "metadata": {},
   "outputs": [
    {
     "data": {
      "text/plain": [
       "tensor([-1.5408,  1.2117,  1.3392, -0.2476,  0.8874, -0.9175,  0.4356,  0.6046,\n",
       "        -2.0075, -0.3002, -0.5613,  1.1176,  1.4062, -0.0574,  0.1614, -0.6855,\n",
       "         0.2678,  0.8091, -0.9437, -1.0636, -1.8954,  0.7429, -0.0113, -0.7047,\n",
       "         1.5529,  0.7159,  0.2365,  0.0320,  0.6710, -0.2902,  1.4943,  1.2897,\n",
       "        -0.8026, -1.0412, -0.2379, -0.4289,  0.3764, -1.0462, -1.1264,  0.4701,\n",
       "         1.4027, -0.2258,  0.0994, -0.0367,  0.2440,  1.1910,  0.3706,  0.5264,\n",
       "         1.4489, -0.4281,  0.3012,  1.2043, -0.5630,  1.0285, -0.2981, -1.8573,\n",
       "        -1.2280, -1.0510, -0.8269, -1.0729,  0.1356,  0.7133,  0.0422,  1.2057,\n",
       "         1.5344, -1.3419, -0.0380,  0.7402, -1.3527, -0.2217,  2.4217, -0.6209,\n",
       "        -0.2137,  0.3353,  0.1102, -0.6201, -1.6132,  0.1191,  0.1394, -0.0561,\n",
       "        -0.4938,  2.1766, -1.3532,  0.2044, -1.6174, -0.8904,  1.3027,  0.7292,\n",
       "         0.3150,  1.3376,  0.1009,  0.5461, -2.3974,  1.6264, -0.1896, -0.7224,\n",
       "        -0.7440,  0.9898, -0.4637, -0.3934,  0.0614,  0.7366,  1.2403, -0.2427,\n",
       "        -0.3837, -1.2817, -0.3566, -0.7473, -0.9672,  0.1831, -0.2627, -1.2858,\n",
       "         0.2873,  1.5062, -0.0683, -1.1253,  0.3272,  2.0892,  1.5431,  0.3289,\n",
       "         1.0886,  0.4305,  0.4469,  0.2880,  1.1550, -0.4048,  0.4201,  0.1696,\n",
       "        -1.1198,  0.4139,  0.9704, -0.7813, -2.6156,  0.8165,  1.4397, -0.0633,\n",
       "        -0.2116, -0.5279, -0.2328, -1.1809, -0.4549,  0.2210,  0.3838,  0.4902,\n",
       "         0.5891, -1.0232,  0.5438, -1.8012,  0.8603,  0.7119,  0.2003,  0.5365,\n",
       "        -1.8237, -0.6780,  1.1432,  0.3813,  0.7832, -1.6020, -1.0148, -1.1166,\n",
       "         2.3496,  0.5338, -0.2390,  0.6100,  0.1470,  1.1454, -0.1552, -1.1014,\n",
       "        -0.8970,  0.2117, -1.4811,  0.1700,  1.7829,  2.0669,  1.5193, -1.5507,\n",
       "         0.1252, -2.0240,  0.0955,  0.7245,  0.8765, -0.1101,  1.8965, -0.6627,\n",
       "        -1.3161,  0.2009, -0.8494, -1.0368, -1.0483, -0.9172,  0.5173, -0.2099,\n",
       "         0.3820, -0.3885,  1.0298,  1.0658, -0.3150,  0.9874, -1.8882, -0.5106],\n",
       "       grad_fn=<IndexBackward0>)"
      ]
     },
     "execution_count": 670,
     "metadata": {},
     "output_type": "execute_result"
    }
   ],
   "source": [
    "w[w!=0]"
   ]
  },
  {
   "cell_type": "code",
   "execution_count": 19,
   "metadata": {},
   "outputs": [
    {
     "data": {
      "text/plain": [
       "tensor([1., 1., 1., 1., 1., 1., 1., 1., 1., 1., 1., 1., 1., 1., 1.],\n",
       "       grad_fn=<IndexBackward0>)"
      ]
     },
     "execution_count": 19,
     "metadata": {},
     "output_type": "execute_result"
    }
   ],
   "source": [
    "torch.cat(max_score_indices, dim=1)[0, :][torch.cat(max_score_indices, dim=1)[0, :]!=0]"
   ]
  },
  {
   "cell_type": "code",
   "execution_count": 669,
   "metadata": {},
   "outputs": [
    {
     "data": {
      "text/plain": [
       "tensor([ 0.3781,  0.5507,  0.0411,  0.4116, -0.3544, -0.3975,  0.3310, -0.5897,\n",
       "         0.5411,  0.4769, -0.1108,  0.6286, -0.5244,  0.0532, -0.6963, -0.4543,\n",
       "        -0.5881, -0.2190,  0.0703, -0.4413,  0.3593,  0.2277, -0.4663, -0.5157,\n",
       "         0.0351,  0.0877, -0.1503, -0.5425,  0.0225,  0.1120, -0.4264,  0.5205,\n",
       "        -0.4977,  0.3502, -0.0114, -0.3009,  0.2730,  0.0585,  0.5792,  0.1418,\n",
       "        -0.2939,  0.3730, -0.2957,  0.3881, -0.1518,  0.5543, -0.0378,  0.0041,\n",
       "        -0.3575,  0.2728, -0.1623, -0.3832, -0.5734, -0.5295, -0.1485, -0.0939,\n",
       "        -0.2373,  0.4941, -0.3694,  0.6005, -0.5624, -0.3042,  0.4301,  0.3673,\n",
       "        -0.4097, -0.4645,  0.2106,  0.5288, -0.4540, -0.4228, -0.4433,  0.2331,\n",
       "        -0.4318, -0.4201,  0.1485, -0.6147,  0.5219,  0.1050,  0.4204, -0.1920,\n",
       "        -0.1441,  0.4040,  0.4054,  0.4164, -0.7370, -0.4144,  0.0559, -0.1843,\n",
       "        -0.4349, -0.0398,  0.4193,  0.5104, -0.1027,  0.4634, -0.2689, -0.3532,\n",
       "         0.0082, -0.4478,  0.0118,  0.4786,  0.3983, -0.4113,  0.5193,  0.4283,\n",
       "         0.0878,  0.0413, -0.1211,  0.3693,  0.4060, -0.3742, -0.2221, -0.5386,\n",
       "         0.2877,  0.1001,  0.3205, -0.3527, -0.3723,  0.1723, -0.6162,  0.3278,\n",
       "         0.4245,  0.2520, -0.4410,  0.3365, -0.2775,  0.4979, -0.1065,  0.5025,\n",
       "         0.3243, -0.3457,  0.0380, -0.4846, -0.1459,  0.4385,  0.4480,  0.4802,\n",
       "         0.2108,  0.4071,  0.3197,  0.5530, -0.2913, -0.1851, -0.0470,  0.4192,\n",
       "         0.5848, -0.2310, -0.4926,  0.4492,  0.2995,  0.3027,  0.4144,  0.2193,\n",
       "         0.1217,  0.3576,  0.6525, -0.3780,  0.3946, -0.0303, -0.7048, -0.2594,\n",
       "         0.3073,  0.4010,  0.1378,  0.3512, -0.6655,  0.1737, -0.3685, -0.0297,\n",
       "         0.5371,  0.2749, -0.1555, -0.2475,  0.1611], grad_fn=<IndexBackward0>)"
      ]
     },
     "execution_count": 669,
     "metadata": {},
     "output_type": "execute_result"
    }
   ],
   "source": [
    "W[W!=0]"
   ]
  },
  {
   "cell_type": "markdown",
   "metadata": {},
   "source": [
    "### grid_sample differentiable"
   ]
  },
  {
   "cell_type": "code",
   "execution_count": 6,
   "metadata": {},
   "outputs": [
    {
     "name": "stdout",
     "output_type": "stream",
     "text": [
      "tensor([[[[5., 6.]]]], grad_fn=<GridSampler2DBackward0>) torch.Size([1, 1, 1, 2])\n"
     ]
    }
   ],
   "source": [
    "import torch\n",
    "import torch.nn.functional as F\n",
    "src = torch.arange(25, dtype=torch.float).reshape(1, 1, 5, 5).requires_grad_()  # 1 x 1 x 6 x 5 with 0 ... 30\n",
    "indices = torch.tensor([[-1, 0],[1, 1]], dtype=torch.float).reshape(1, 1, -1, 2)  # 1 x 1 x 2 x 2\n",
    "output = F.grid_sample(src, indices)\n",
    "print(output, output.shape)  # tensor([[[[  0.,  12.]]]])"
   ]
  },
  {
   "cell_type": "code",
   "execution_count": 77,
   "metadata": {},
   "outputs": [
    {
     "data": {
      "text/plain": [
       "tensor([[[[ 0.,  1.,  2.,  3.,  4.],\n",
       "          [ 5.,  6.,  7.,  8.,  9.],\n",
       "          [10., 11., 12., 13., 14.],\n",
       "          [15., 16., 17., 18., 19.],\n",
       "          [20., 21., 22., 23., 24.]]]], requires_grad=True)"
      ]
     },
     "execution_count": 77,
     "metadata": {},
     "output_type": "execute_result"
    }
   ],
   "source": [
    "src"
   ]
  },
  {
   "cell_type": "code",
   "execution_count": 75,
   "metadata": {},
   "outputs": [
    {
     "data": {
      "text/plain": [
       "tensor([[[[0.0000, 0.5000]]]])"
      ]
     },
     "execution_count": 75,
     "metadata": {},
     "output_type": "execute_result"
    }
   ],
   "source": [
    "indices"
   ]
  },
  {
   "cell_type": "code",
   "execution_count": 45,
   "metadata": {},
   "outputs": [
    {
     "name": "stdout",
     "output_type": "stream",
     "text": [
      "tensor([[0., 1., 2.],\n",
      "        [3., 4., 5.]], grad_fn=<DivBackward0>)\n",
      "tensor([-4.5000,  9.0000])\n"
     ]
    }
   ],
   "source": [
    "import torch\n",
    "from torch.autograd import Variable\n",
    "\n",
    "torch.manual_seed(0)\n",
    "x = Variable(torch.arange(9, dtype=torch.float).reshape(-1,3), requires_grad=True)\n",
    "idx = Variable(torch.FloatTensor([0,1]), requires_grad=True)\n",
    "\n",
    "\n",
    "i0 = idx.floor().detach()\n",
    "i1 = i0 + 1\n",
    "i_1 = i0 - 1\n",
    "\n",
    "y0 = x[i0.long(), :]\n",
    "y1 = x[i1.long(), :]\n",
    "y_1 = x[i_1.long(), :]\n",
    "\n",
    "Wa = (i1 - idx).unsqueeze(1).expand_as(y0)\n",
    "Wb = (idx - i0).unsqueeze(1).expand_as(y1)\n",
    "Wa2 = (idx - i_1).unsqueeze(1).expand_as(y_1)\n",
    "Wb2 = (i0 - idx).unsqueeze(1).expand_as(y_1)\n",
    "\n",
    "out = (Wa * y0 + Wb * y1 + Wa2 * y0 + Wb2 * y_1)/2\n",
    "\n",
    "print(out)\n",
    "out.sum().backward()\n",
    "print(idx.grad)"
   ]
  },
  {
   "cell_type": "code",
   "execution_count": 46,
   "metadata": {},
   "outputs": [
    {
     "data": {
      "text/plain": [
       "(tensor([[1., 1., 1.],\n",
       "         [1., 1., 1.]], grad_fn=<ExpandBackward0>),\n",
       " tensor([[0., 0., 0.],\n",
       "         [0., 0., 0.]], grad_fn=<ExpandBackward0>))"
      ]
     },
     "execution_count": 46,
     "metadata": {},
     "output_type": "execute_result"
    }
   ],
   "source": [
    "y0, y1\n",
    "Wa2, Wb2"
   ]
  },
  {
   "cell_type": "code",
   "execution_count": 48,
   "metadata": {},
   "outputs": [
    {
     "data": {
      "text/plain": [
       "tensor([[6., 7., 8.],\n",
       "        [0., 1., 2.]], grad_fn=<IndexBackward0>)"
      ]
     },
     "execution_count": 48,
     "metadata": {},
     "output_type": "execute_result"
    }
   ],
   "source": [
    "y_1"
   ]
  },
  {
   "cell_type": "code",
   "execution_count": 49,
   "metadata": {},
   "outputs": [
    {
     "data": {
      "text/plain": [
       "tensor([[0., 1., 2.],\n",
       "        [3., 4., 5.],\n",
       "        [6., 7., 8.]], requires_grad=True)"
      ]
     },
     "execution_count": 49,
     "metadata": {},
     "output_type": "execute_result"
    }
   ],
   "source": [
    "x"
   ]
  },
  {
   "cell_type": "code",
   "execution_count": 78,
   "metadata": {},
   "outputs": [
    {
     "data": {
      "text/plain": [
       "tensor([[[[0., 1., 2.],\n",
       "          [3., 4., 5.],\n",
       "          [6., 7., 8.]]]], grad_fn=<ReshapeAliasBackward0>)"
      ]
     },
     "execution_count": 78,
     "metadata": {},
     "output_type": "execute_result"
    }
   ],
   "source": [
    "xx = x.reshape(1,1,3,3)\n",
    "xx"
   ]
  },
  {
   "cell_type": "code",
   "execution_count": 81,
   "metadata": {},
   "outputs": [
    {
     "name": "stderr",
     "output_type": "stream",
     "text": [
      "/home/mahdigilany/anaconda3/envs/borealis/lib/python3.9/site-packages/torch/nn/functional.py:4236: UserWarning: Default grid_sample and affine_grid behavior has changed to align_corners=False since 1.3.0. Please specify align_corners=True if the old behavior is desired. See the documentation of grid_sample for details.\n",
      "  warnings.warn(\n"
     ]
    },
    {
     "data": {
      "text/plain": [
       "tensor([[[[0.5000]]]], grad_fn=<GridSampler2DBackward0>)"
      ]
     },
     "execution_count": 81,
     "metadata": {},
     "output_type": "execute_result"
    }
   ],
   "source": [
    "\n",
    "grid = torch.tensor([0, -1.]).reshape(1,1,1,2).float()\n",
    "F.grid_sample(xx, grid)"
   ]
  },
  {
   "cell_type": "code",
   "execution_count": 124,
   "metadata": {},
   "outputs": [
    {
     "name": "stdout",
     "output_type": "stream",
     "text": [
      "tensor([[[[ 0.,  1.,  2.,  3.,  4.],\n",
      "          [ 5.,  6.,  7.,  8.,  9.],\n",
      "          [10., 11., 12., 13., 14.],\n",
      "          [15., 16., 17., 18., 19.],\n",
      "          [20., 21., 22., 23., 24.]]]])\n",
      "tensor([[[[ 0.0000,  0.4444,  0.8889,  1.3333,  1.7778,  2.2222,  2.6667,\n",
      "            3.1111,  3.5556,  4.0000],\n",
      "          [ 2.2222,  2.6667,  3.1111,  3.5556,  4.0000,  4.4444,  4.8889,\n",
      "            5.3333,  5.7778,  6.2222],\n",
      "          [ 4.4444,  4.8889,  5.3333,  5.7778,  6.2222,  6.6667,  7.1111,\n",
      "            7.5556,  8.0000,  8.4444],\n",
      "          [ 6.6667,  7.1111,  7.5556,  8.0000,  8.4444,  8.8889,  9.3333,\n",
      "            9.7778, 10.2222, 10.6667],\n",
      "          [ 8.8889,  9.3333,  9.7778, 10.2222, 10.6667, 11.1111, 11.5556,\n",
      "           12.0000, 12.4444, 12.8889],\n",
      "          [11.1111, 11.5556, 12.0000, 12.4444, 12.8889, 13.3333, 13.7778,\n",
      "           14.2222, 14.6667, 15.1111],\n",
      "          [13.3333, 13.7778, 14.2222, 14.6667, 15.1111, 15.5556, 16.0000,\n",
      "           16.4444, 16.8889, 17.3333],\n",
      "          [15.5556, 16.0000, 16.4444, 16.8889, 17.3333, 17.7778, 18.2222,\n",
      "           18.6667, 19.1111, 19.5556],\n",
      "          [17.7778, 18.2222, 18.6667, 19.1111, 19.5556, 20.0000, 20.4444,\n",
      "           20.8889, 21.3333, 21.7778],\n",
      "          [20.0000, 20.4444, 20.8889, 21.3333, 21.7778, 22.2222, 22.6667,\n",
      "           23.1111, 23.5556, 24.0000]]]])\n"
     ]
    }
   ],
   "source": [
    "input = torch.arange(5*5).view(1, 1, 5, 5).float()\n",
    "print(input)\n",
    "\n",
    "# Create grid to upsample input\n",
    "d = torch.linspace(-1, 1, 10)\n",
    "meshx, meshy = torch.meshgrid((d, d))\n",
    "grid = torch.stack((meshy, meshx), 2)\n",
    "grid = grid.unsqueeze(0) # add batch dim\n",
    "\n",
    "output = torch.nn.functional.grid_sample(input, grid, align_corners=True)\n",
    "print(output)"
   ]
  },
  {
   "cell_type": "code",
   "execution_count": 130,
   "metadata": {},
   "outputs": [
    {
     "data": {
      "text/plain": [
       "tensor([[0., 1., 2., 3., 4.]])"
      ]
     },
     "execution_count": 130,
     "metadata": {},
     "output_type": "execute_result"
    }
   ],
   "source": [
    "input.reshape(1,5,1,5)[0,0,...]"
   ]
  },
  {
   "cell_type": "code",
   "execution_count": 136,
   "metadata": {},
   "outputs": [
    {
     "data": {
      "text/plain": [
       "torch.Size([1, 5, 1, 1])"
      ]
     },
     "execution_count": 136,
     "metadata": {},
     "output_type": "execute_result"
    }
   ],
   "source": [
    "grid = torch.tensor([-1, 0]).reshape(1,1,1,2).float()\n",
    "F.grid_sample(input.reshape(1,5,1,5), grid, align_corners=True).shape"
   ]
  },
  {
   "cell_type": "code",
   "execution_count": null,
   "metadata": {},
   "outputs": [],
   "source": [
    "'''Orthogonal Matching pursuit algorithm\n",
    "'''\n",
    "dict = X_hat[0, ...] # consider cloning the tensor\n",
    "\n",
    "chunk_length, n_atoms = dict.shape\n",
    "batch_sz, chunk_length = y.shape\n",
    "n_nonzero_coefs = 15\n",
    "tau = 1e-3\n",
    "hard = True\n",
    "\n",
    "# DTD = dict.T @ dict\n",
    "\n",
    "residuals = y.clone().detach() # (batch_sz, chunk_length)\n",
    "residuals.requires_grad = True\n",
    "# max_score_indices = y.new_zeros((batch_sz, n_nonzero_coefs, n_atoms), dtype=X.dtype, device=X.device)\n",
    "max_score_indices = []\n",
    "detached_indices = np.zeros((batch_sz, n_nonzero_coefs), dtype=np.int64) # (batch_sz, n_nonzero_coefs)\n",
    "\n",
    "\n",
    "tolerance = True\n",
    "# Control stop interation with norm thresh or sparsity\n",
    "for i in range(n_nonzero_coefs): \n",
    "    # Compute the score of each atoms\n",
    "    projections = dict.T @ residuals[:, :, None] # (batch_sz, n_atoms, 1)\n",
    "\n",
    "    detached_indices[:, i] = projections.abs().squeeze(-1).argmax(-1).detach().cpu().numpy()\n",
    "    soft_score_indices = (projections/tau).abs().squeeze(-1).softmax(-1) # (batch_sz, n_atoms)\n",
    "    if hard:\n",
    "        # copied and modified from https://pytorch.org/docs/stable/_modules/torch/nn/functional.html#gumbel_softmax\n",
    "        # Straight through.\n",
    "        index = soft_score_indices.max(-1, keepdim=True)[1]\n",
    "        hard_score_indices = torch.zeros_like(soft_score_indices).scatter_(-1, index, 1.0)\n",
    "        ret = hard_score_indices - soft_score_indices.detach() + soft_score_indices   \n",
    "        # max_score_indices[:, i] = ret\n",
    "        max_score_indices.append(ret[:, None, :])\n",
    "    else:\n",
    "        max_score_indices.append(soft_score_indices[:, None, :])\n",
    "    \n",
    "    # update selected_D torch.cat(max_score_indices, dim=1)\n",
    "    _selected_D = X_hat[:, None, ...] * torch.cat(max_score_indices, dim=1)[:, :i+1, None, :] # max_score_indices[:, :i+1, None, :] # (batch_sz, i+1, chunk_length, n_atoms)\n",
    "    _selected_D = _selected_D.permute(0, 2, 1, 3) # (batch_sz, chunk_length, i+1, n_atoms)\n",
    "    ind_0 = torch.arange(batch_sz)[:, None, None]\n",
    "    ind_1 = torch.arange(chunk_length)[None, :, None]\n",
    "    ind_2 = torch.arange(i+1)[None, None, :]\n",
    "    selected_D = _selected_D[ind_0, ind_1, ind_2, detached_indices[:, None, :i+1]] # (batch_sz, chunk_length, i+1)\n",
    "    \n",
    "    # s_D = dict[torch.arange(chunk_length)[:, None], detached_indices[:, :i+1]] # (chunk_length, i+1)\n",
    "\n",
    "    # calculate selected_DTy\n",
    "    selected_DTy = selected_D.permute(0, 2, 1) @ y[:, :, None] # (batch_sz, i+1, 1)\n",
    "\n",
    "    # calculate selected_DTD\n",
    "    selected_DTD = selected_D.permute(0, 2, 1) @ selected_D # (batch_sz, i+1, i+1)\n",
    "\n",
    "    # find W = (selected_DTD)^-1 @ selected_DTy\n",
    "    # selected_DTD.diagonal(dim1=-2, dim2=-1).add_(1.) # TODO: add multipath OMP\n",
    "    nonzero_W = torch.linalg.solve(selected_DTD, selected_DTy) # (batch_sz, i+1, 1)\n",
    "\n",
    "    # finally get residuals r=y-Wx\n",
    "    residuals = y.detach() - (selected_D @ nonzero_W).squeeze(-1) # (batch_sz, chunk_length, 1)\n",
    "\n",
    "W = torch.zeros(batch_sz, n_atoms, dtype=selected_D.dtype, device=selected_D.device)\n",
    "W[torch.arange(batch_sz)[:, None], detached_indices] = nonzero_W.squeeze(-1)    \n"
   ]
  }
 ],
 "metadata": {
  "kernelspec": {
   "display_name": "borealis",
   "language": "python",
   "name": "python3"
  },
  "language_info": {
   "codemirror_mode": {
    "name": "ipython",
    "version": 3
   },
   "file_extension": ".py",
   "mimetype": "text/x-python",
   "name": "python",
   "nbconvert_exporter": "python",
   "pygments_lexer": "ipython3",
   "version": "3.9.16"
  },
  "orig_nbformat": 4
 },
 "nbformat": 4,
 "nbformat_minor": 2
}
