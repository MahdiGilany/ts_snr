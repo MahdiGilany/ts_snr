{
 "cells": [
  {
   "cell_type": "code",
   "execution_count": 1,
   "metadata": {},
   "outputs": [],
   "source": [
    "import os\n",
    "import torch\n",
    "import torch.utils\n",
    "import torch.utils.data\n",
    "from sklearn.datasets import make_sparse_coded_signal\n",
    "import matplotlib.pyplot as plt\n",
    "import numpy as np\n",
    "from sklearn.linear_model import OrthogonalMatchingPursuit\n",
    "from contextlib import contextmanager\n",
    "from timeit import default_timer\n",
    "# from test_omp import omp_naive\n",
    "# from test import *  # FIXME: better name\n"
   ]
  },
  {
   "cell_type": "code",
   "execution_count": 2,
   "metadata": {},
   "outputs": [
    {
     "name": "stderr",
     "output_type": "stream",
     "text": [
      "/home/mahdigilany/anaconda3/envs/borealis/lib/python3.9/site-packages/sklearn/datasets/_samples_generator.py:1335: FutureWarning: The default value of data_transposed will change from True to False in version 1.3\n",
      "  warnings.warn(\n",
      "/tmp/ipykernel_690822/4139755794.py:11: UserWarning: The use of `x.T` on tensors of dimension other than 2 to reverse their shape is deprecated and it will throw an error in a future release. Consider `x.mT` to transpose batches of matrices or `x.permute(*torch.arange(x.ndim - 1, -1, -1))` to reverse the dimensions of a tensor. (Triggered internally at ../aten/src/ATen/native/TensorShape.cpp:3571.)\n",
      "  w = torch.tensor(w_0, dtype=torch.float32, requires_grad=requires_grad).T.detach()\n"
     ]
    },
    {
     "data": {
      "text/plain": [
       "(torch.Size([1, 96]),\n",
       " torch.Size([1, 96, 256]),\n",
       " torch.Size([256]),\n",
       " True,\n",
       " True,\n",
       " True)"
      ]
     },
     "execution_count": 2,
     "metadata": {},
     "output_type": "execute_result"
    }
   ],
   "source": [
    "y_0, X_0, w_0 = make_sparse_coded_signal(\n",
    "    n_samples=1,\n",
    "    n_components=256,\n",
    "    n_features=96,\n",
    "    n_nonzero_coefs=15,\n",
    "    random_state=4)\n",
    "\n",
    "requires_grad = True\n",
    "y = torch.tensor(y_0, dtype=torch.float32, requires_grad=requires_grad).reshape(y_0.shape[0], -1).T.detach()\n",
    "X = torch.tensor(X_0, dtype=torch.float32, requires_grad=requires_grad).reshape(1, X_0.shape[0], -1).detach()\n",
    "w = torch.tensor(w_0, dtype=torch.float32, requires_grad=requires_grad).T.detach()\n",
    "\n",
    "# y_hat = X @ w\n",
    "y.shape, X.shape, w.shape, y.is_leaf, X.is_leaf, w.is_leaf\n",
    "# ((y_hat-y)**2).sum()"
   ]
  },
  {
   "cell_type": "code",
   "execution_count": 36,
   "metadata": {},
   "outputs": [],
   "source": [
    "'''Orthogonal Matching pursuit algorithm\n",
    "'''\n",
    "dict = X[0, ...] # consider cloning the tensor\n",
    "\n",
    "chunk_length, n_atoms = dict.shape\n",
    "batch_sz, chunk_length = y.shape\n",
    "n_nonzero_coefs = 15\n",
    "tau = 0.1\n",
    "hard = True\n",
    "\n",
    "# DTD = dict.T @ dict\n",
    "\n",
    "residuals = y.clone().detach() # (batch_sz, chunk_length)\n",
    "residuals.requires_grad = True\n",
    "# max_score_indices = y.new_zeros((batch_sz, n_nonzero_coefs, n_atoms), dtype=X.dtype, device=X.device)\n",
    "max_score_indices = []\n",
    "detached_indices = np.zeros((batch_sz, n_nonzero_coefs), dtype=np.int64) # (batch_sz, n_nonzero_coefs)\n",
    "\n",
    "\n",
    "tolerance = True\n",
    "# Control stop interation with norm thresh or sparsity\n",
    "for i in range(n_nonzero_coefs): \n",
    "    # Compute the score of each atoms\n",
    "    projections = dict.T @ residuals[:, :, None] # (batch_sz, n_atoms, 1)\n",
    "\n",
    "    detached_indices[:, i] = projections.abs().squeeze(-1).argmax(-1).detach().cpu().numpy()\n",
    "    soft_score_indices = (projections/tau).abs().squeeze(-1).softmax(-1) # (batch_sz, n_atoms)\n",
    "    if hard:\n",
    "        # copied and modified from https://pytorch.org/docs/stable/_modules/torch/nn/functional.html#gumbel_softmax\n",
    "        # Straight through.\n",
    "        index = soft_score_indices.max(-1, keepdim=True)[1]\n",
    "        hard_score_indices = torch.zeros_like(soft_score_indices).scatter_(-1, index, 1.0)\n",
    "        ret = hard_score_indices - soft_score_indices.detach() + soft_score_indices   \n",
    "        # max_score_indices[:, i] = ret\n",
    "        max_score_indices.append(ret[:, None, :])\n",
    "    else:\n",
    "        max_score_indices.append(soft_score_indices[:, None, :])\n",
    "    \n",
    "    # update selected_D torch.cat(max_score_indices, dim=1)\n",
    "    _selected_D = X[:, None, ...] * torch.cat(max_score_indices, dim=1)[:, :i+1, None, :] # max_score_indices[:, :i+1, None, :] # (batch_sz, i+1, chunk_length, n_atoms)\n",
    "    _selected_D = _selected_D.permute(0, 2, 1, 3) # (batch_sz, chunk_length, i+1, n_atoms)\n",
    "    ind_0 = torch.arange(batch_sz)[:, None, None]\n",
    "    ind_1 = torch.arange(chunk_length)[None, :, None]\n",
    "    ind_2 = torch.arange(i+1)[None, None, :]\n",
    "    selected_D = _selected_D[ind_0, ind_1, ind_2, detached_indices[:, None, :i+1]] # (batch_sz, chunk_length, i+1)\n",
    "    \n",
    "    s_D = dict[torch.arange(chunk_length)[:, None], detached_indices[:, :i+1]] # (chunk_length, i+1)\n",
    "\n",
    "    # calculate selected_DTy\n",
    "    selected_DTy = selected_D.permute(0, 2, 1) @ y[:, :, None] # (batch_sz, i+1, 1)\n",
    "\n",
    "    # calculate selected_DTD\n",
    "    selected_DTD = selected_D.permute(0, 2, 1) @ selected_D # (batch_sz, i+1, i+1)\n",
    "\n",
    "    # find W = (selected_DTD)^-1 @ selected_DTy\n",
    "    # selected_DTD.diagonal(dim1=-2, dim2=-1).add_(1.) # TODO: add multipath OMP\n",
    "    nonzero_W = torch.linalg.solve(selected_DTD, selected_DTy) # (batch_sz, i+1, 1)\n",
    "\n",
    "    # finally get residuals r=y-Wx\n",
    "    residuals = y - (selected_D @ nonzero_W).squeeze() # (batch_sz, chunk_length, 1)\n",
    "\n",
    "W = torch.zeros(batch_sz, n_atoms, dtype=selected_D.dtype, device=selected_D.device)\n",
    "W[torch.arange(batch_sz)[:, None], detached_indices] = nonzero_W.squeeze()    \n"
   ]
  },
  {
   "cell_type": "code",
   "execution_count": 28,
   "metadata": {},
   "outputs": [],
   "source": [
    "# fake_loss = W.sum() + 100\n",
    "fake_loss = (nonzero_W**5).sum() + 100\n",
    "fake_loss.backward()"
   ]
  },
  {
   "cell_type": "code",
   "execution_count": 30,
   "metadata": {},
   "outputs": [
    {
     "data": {
      "text/plain": [
       "tensor(0.0102)"
      ]
     },
     "execution_count": 30,
     "metadata": {},
     "output_type": "execute_result"
    }
   ],
   "source": [
    "z.grad"
   ]
  },
  {
   "cell_type": "code",
   "execution_count": 29,
   "metadata": {},
   "outputs": [
    {
     "data": {
      "text/plain": [
       "(False, True, True, False, True, True)"
      ]
     },
     "execution_count": 29,
     "metadata": {},
     "output_type": "execute_result"
    }
   ],
   "source": [
    "residuals.is_leaf, X.is_leaf, y.is_leaf, W.is_leaf, dict.is_leaf, z.is_leaf"
   ]
  },
  {
   "cell_type": "code",
   "execution_count": 47,
   "metadata": {},
   "outputs": [
    {
     "name": "stdout",
     "output_type": "stream",
     "text": [
      "x: tensor(2., requires_grad=True)\n"
     ]
    },
    {
     "data": {
      "text/plain": [
       "(False, True, True)"
      ]
     },
     "execution_count": 47,
     "metadata": {},
     "output_type": "execute_result"
    }
   ],
   "source": [
    "x = torch.tensor(2.0, requires_grad = True)\n",
    "print(\"x:\", x)\n",
    "y = x**2\n",
    "y.backward()\n",
    "x.grad\n",
    "y.is_leaf, x.is_leaf, x.grad.is_leaf"
   ]
  },
  {
   "cell_type": "code",
   "execution_count": 6,
   "metadata": {},
   "outputs": [
    {
     "data": {
      "text/plain": [
       "tensor([ 0.6459,  1.4198, -0.1485, -1.1357,  0.8393,  1.0694, -0.0308, -0.0098,\n",
       "         0.2885,  0.1948, -0.3049,  1.1214,  1.3752,  0.2172,  0.2122],\n",
       "       grad_fn=<IndexBackward0>)"
      ]
     },
     "execution_count": 6,
     "metadata": {},
     "output_type": "execute_result"
    }
   ],
   "source": [
    "w[w!=0]"
   ]
  },
  {
   "cell_type": "code",
   "execution_count": 7,
   "metadata": {},
   "outputs": [
    {
     "data": {
      "text/plain": [
       "tensor([1., 1., 1., 1., 1., 1., 1., 1., 1., 1., 1., 1., 1., 1., 1.],\n",
       "       grad_fn=<IndexBackward0>)"
      ]
     },
     "execution_count": 7,
     "metadata": {},
     "output_type": "execute_result"
    }
   ],
   "source": [
    "torch.cat(max_score_indices, dim=1)[0, :][torch.cat(max_score_indices, dim=1)[0, :]!=0]"
   ]
  },
  {
   "cell_type": "code",
   "execution_count": 13,
   "metadata": {},
   "outputs": [
    {
     "data": {
      "text/plain": [
       "tensor([ 0.6459,  1.4198, -0.1485, -1.1357,  0.8393,  1.0694, -0.0308, -0.0098,\n",
       "         0.2885,  0.1948, -0.3049,  1.1214,  1.3752,  0.2172,  0.2122],\n",
       "       grad_fn=<IndexBackward0>)"
      ]
     },
     "execution_count": 13,
     "metadata": {},
     "output_type": "execute_result"
    }
   ],
   "source": [
    "W[W!=0]"
   ]
  }
 ],
 "metadata": {
  "kernelspec": {
   "display_name": "borealis",
   "language": "python",
   "name": "python3"
  },
  "language_info": {
   "codemirror_mode": {
    "name": "ipython",
    "version": 3
   },
   "file_extension": ".py",
   "mimetype": "text/x-python",
   "name": "python",
   "nbconvert_exporter": "python",
   "pygments_lexer": "ipython3",
   "version": "3.9.16"
  },
  "orig_nbformat": 4
 },
 "nbformat": 4,
 "nbformat_minor": 2
}
