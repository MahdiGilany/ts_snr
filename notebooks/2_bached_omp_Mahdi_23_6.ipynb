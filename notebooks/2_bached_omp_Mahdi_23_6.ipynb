{
 "cells": [
  {
   "cell_type": "code",
   "execution_count": 119,
   "metadata": {},
   "outputs": [],
   "source": [
    "import os\n",
    "import torch\n",
    "import torch.utils\n",
    "import torch.utils.data\n",
    "from sklearn.datasets import make_sparse_coded_signal\n",
    "import matplotlib.pyplot as plt\n",
    "import numpy as np\n",
    "from sklearn.linear_model import OrthogonalMatchingPursuit\n",
    "from contextlib import contextmanager\n",
    "from timeit import default_timer\n",
    "# from test_omp import omp_naive\n",
    "# from test import *  # FIXME: better name\n"
   ]
  },
  {
   "cell_type": "code",
   "execution_count": 120,
   "metadata": {},
   "outputs": [
    {
     "name": "stderr",
     "output_type": "stream",
     "text": [
      "/home/mahdigilany/anaconda3/envs/borealis/lib/python3.9/site-packages/sklearn/datasets/_samples_generator.py:1335: FutureWarning: The default value of data_transposed will change from True to False in version 1.3\n",
      "  warnings.warn(\n"
     ]
    }
   ],
   "source": [
    "y_0, X_0, w_0 = make_sparse_coded_signal(\n",
    "    n_samples=1,\n",
    "    n_components=256,\n",
    "    n_features=96,\n",
    "    n_nonzero_coefs=15,\n",
    "    random_state=4)\n"
   ]
  },
  {
   "cell_type": "code",
   "execution_count": 131,
   "metadata": {},
   "outputs": [
    {
     "data": {
      "text/plain": [
       "(torch.Size([1, 96]), torch.Size([1, 96, 256]), torch.Size([1, 256, 1]))"
      ]
     },
     "execution_count": 131,
     "metadata": {},
     "output_type": "execute_result"
    }
   ],
   "source": [
    "requires_grad = True\n",
    "y = torch.tensor(y_0, dtype=torch.float32, requires_grad=requires_grad).reshape(1, -1)\n",
    "X = torch.tensor(X_0, dtype=torch.float32, requires_grad=requires_grad).reshape(1, X_0.shape[0], -1)\n",
    "w = torch.tensor(w_0, dtype=torch.float32, requires_grad=requires_grad).reshape(1, -1, 1)\n",
    "\n",
    "# y_hat = X @ w\n",
    "y.shape, X.shape, w.shape\n",
    "# ((y_hat-y)**2).sum()"
   ]
  },
  {
   "cell_type": "code",
   "execution_count": 132,
   "metadata": {},
   "outputs": [],
   "source": [
    "'''Orthogonal Matching pursuit algorithm\n",
    "'''\n",
    "dict = X[0, ...] # consider cloning the tensor\n",
    "\n",
    "chunk_length, n_atoms = dict.shape\n",
    "batch_sz, chunk_length = y.shape\n",
    "n_nonzero_coefs = 15\n",
    "tau = 0.01\n",
    "hard = True\n",
    "\n",
    "# DTD = dict.T @ dict\n",
    "\n",
    "residuals = y.clone() # (batch_sz, chunk_length)\n",
    "max_score_indices = y.new_zeros((batch_sz, n_nonzero_coefs, n_atoms), dtype=torch.long) \n",
    "detached_indices = y.new_zeros((batch_sz, n_nonzero_coefs), dtype=torch.long) # (batch_sz, n_nonzero_coefs)"
   ]
  },
  {
   "cell_type": "code",
   "execution_count": 133,
   "metadata": {},
   "outputs": [],
   "source": [
    "i=0\n",
    "# Compute the score of each atoms\n",
    "projections = dict.T @ residuals[:, :, None] # (batch_sz, n_atoms, 1)\n",
    "\n",
    "detached_indices[:, i] = projections.abs().squeeze(-1).argmax(-1).detach()\n",
    "soft_score_indices = (projections/tau).squeeze(-1).softmax(-1) # (batch_sz, n_atoms)\n",
    "if hard:\n",
    "    # copied and modified from https://pytorch.org/docs/stable/_modules/torch/nn/functional.html#gumbel_softmax\n",
    "    # Straight through.\n",
    "    index = soft_score_indices.max(-1, keepdim=True)[1]\n",
    "    hard_score_indices = torch.zeros_like(soft_score_indices).scatter_(-1, index, 1.0)\n",
    "    ret = hard_score_indices - soft_score_indices.detach() + soft_score_indices   \n",
    "    max_score_indices[:, i] = ret\n",
    "else:\n",
    "    max_score_indices[:, i] = soft_score_indices"
   ]
  },
  {
   "cell_type": "code",
   "execution_count": 134,
   "metadata": {},
   "outputs": [
    {
     "data": {
      "text/plain": [
       "(torch.Size([1, 15, 256]), torch.Size([1, 96, 256]), torch.Size([1, 96]))"
      ]
     },
     "execution_count": 134,
     "metadata": {},
     "output_type": "execute_result"
    }
   ],
   "source": [
    "max_score_indices.shape, X.shape, residuals.shape "
   ]
  },
  {
   "cell_type": "code",
   "execution_count": 135,
   "metadata": {},
   "outputs": [
    {
     "data": {
      "text/plain": [
       "torch.Size([1, 15])"
      ]
     },
     "execution_count": 135,
     "metadata": {},
     "output_type": "execute_result"
    }
   ],
   "source": [
    "detached_indices.shape"
   ]
  },
  {
   "cell_type": "code",
   "execution_count": 136,
   "metadata": {},
   "outputs": [
    {
     "data": {
      "text/plain": [
       "torch.Size([1, 1, 96, 256])"
      ]
     },
     "execution_count": 136,
     "metadata": {},
     "output_type": "execute_result"
    }
   ],
   "source": [
    "selected_D = X[:, None, ...] * max_score_indices[:, :i+1, None, :] # (batch_sz, i+1, chunk_length, n_atoms)\n",
    "selected_D.shape"
   ]
  },
  {
   "cell_type": "code",
   "execution_count": 137,
   "metadata": {},
   "outputs": [
    {
     "data": {
      "text/plain": [
       "torch.Size([1, 96, 1])"
      ]
     },
     "execution_count": 137,
     "metadata": {},
     "output_type": "execute_result"
    }
   ],
   "source": [
    "selected_D = selected_D.permute(0, 2, 1, 3) # (batch_sz, chunk_length, i+1, n_atoms)\n",
    "ind_0 = torch.arange(batch_sz)[:, None, None]\n",
    "ind_1 = torch.arange(chunk_length)[None, :, None]\n",
    "ind_2 = torch.arange(i+1)[None, None, :]\n",
    "selected_D = selected_D[ind_0, ind_1, ind_2, detached_indices[:, None, :i+1]] # (batch_sz, chunk_length, i+1)\n",
    "selected_D.shape"
   ]
  },
  {
   "cell_type": "code",
   "execution_count": 139,
   "metadata": {},
   "outputs": [],
   "source": [
    "# calculate selected_DTy\n",
    "selected_DTy = selected_D.permute(0, 2, 1) @ residuals[:, :, None] # (batch_sz, i+1, 1)\n",
    "\n",
    "# calculate selected_DTD\n",
    "selected_DTD = selected_D.permute(0, 2, 1) @ selected_D # (batch_sz, i+1, i+1)\n",
    "\n",
    "# find W = (selected_DTD)^-1 @ selected_DTy\n",
    "selected_DTD.diagonal(dim1=-2, dim2=-1).add_(1e-5) # TODO: add multipath OMP\n",
    "nonzero_W = torch.linalg.solve(selected_DTD, selected_DTy) # (batch_sz, i+1, 1)\n",
    "\n",
    "# finally get residuals r=y-Wx\n",
    "residuals[:, :, None] = y[:, :, None] - selected_D @ nonzero_W # (batch_sz, chunk_length, 1)"
   ]
  },
  {
   "cell_type": "code",
   "execution_count": 142,
   "metadata": {},
   "outputs": [
    {
     "ename": "RuntimeError",
     "evalue": "Trying to backward through the graph a second time (or directly access saved tensors after they have already been freed). Saved intermediate values of the graph are freed when you call .backward() or autograd.grad(). Specify retain_graph=True if you need to backward through the graph a second time or if you need to access saved tensors after calling backward.",
     "output_type": "error",
     "traceback": [
      "\u001b[0;31m---------------------------------------------------------------------------\u001b[0m",
      "\u001b[0;31mRuntimeError\u001b[0m                              Traceback (most recent call last)",
      "Cell \u001b[0;32mIn[142], line 2\u001b[0m\n\u001b[1;32m      1\u001b[0m fake_loss \u001b[39m=\u001b[39m nonzero_W\u001b[39m.\u001b[39msum()\n\u001b[0;32m----> 2\u001b[0m fake_loss\u001b[39m.\u001b[39;49mbackward()\n",
      "File \u001b[0;32m~/anaconda3/envs/borealis/lib/python3.9/site-packages/torch/_tensor.py:487\u001b[0m, in \u001b[0;36mTensor.backward\u001b[0;34m(self, gradient, retain_graph, create_graph, inputs)\u001b[0m\n\u001b[1;32m    477\u001b[0m \u001b[39mif\u001b[39;00m has_torch_function_unary(\u001b[39mself\u001b[39m):\n\u001b[1;32m    478\u001b[0m     \u001b[39mreturn\u001b[39;00m handle_torch_function(\n\u001b[1;32m    479\u001b[0m         Tensor\u001b[39m.\u001b[39mbackward,\n\u001b[1;32m    480\u001b[0m         (\u001b[39mself\u001b[39m,),\n\u001b[0;32m   (...)\u001b[0m\n\u001b[1;32m    485\u001b[0m         inputs\u001b[39m=\u001b[39minputs,\n\u001b[1;32m    486\u001b[0m     )\n\u001b[0;32m--> 487\u001b[0m torch\u001b[39m.\u001b[39;49mautograd\u001b[39m.\u001b[39;49mbackward(\n\u001b[1;32m    488\u001b[0m     \u001b[39mself\u001b[39;49m, gradient, retain_graph, create_graph, inputs\u001b[39m=\u001b[39;49minputs\n\u001b[1;32m    489\u001b[0m )\n",
      "File \u001b[0;32m~/anaconda3/envs/borealis/lib/python3.9/site-packages/torch/autograd/__init__.py:200\u001b[0m, in \u001b[0;36mbackward\u001b[0;34m(tensors, grad_tensors, retain_graph, create_graph, grad_variables, inputs)\u001b[0m\n\u001b[1;32m    195\u001b[0m     retain_graph \u001b[39m=\u001b[39m create_graph\n\u001b[1;32m    197\u001b[0m \u001b[39m# The reason we repeat same the comment below is that\u001b[39;00m\n\u001b[1;32m    198\u001b[0m \u001b[39m# some Python versions print out the first line of a multi-line function\u001b[39;00m\n\u001b[1;32m    199\u001b[0m \u001b[39m# calls in the traceback and some print out the last line\u001b[39;00m\n\u001b[0;32m--> 200\u001b[0m Variable\u001b[39m.\u001b[39;49m_execution_engine\u001b[39m.\u001b[39;49mrun_backward(  \u001b[39m# Calls into the C++ engine to run the backward pass\u001b[39;49;00m\n\u001b[1;32m    201\u001b[0m     tensors, grad_tensors_, retain_graph, create_graph, inputs,\n\u001b[1;32m    202\u001b[0m     allow_unreachable\u001b[39m=\u001b[39;49m\u001b[39mTrue\u001b[39;49;00m, accumulate_grad\u001b[39m=\u001b[39;49m\u001b[39mTrue\u001b[39;49;00m)\n",
      "\u001b[0;31mRuntimeError\u001b[0m: Trying to backward through the graph a second time (or directly access saved tensors after they have already been freed). Saved intermediate values of the graph are freed when you call .backward() or autograd.grad(). Specify retain_graph=True if you need to backward through the graph a second time or if you need to access saved tensors after calling backward."
     ]
    }
   ],
   "source": [
    "fake_loss = nonzero_W.sum()\n",
    "fake_loss.backward()"
   ]
  },
  {
   "cell_type": "code",
   "execution_count": 2,
   "metadata": {},
   "outputs": [],
   "source": [
    "\n",
    "tolerance = True\n",
    "# Control stop interation with norm thresh or sparsity\n",
    "for i in range(n_nonzero_coefs): \n",
    "    # Compute the score of each atoms\n",
    "    projections = dict.T @ residuals[:, :, None] # (batch_sz, n_atoms, 1)\n",
    "    \n",
    "    soft_score_indices = (projections/tau).squeeze(-1).softmax(-1) # (batch_sz, n_atoms)\n",
    "    if hard :\n",
    "        # copied and modified from https://pytorch.org/docs/stable/_modules/torch/nn/functional.html#gumbel_softmax\n",
    "        # Straight through.\n",
    "        index = soft_score_indices.max(-1, keepdim=True)[1]\n",
    "        hard_score_indices = torch.zeros_like(soft_score_indices).scatter_(-1, index, 1.0)\n",
    "        ret = hard_score_indices - soft_score_indices.detach() + soft_score_indices   \n",
    "        max_score_indices[:, i] = ret\n",
    "    else:\n",
    "        max_score_indices[:, i] = soft_score_indices\n",
    "\n",
    "    \n",
    "    # update selected_D\n",
    "    selected_D = X * max_score_indices[:, :, None] # (batch_sz, chunk_length, n_atoms)\n",
    "    ind_0 = torch.arange(batch_sz, dtype=max_score_indices.dtype, device=max_score_indices.device)[:, None, None],\n",
    "    ind_1 = torch.arange(chunk_length, dtype=max_score_indices.dtype, device=max_score_indices.device)[None, :, None],\n",
    "    selected_D = X[ind_0, ind_1, max_score_indices[:, None, :i+1]] # (batch_sz, chunk_length, i+1)\n",
    "    \n",
    "    # calculate selected_DTy\n",
    "    selected_DTy = selected_D.permute(0, 2, 1) @ residuals[:, :, None] # (batch_sz, i+1, 1)\n",
    "    \n",
    "    # calculate selected_DTD\n",
    "    selected_DTD = selected_D.permute(0, 2, 1) @ selected_D # (batch_sz, i+1, i+1)\n",
    "    \n",
    "    # find W = (selected_DTD)^-1 @ selected_DTy\n",
    "    # selected_DTD.diagonal(dim1=-2, dim2=-1).add_(self.reg_coeff) # TODO: add multipath OMP\n",
    "    nonzero_W = torch.linalg.solve(selected_DTD, selected_DTy) # (batch_sz, i+1, 1)\n",
    "\n",
    "    # finally get residuals r=y-Wx\n",
    "    residuals[:, :, None] = y[:, :, None] - selected_D @ nonzero_W # (batch_sz, chunk_length, 1)\n",
    "\n",
    "W = torch.zeros(batch_sz, n_atoms, dtype=selected_D.dtype, device=selected_D.device)\n",
    "W[torch.arange(batch_sz, dtype=max_score_indices.dtype, device=max_score_indices.device)[:, None], max_score_indices] = nonzero_W.squeeze()    \n"
   ]
  },
  {
   "cell_type": "code",
   "execution_count": 3,
   "metadata": {},
   "outputs": [],
   "source": [
    "X = torch.randn(96, 256, device='cuda', requires_grad=True)\n",
    "y = torch.randn(32, 96, device='cuda')"
   ]
  },
  {
   "cell_type": "code",
   "execution_count": 4,
   "metadata": {},
   "outputs": [],
   "source": [
    "X.requires_grad = True\n",
    "y.requires_grad = False\n",
    "sets = run_omp(X, y, n_nonzero_coefs=15)"
   ]
  },
  {
   "cell_type": "code",
   "execution_count": 5,
   "metadata": {},
   "outputs": [
    {
     "name": "stderr",
     "output_type": "stream",
     "text": [
      "/home/mahdigilany/anaconda3/envs/borealis/lib/python3.9/site-packages/sklearn/datasets/_samples_generator.py:1335: FutureWarning: The default value of data_transposed will change from True to False in version 1.3\n",
      "  warnings.warn(\n"
     ]
    },
    {
     "data": {
      "text/plain": [
       "array([ 0.64592679,  1.41983684, -0.14846366, -1.13573509,  0.83928862,\n",
       "        1.06942006, -0.03079246, -0.00980617,  0.28853245,  0.19478957,\n",
       "       -0.30494662,  1.12142266,  1.37522674,  0.21715859,  0.2122062 ])"
      ]
     },
     "execution_count": 5,
     "metadata": {},
     "output_type": "execute_result"
    }
   ],
   "source": [
    "y, X, w = make_sparse_coded_signal(\n",
    "    n_samples=32,\n",
    "    n_components=256,\n",
    "    n_features=96,\n",
    "    n_nonzero_coefs=15,\n",
    "    random_state=4)\n",
    "\n",
    "y = torch.from_numpy(y).cuda()\n",
    "X = torch.from_numpy(X).cuda()\n",
    "y.shape, X.shape, w.shape\n",
    "w[:, 0][w[:, 0]!=0]"
   ]
  },
  {
   "cell_type": "code",
   "execution_count": 6,
   "metadata": {},
   "outputs": [
    {
     "data": {
      "text/plain": [
       "tensor([ 0.6459,  1.4198, -0.1485, -1.1357,  0.8393,  1.0694, -0.0308, -0.0098,\n",
       "         0.2885,  0.1948, -0.3049,  1.1214,  1.3752,  0.2172,  0.2122],\n",
       "       device='cuda:0', dtype=torch.float64)"
      ]
     },
     "execution_count": 6,
     "metadata": {},
     "output_type": "execute_result"
    }
   ],
   "source": [
    "sets = run_omp(X, y.T, n_nonzero_coefs=15)\n",
    "sets[0,:][sets[0,:]!=0]"
   ]
  },
  {
   "cell_type": "code",
   "execution_count": 7,
   "metadata": {},
   "outputs": [
    {
     "data": {
      "text/plain": [
       "tensor([ 0.6459,  1.4198, -0.1485, -1.1357,  0.8393,  1.0694, -0.0308, -0.0098,\n",
       "         0.2885,  0.1948, -0.3049,  1.1214,  1.3752,  0.2172,  0.2122],\n",
       "       device='cuda:0', dtype=torch.float64)"
      ]
     },
     "execution_count": 7,
     "metadata": {},
     "output_type": "execute_result"
    }
   ],
   "source": [
    "W, sets2, solutions2 = omp(X, y.T, n_nonzero_coefs=15)\n",
    "W[0,:][W[0,:]!=0]"
   ]
  }
 ],
 "metadata": {
  "kernelspec": {
   "display_name": "borealis",
   "language": "python",
   "name": "python3"
  },
  "language_info": {
   "codemirror_mode": {
    "name": "ipython",
    "version": 3
   },
   "file_extension": ".py",
   "mimetype": "text/x-python",
   "name": "python",
   "nbconvert_exporter": "python",
   "pygments_lexer": "ipython3",
   "version": "3.9.16"
  },
  "orig_nbformat": 4
 },
 "nbformat": 4,
 "nbformat_minor": 2
}
