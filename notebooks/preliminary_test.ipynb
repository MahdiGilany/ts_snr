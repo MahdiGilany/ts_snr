{
 "cells": [
  {
   "cell_type": "code",
   "execution_count": 4,
   "metadata": {},
   "outputs": [
    {
     "name": "stderr",
     "output_type": "stream",
     "text": [
      "usage: ipykernel_launcher.py [-h] [--name str] [--age int]\n",
      "ipykernel_launcher.py: error: unrecognized arguments: --f=/h/abbasgln/.local/share/jupyter/runtime/kernel-v2-149549GIVVVPqzDug.json\n"
     ]
    },
    {
     "ename": "SystemExit",
     "evalue": "2",
     "output_type": "error",
     "traceback": [
      "An exception has occurred, use %tb to see the full traceback.\n",
      "\u001b[0;31mSystemExit\u001b[0m\u001b[0;31m:\u001b[0m 2\n"
     ]
    }
   ],
   "source": [
    "from simple_parsing import ArgumentParser\n",
    "from dataclasses import dataclass\n",
    "\n",
    "\n",
    "@dataclass\n",
    "class Options:\n",
    "    name: str = \"World\"\n",
    "    age: int = 42\n",
    "\n",
    "\n",
    "parser = ArgumentParser()\n",
    "parser.add_arguments(Options, dest=\"options\")\n",
    "args = parser.parse_args()\n",
    "\n",
    "print(args.options)"
   ]
  }
 ],
 "metadata": {
  "kernelspec": {
   "display_name": "mttt",
   "language": "python",
   "name": "python3"
  },
  "language_info": {
   "codemirror_mode": {
    "name": "ipython",
    "version": 3
   },
   "file_extension": ".py",
   "mimetype": "text/x-python",
   "name": "python",
   "nbconvert_exporter": "python",
   "pygments_lexer": "ipython3",
   "version": "3.10.4"
  }
 },
 "nbformat": 4,
 "nbformat_minor": 2
}
