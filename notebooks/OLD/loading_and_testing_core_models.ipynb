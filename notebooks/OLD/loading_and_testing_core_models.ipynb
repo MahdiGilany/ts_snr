{
 "cells": [
  {
   "cell_type": "code",
   "execution_count": 1,
   "metadata": {},
   "outputs": [],
   "source": [
    "from tqdm.notebook import tqdm"
   ]
  },
  {
   "cell_type": "code",
   "execution_count": 2,
   "metadata": {},
   "outputs": [
    {
     "name": "stdout",
     "output_type": "stream",
     "text": [
      "/home/paulw/projects/TRUSnet-1\n"
     ]
    },
    {
     "name": "stderr",
     "output_type": "stream",
     "text": [
      "/tmp/ipykernel_10818/442535702.py:5: UserWarning: \n",
      "The version_base parameter is not specified.\n",
      "Please specify a compatability version level, or None.\n",
      "Will assume defaults for version 1.1\n",
      "  initialize(config_path='../configs')\n",
      "/home/paulw/anaconda3/envs/exact/lib/python3.9/site-packages/pl_bolts/utils/warnings.py:30: UserWarning: You want to use `gym` which is not installed yet, install it with `pip install gym`.\n",
      "  stdout_func(\n"
     ]
    },
    {
     "data": {
      "text/html": [
       "<pre style=\"white-space:pre;overflow-x:auto;line-height:normal;font-family:Menlo,'DejaVu Sans Mono',consolas,'Courier New',monospace\"><span style=\"font-weight: bold\">{</span>\n",
       "    <span style=\"color: #008000; text-decoration-color: #008000\">'dm'</span>: <span style=\"color: #800080; text-decoration-color: #800080; font-weight: bold\">ExactPatchDMConfig</span><span style=\"font-weight: bold\">(</span>\n",
       "        <span style=\"color: #808000; text-decoration-color: #808000\">_target_</span>=<span style=\"color: #008000; text-decoration-color: #008000\">'src.lightning.datamodules.exact_datamodule.PatchDataModuleForSupervisedLear</span>\n",
       "<span style=\"color: #008000; text-decoration-color: #008000\">ning'</span>,\n",
       "        <span style=\"color: #808000; text-decoration-color: #808000\">root</span>=<span style=\"color: #008000; text-decoration-color: #008000\">'/home/mgilani/data/Exact/Exact'</span>,\n",
       "        <span style=\"color: #808000; text-decoration-color: #808000\">loader_config</span>=<span style=\"color: #800080; text-decoration-color: #800080; font-weight: bold\">LoaderConfig</span><span style=\"font-weight: bold\">(</span>\n",
       "            <span style=\"color: #808000; text-decoration-color: #808000\">batch_size</span>=<span style=\"color: #008080; text-decoration-color: #008080; font-weight: bold\">32</span>,\n",
       "            <span style=\"color: #808000; text-decoration-color: #808000\">num_workers</span>=<span style=\"color: #008080; text-decoration-color: #008080; font-weight: bold\">0</span>,\n",
       "            <span style=\"color: #808000; text-decoration-color: #808000\">balance_classes_train</span>=<span style=\"color: #00ff00; text-decoration-color: #00ff00; font-style: italic\">True</span>,\n",
       "            <span style=\"color: #808000; text-decoration-color: #808000\">train_strategy_ddp</span>=<span style=\"color: #ff0000; text-decoration-color: #ff0000; font-style: italic\">False</span>\n",
       "        <span style=\"font-weight: bold\">)</span>,\n",
       "        <span style=\"color: #808000; text-decoration-color: #808000\">minimum_involvement</span>=<span style=\"color: #008080; text-decoration-color: #008080; font-weight: bold\">0.4</span>,\n",
       "        <span style=\"color: #808000; text-decoration-color: #808000\">splits</span>=<span style=\"color: #800080; text-decoration-color: #800080; font-weight: bold\">SplitsConfig</span><span style=\"font-weight: bold\">(</span>\n",
       "            <span style=\"color: #808000; text-decoration-color: #808000\">_target_</span>=<span style=\"color: #008000; text-decoration-color: #008000\">'src.data.exact.splits.Splits'</span>,\n",
       "            <span style=\"color: #808000; text-decoration-color: #808000\">cohort_specifier</span>=<span style=\"font-weight: bold\">[</span><span style=\"color: #008000; text-decoration-color: #008000\">'UVA600'</span><span style=\"font-weight: bold\">]</span>,\n",
       "            <span style=\"color: #808000; text-decoration-color: #808000\">train_val_split_seed</span>=<span style=\"color: #008080; text-decoration-color: #008080; font-weight: bold\">0</span>,\n",
       "            <span style=\"color: #808000; text-decoration-color: #808000\">train_val_ratio</span>=<span style=\"color: #008080; text-decoration-color: #008080; font-weight: bold\">0.1</span>,\n",
       "            <span style=\"color: #808000; text-decoration-color: #808000\">test_as_val</span>=<span style=\"color: #ff0000; text-decoration-color: #ff0000; font-style: italic\">False</span>,\n",
       "            <span style=\"color: #808000; text-decoration-color: #808000\">undersample_benign_train</span>=<span style=\"color: #00ff00; text-decoration-color: #00ff00; font-style: italic\">True</span>,\n",
       "            <span style=\"color: #808000; text-decoration-color: #808000\">undersample_benign_eval</span>=<span style=\"color: #00ff00; text-decoration-color: #00ff00; font-style: italic\">True</span>,\n",
       "            <span style=\"color: #808000; text-decoration-color: #808000\">benign_cores_selection_seed</span>=<span style=\"color: #008080; text-decoration-color: #008080; font-weight: bold\">0</span>,\n",
       "            <span style=\"color: #808000; text-decoration-color: #808000\">merge_train_centers</span>=<span style=\"color: #00ff00; text-decoration-color: #00ff00; font-style: italic\">True</span>,\n",
       "            <span style=\"color: #808000; text-decoration-color: #808000\">merge_val_centers</span>=<span style=\"color: #00ff00; text-decoration-color: #00ff00; font-style: italic\">True</span>,\n",
       "            <span style=\"color: #808000; text-decoration-color: #808000\">merge_test_centers</span>=<span style=\"color: #00ff00; text-decoration-color: #00ff00; font-style: italic\">True</span>\n",
       "        <span style=\"font-weight: bold\">)</span>,\n",
       "        <span style=\"color: #808000; text-decoration-color: #808000\">patch_view_config</span>=<span style=\"color: #800080; text-decoration-color: #800080; font-weight: bold\">PatchViewConfig</span><span style=\"font-weight: bold\">(</span>\n",
       "            <span style=\"color: #808000; text-decoration-color: #808000\">patch_size</span>=<span style=\"font-weight: bold\">[</span><span style=\"color: #008080; text-decoration-color: #008080; font-weight: bold\">5</span>, <span style=\"color: #008080; text-decoration-color: #008080; font-weight: bold\">5</span><span style=\"font-weight: bold\">]</span>,\n",
       "            <span style=\"color: #808000; text-decoration-color: #808000\">patch_strides</span>=<span style=\"font-weight: bold\">[</span><span style=\"color: #008080; text-decoration-color: #008080; font-weight: bold\">1</span>, <span style=\"color: #008080; text-decoration-color: #008080; font-weight: bold\">1</span><span style=\"font-weight: bold\">]</span>,\n",
       "            <span style=\"color: #808000; text-decoration-color: #808000\">subpatch_size</span>=<span style=\"font-weight: bold\">[</span><span style=\"color: #008080; text-decoration-color: #008080; font-weight: bold\">1</span>, <span style=\"color: #008080; text-decoration-color: #008080; font-weight: bold\">1</span><span style=\"font-weight: bold\">]</span>,\n",
       "            <span style=\"color: #808000; text-decoration-color: #808000\">needle_region_only</span>=<span style=\"color: #00ff00; text-decoration-color: #00ff00; font-style: italic\">True</span>,\n",
       "            <span style=\"color: #808000; text-decoration-color: #808000\">prostate_region_only</span>=<span style=\"color: #ff0000; text-decoration-color: #ff0000; font-style: italic\">False</span>,\n",
       "            <span style=\"color: #808000; text-decoration-color: #808000\">prostate_intersection_threshold</span>=<span style=\"color: #008080; text-decoration-color: #008080; font-weight: bold\">0.9</span>,\n",
       "            <span style=\"color: #808000; text-decoration-color: #808000\">needle_intersection_threshold</span>=<span style=\"color: #008080; text-decoration-color: #008080; font-weight: bold\">0.6</span>\n",
       "        <span style=\"font-weight: bold\">)</span>,\n",
       "        <span style=\"color: #808000; text-decoration-color: #808000\">patch_transform_train</span>=<span style=\"color: #800080; text-decoration-color: #800080; font-weight: bold\">TransformConfig</span><span style=\"font-weight: bold\">(</span>\n",
       "            <span style=\"color: #808000; text-decoration-color: #808000\">_target_</span>=<span style=\"color: #008000; text-decoration-color: #008000\">'src.data.exact.transforms.TransformV3'</span>,\n",
       "            <span style=\"color: #808000; text-decoration-color: #808000\">norm</span>=<span style=\"color: #800080; text-decoration-color: #800080; font-weight: bold\">NormConfig</span><span style=\"font-weight: bold\">(</span>\n",
       "                <span style=\"color: #808000; text-decoration-color: #808000\">_target_</span>=<span style=\"color: #008000; text-decoration-color: #008000\">'src.data.exact.transforms.Normalize'</span>,\n",
       "                <span style=\"color: #808000; text-decoration-color: #808000\">mode</span>=<span style=\"color: #008000; text-decoration-color: #008000\">'instance'</span>,\n",
       "                <span style=\"color: #808000; text-decoration-color: #808000\">type</span>=<span style=\"color: #008000; text-decoration-color: #008000\">'min-max'</span>,\n",
       "                <span style=\"color: #808000; text-decoration-color: #808000\">truncate</span>=<span style=\"color: #00ff00; text-decoration-color: #00ff00; font-style: italic\">True</span>\n",
       "            <span style=\"font-weight: bold\">)</span>,\n",
       "            <span style=\"color: #808000; text-decoration-color: #808000\">tensor_transform</span>=<span style=\"color: #800080; text-decoration-color: #800080; font-style: italic\">None</span>,\n",
       "            <span style=\"color: #808000; text-decoration-color: #808000\">us_augmentation</span>=<span style=\"color: #800080; text-decoration-color: #800080; font-style: italic\">None</span>,\n",
       "            <span style=\"color: #808000; text-decoration-color: #808000\">out_size</span>=<span style=\"font-weight: bold\">[</span><span style=\"color: #008080; text-decoration-color: #008080; font-weight: bold\">256</span>, <span style=\"color: #008080; text-decoration-color: #008080; font-weight: bold\">256</span><span style=\"font-weight: bold\">]</span>\n",
       "        <span style=\"font-weight: bold\">)</span>,\n",
       "        <span style=\"color: #808000; text-decoration-color: #808000\">patch_transform_eval</span>=<span style=\"color: #800080; text-decoration-color: #800080; font-weight: bold\">TransformConfig</span><span style=\"font-weight: bold\">(</span>\n",
       "            <span style=\"color: #808000; text-decoration-color: #808000\">_target_</span>=<span style=\"color: #008000; text-decoration-color: #008000\">'src.data.exact.transforms.TransformV3'</span>,\n",
       "            <span style=\"color: #808000; text-decoration-color: #808000\">norm</span>=<span style=\"color: #800080; text-decoration-color: #800080; font-weight: bold\">NormConfig</span><span style=\"font-weight: bold\">(</span>\n",
       "                <span style=\"color: #808000; text-decoration-color: #808000\">_target_</span>=<span style=\"color: #008000; text-decoration-color: #008000\">'src.data.exact.transforms.Normalize'</span>,\n",
       "                <span style=\"color: #808000; text-decoration-color: #808000\">mode</span>=<span style=\"color: #008000; text-decoration-color: #008000\">'instance'</span>,\n",
       "                <span style=\"color: #808000; text-decoration-color: #808000\">type</span>=<span style=\"color: #008000; text-decoration-color: #008000\">'min-max'</span>,\n",
       "                <span style=\"color: #808000; text-decoration-color: #808000\">truncate</span>=<span style=\"color: #00ff00; text-decoration-color: #00ff00; font-style: italic\">True</span>\n",
       "            <span style=\"font-weight: bold\">)</span>,\n",
       "            <span style=\"color: #808000; text-decoration-color: #808000\">tensor_transform</span>=<span style=\"color: #800080; text-decoration-color: #800080; font-style: italic\">None</span>,\n",
       "            <span style=\"color: #808000; text-decoration-color: #808000\">us_augmentation</span>=<span style=\"color: #800080; text-decoration-color: #800080; font-style: italic\">None</span>,\n",
       "            <span style=\"color: #808000; text-decoration-color: #808000\">out_size</span>=<span style=\"font-weight: bold\">[</span><span style=\"color: #008080; text-decoration-color: #008080; font-weight: bold\">256</span>, <span style=\"color: #008080; text-decoration-color: #008080; font-weight: bold\">256</span><span style=\"font-weight: bold\">]</span>\n",
       "        <span style=\"font-weight: bold\">)</span>\n",
       "    <span style=\"font-weight: bold\">)</span>,\n",
       "    <span style=\"color: #008000; text-decoration-color: #008000\">'split_seed'</span>: <span style=\"color: #008080; text-decoration-color: #008080; font-weight: bold\">2</span>\n",
       "<span style=\"font-weight: bold\">}</span>\n",
       "</pre>\n"
      ],
      "text/plain": [
       "\u001b[1m{\u001b[0m\n",
       "    \u001b[32m'dm'\u001b[0m: \u001b[1;35mExactPatchDMConfig\u001b[0m\u001b[1m(\u001b[0m\n",
       "        \u001b[33m_target_\u001b[0m=\u001b[32m'src.lightning.datamodules.exact_datamodule.PatchDataModuleForSupervisedLear\u001b[0m\n",
       "\u001b[32mning'\u001b[0m,\n",
       "        \u001b[33mroot\u001b[0m=\u001b[32m'/home/mgilani/data/Exact/Exact'\u001b[0m,\n",
       "        \u001b[33mloader_config\u001b[0m=\u001b[1;35mLoaderConfig\u001b[0m\u001b[1m(\u001b[0m\n",
       "            \u001b[33mbatch_size\u001b[0m=\u001b[1;36m32\u001b[0m,\n",
       "            \u001b[33mnum_workers\u001b[0m=\u001b[1;36m0\u001b[0m,\n",
       "            \u001b[33mbalance_classes_train\u001b[0m=\u001b[3;92mTrue\u001b[0m,\n",
       "            \u001b[33mtrain_strategy_ddp\u001b[0m=\u001b[3;91mFalse\u001b[0m\n",
       "        \u001b[1m)\u001b[0m,\n",
       "        \u001b[33mminimum_involvement\u001b[0m=\u001b[1;36m0\u001b[0m\u001b[1;36m.4\u001b[0m,\n",
       "        \u001b[33msplits\u001b[0m=\u001b[1;35mSplitsConfig\u001b[0m\u001b[1m(\u001b[0m\n",
       "            \u001b[33m_target_\u001b[0m=\u001b[32m'src.data.exact.splits.Splits'\u001b[0m,\n",
       "            \u001b[33mcohort_specifier\u001b[0m=\u001b[1m[\u001b[0m\u001b[32m'UVA600'\u001b[0m\u001b[1m]\u001b[0m,\n",
       "            \u001b[33mtrain_val_split_seed\u001b[0m=\u001b[1;36m0\u001b[0m,\n",
       "            \u001b[33mtrain_val_ratio\u001b[0m=\u001b[1;36m0\u001b[0m\u001b[1;36m.1\u001b[0m,\n",
       "            \u001b[33mtest_as_val\u001b[0m=\u001b[3;91mFalse\u001b[0m,\n",
       "            \u001b[33mundersample_benign_train\u001b[0m=\u001b[3;92mTrue\u001b[0m,\n",
       "            \u001b[33mundersample_benign_eval\u001b[0m=\u001b[3;92mTrue\u001b[0m,\n",
       "            \u001b[33mbenign_cores_selection_seed\u001b[0m=\u001b[1;36m0\u001b[0m,\n",
       "            \u001b[33mmerge_train_centers\u001b[0m=\u001b[3;92mTrue\u001b[0m,\n",
       "            \u001b[33mmerge_val_centers\u001b[0m=\u001b[3;92mTrue\u001b[0m,\n",
       "            \u001b[33mmerge_test_centers\u001b[0m=\u001b[3;92mTrue\u001b[0m\n",
       "        \u001b[1m)\u001b[0m,\n",
       "        \u001b[33mpatch_view_config\u001b[0m=\u001b[1;35mPatchViewConfig\u001b[0m\u001b[1m(\u001b[0m\n",
       "            \u001b[33mpatch_size\u001b[0m=\u001b[1m[\u001b[0m\u001b[1;36m5\u001b[0m, \u001b[1;36m5\u001b[0m\u001b[1m]\u001b[0m,\n",
       "            \u001b[33mpatch_strides\u001b[0m=\u001b[1m[\u001b[0m\u001b[1;36m1\u001b[0m, \u001b[1;36m1\u001b[0m\u001b[1m]\u001b[0m,\n",
       "            \u001b[33msubpatch_size\u001b[0m=\u001b[1m[\u001b[0m\u001b[1;36m1\u001b[0m, \u001b[1;36m1\u001b[0m\u001b[1m]\u001b[0m,\n",
       "            \u001b[33mneedle_region_only\u001b[0m=\u001b[3;92mTrue\u001b[0m,\n",
       "            \u001b[33mprostate_region_only\u001b[0m=\u001b[3;91mFalse\u001b[0m,\n",
       "            \u001b[33mprostate_intersection_threshold\u001b[0m=\u001b[1;36m0\u001b[0m\u001b[1;36m.9\u001b[0m,\n",
       "            \u001b[33mneedle_intersection_threshold\u001b[0m=\u001b[1;36m0\u001b[0m\u001b[1;36m.6\u001b[0m\n",
       "        \u001b[1m)\u001b[0m,\n",
       "        \u001b[33mpatch_transform_train\u001b[0m=\u001b[1;35mTransformConfig\u001b[0m\u001b[1m(\u001b[0m\n",
       "            \u001b[33m_target_\u001b[0m=\u001b[32m'src.data.exact.transforms.TransformV3'\u001b[0m,\n",
       "            \u001b[33mnorm\u001b[0m=\u001b[1;35mNormConfig\u001b[0m\u001b[1m(\u001b[0m\n",
       "                \u001b[33m_target_\u001b[0m=\u001b[32m'src.data.exact.transforms.Normalize'\u001b[0m,\n",
       "                \u001b[33mmode\u001b[0m=\u001b[32m'instance'\u001b[0m,\n",
       "                \u001b[33mtype\u001b[0m=\u001b[32m'min-max'\u001b[0m,\n",
       "                \u001b[33mtruncate\u001b[0m=\u001b[3;92mTrue\u001b[0m\n",
       "            \u001b[1m)\u001b[0m,\n",
       "            \u001b[33mtensor_transform\u001b[0m=\u001b[3;35mNone\u001b[0m,\n",
       "            \u001b[33mus_augmentation\u001b[0m=\u001b[3;35mNone\u001b[0m,\n",
       "            \u001b[33mout_size\u001b[0m=\u001b[1m[\u001b[0m\u001b[1;36m256\u001b[0m, \u001b[1;36m256\u001b[0m\u001b[1m]\u001b[0m\n",
       "        \u001b[1m)\u001b[0m,\n",
       "        \u001b[33mpatch_transform_eval\u001b[0m=\u001b[1;35mTransformConfig\u001b[0m\u001b[1m(\u001b[0m\n",
       "            \u001b[33m_target_\u001b[0m=\u001b[32m'src.data.exact.transforms.TransformV3'\u001b[0m,\n",
       "            \u001b[33mnorm\u001b[0m=\u001b[1;35mNormConfig\u001b[0m\u001b[1m(\u001b[0m\n",
       "                \u001b[33m_target_\u001b[0m=\u001b[32m'src.data.exact.transforms.Normalize'\u001b[0m,\n",
       "                \u001b[33mmode\u001b[0m=\u001b[32m'instance'\u001b[0m,\n",
       "                \u001b[33mtype\u001b[0m=\u001b[32m'min-max'\u001b[0m,\n",
       "                \u001b[33mtruncate\u001b[0m=\u001b[3;92mTrue\u001b[0m\n",
       "            \u001b[1m)\u001b[0m,\n",
       "            \u001b[33mtensor_transform\u001b[0m=\u001b[3;35mNone\u001b[0m,\n",
       "            \u001b[33mus_augmentation\u001b[0m=\u001b[3;35mNone\u001b[0m,\n",
       "            \u001b[33mout_size\u001b[0m=\u001b[1m[\u001b[0m\u001b[1;36m256\u001b[0m, \u001b[1;36m256\u001b[0m\u001b[1m]\u001b[0m\n",
       "        \u001b[1m)\u001b[0m\n",
       "    \u001b[1m)\u001b[0m,\n",
       "    \u001b[32m'split_seed'\u001b[0m: \u001b[1;36m2\u001b[0m\n",
       "\u001b[1m}\u001b[0m\n"
      ]
     },
     "metadata": {},
     "output_type": "display_data"
    }
   ],
   "source": [
    "%cd ..\n",
    "\n",
    "from hydra import initialize, compose\n",
    "\n",
    "initialize(config_path='../configs')\n",
    "\n",
    "from src.configuration import register_configs\n",
    "\n",
    "register_configs()\n",
    "\n",
    "#cfg = compose(overrides=['+datamodule@dm=sl_datamodule', '+split_seed=0'])\n",
    "cfg = compose(overrides=['+datamodule@dm=sl_datamodule', '+split_seed=2', 'datamodule/splits@dm.splits=uva600'])\n",
    "\n",
    "from omegaconf import OmegaConf\n",
    "OmegaConf.resolve(cfg)\n",
    "\n",
    "from hydra.utils import instantiate\n",
    "\n",
    "cfg.dm.splits.merge_test_centers = True\n",
    "cfg.dm.splits.merge_val_centers = True\n",
    "cfg.dm.splits.undersample_benign_train = True\n",
    "cfg.dm.splits.undersample_benign_eval = True\n",
    "cfg.dm.loader_config.num_workers = 0\n",
    "cfg.dm.loader_config.balance_classes_train = True\n",
    "\n",
    "from rich import print as pprint\n",
    "pprint(OmegaConf.to_object(cfg))"
   ]
  },
  {
   "cell_type": "code",
   "execution_count": 3,
   "metadata": {},
   "outputs": [
    {
     "name": "stderr",
     "output_type": "stream",
     "text": [
      "Preparing cores:   0%|          | 0/353 [00:00<?, ?it/s]/home/paulw/projects/TRUSnet-1/src/data/exact/core.py:176: UserWarning: You appear to be calling Core constructor manually. It is preferable to call `Core.create_core(specifier)`\n",
      "                    which will cache core instances and not double memory requirements for core objects!\n",
      "                \n",
      "  warn(\n",
      "Preparing cores: 100%|██████████| 353/353 [00:00<00:00, 43742.30it/s]\n",
      "Indexing Patches: 100%|██████████| 353/353 [00:14<00:00, 24.19it/s]\n",
      "Preparing cores:   0%|          | 0/40 [00:00<?, ?it/s]/home/paulw/projects/TRUSnet-1/src/data/exact/core.py:176: UserWarning: You appear to be calling Core constructor manually. It is preferable to call `Core.create_core(specifier)`\n",
      "                    which will cache core instances and not double memory requirements for core objects!\n",
      "                \n",
      "  warn(\n",
      "Preparing cores: 100%|██████████| 40/40 [00:00<00:00, 26770.73it/s]\n",
      "Indexing Patches: 100%|██████████| 40/40 [00:01<00:00, 23.14it/s]\n",
      "Preparing cores:   0%|          | 0/81 [00:00<?, ?it/s]/home/paulw/projects/TRUSnet-1/src/data/exact/core.py:176: UserWarning: You appear to be calling Core constructor manually. It is preferable to call `Core.create_core(specifier)`\n",
      "                    which will cache core instances and not double memory requirements for core objects!\n",
      "                \n",
      "  warn(\n",
      "Preparing cores: 100%|██████████| 81/81 [00:00<00:00, 29954.03it/s]\n",
      "Indexing Patches: 100%|██████████| 81/81 [00:03<00:00, 23.18it/s]\n"
     ]
    }
   ],
   "source": [
    "dm = instantiate(cfg.dm)\n",
    "dm.setup()"
   ]
  },
  {
   "cell_type": "code",
   "execution_count": 4,
   "metadata": {},
   "outputs": [
    {
     "data": {
      "text/plain": [
       "PatchesDatasetOutput(patch=tensor([[[[0.6528, 0.6674, 0.6769,  ..., 0.6704, 0.6771, 0.6874],\n",
       "          [0.4039, 0.4211, 0.4323,  ..., 0.3877, 0.3919, 0.3984],\n",
       "          [0.3894, 0.3682, 0.3544,  ..., 0.4304, 0.4106, 0.3803],\n",
       "          ...,\n",
       "          [0.5174, 0.5300, 0.5382,  ..., 0.3468, 0.3391, 0.3273],\n",
       "          [0.4975, 0.4911, 0.4868,  ..., 0.4934, 0.4583, 0.4047],\n",
       "          [0.4558, 0.4330, 0.4180,  ..., 0.4850, 0.4918, 0.5021]]],\n",
       "\n",
       "\n",
       "        [[[0.5353, 0.5505, 0.5605,  ..., 0.4998, 0.5009, 0.5027],\n",
       "          [0.5539, 0.5526, 0.5517,  ..., 0.4945, 0.4921, 0.4886],\n",
       "          [0.4952, 0.4855, 0.4791,  ..., 0.4911, 0.4885, 0.4845],\n",
       "          ...,\n",
       "          [0.4684, 0.4566, 0.4489,  ..., 0.4521, 0.4523, 0.4526],\n",
       "          [0.4634, 0.4634, 0.4633,  ..., 0.4983, 0.4969, 0.4947],\n",
       "          [0.4941, 0.5104, 0.5211,  ..., 0.5818, 0.5820, 0.5822]]],\n",
       "\n",
       "\n",
       "        [[[0.3953, 0.4018, 0.4060,  ..., 0.0492, 0.0000, 0.0000],\n",
       "          [0.2757, 0.3211, 0.3509,  ..., 0.5476, 0.5774, 0.6231],\n",
       "          [0.7007, 0.6285, 0.5812,  ..., 0.6803, 0.7141, 0.7657],\n",
       "          ...,\n",
       "          [0.5400, 0.5421, 0.5435,  ..., 0.5055, 0.5067, 0.5086],\n",
       "          [0.5020, 0.5033, 0.5041,  ..., 0.5096, 0.5096, 0.5096],\n",
       "          [0.4671, 0.4672, 0.4673,  ..., 0.5064, 0.5059, 0.5053]]],\n",
       "\n",
       "\n",
       "        ...,\n",
       "\n",
       "\n",
       "        [[[0.4491, 0.4478, 0.4470,  ..., 0.6521, 0.6635, 0.6809],\n",
       "          [0.5690, 0.5794, 0.5862,  ..., 0.3151, 0.3164, 0.3185],\n",
       "          [0.5401, 0.5591, 0.5716,  ..., 0.3117, 0.3258, 0.3474],\n",
       "          ...,\n",
       "          [0.4682, 0.4749, 0.4793,  ..., 0.6832, 0.6749, 0.6623],\n",
       "          [0.6205, 0.6250, 0.6279,  ..., 0.5605, 0.5458, 0.5232],\n",
       "          [0.6069, 0.6083, 0.6092,  ..., 0.4154, 0.4216, 0.4312]]],\n",
       "\n",
       "\n",
       "        [[[0.5276, 0.5287, 0.5294,  ..., 0.4940, 0.4969, 0.5012],\n",
       "          [0.5117, 0.5124, 0.5129,  ..., 0.4835, 0.4782, 0.4701],\n",
       "          [0.4966, 0.4966, 0.4966,  ..., 0.5302, 0.5322, 0.5353],\n",
       "          ...,\n",
       "          [0.7928, 0.7666, 0.7494,  ..., 0.4927, 0.4914, 0.4894],\n",
       "          [0.4095, 0.4046, 0.4013,  ..., 0.4759, 0.4780, 0.4812],\n",
       "          [0.3624, 0.3590, 0.3567,  ..., 0.5149, 0.5159, 0.5174]]],\n",
       "\n",
       "\n",
       "        [[[0.5722, 0.5670, 0.5636,  ..., 0.5137, 0.4846, 0.4402],\n",
       "          [0.6450, 0.6572, 0.6652,  ..., 0.4299, 0.4258, 0.4197],\n",
       "          [0.5379, 0.5215, 0.5107,  ..., 0.4247, 0.4472, 0.4815],\n",
       "          ...,\n",
       "          [0.4777, 0.4639, 0.4549,  ..., 0.5331, 0.5299, 0.5250],\n",
       "          [0.2941, 0.2849, 0.2789,  ..., 0.4709, 0.4659, 0.4582],\n",
       "          [0.4946, 0.5063, 0.5140,  ..., 0.5075, 0.5163, 0.5297]]]]), pos=tensor([[ 5, 10, 40, 45],\n",
       "        [16, 21, 22, 27],\n",
       "        [14, 19, 25, 30],\n",
       "        [15, 20, 25, 30],\n",
       "        [15, 20, 27, 32],\n",
       "        [ 8, 13, 35, 40],\n",
       "        [11, 16, 29, 34],\n",
       "        [ 5, 10, 41, 46],\n",
       "        [16, 21, 24, 29],\n",
       "        [ 4,  9, 39, 44],\n",
       "        [ 4,  9, 40, 45],\n",
       "        [ 8, 13, 37, 42],\n",
       "        [ 8, 13, 34, 39],\n",
       "        [16, 21, 25, 30],\n",
       "        [13, 18, 28, 33],\n",
       "        [12, 17, 31, 36],\n",
       "        [15, 20, 27, 32],\n",
       "        [ 6, 11, 37, 42],\n",
       "        [11, 16, 32, 37],\n",
       "        [13, 18, 27, 32],\n",
       "        [13, 18, 27, 32],\n",
       "        [ 9, 14, 33, 38],\n",
       "        [10, 15, 33, 38],\n",
       "        [ 4,  9, 40, 45],\n",
       "        [ 6, 11, 36, 41],\n",
       "        [ 9, 14, 34, 39],\n",
       "        [17, 22, 24, 29],\n",
       "        [11, 16, 31, 36],\n",
       "        [ 3,  8, 41, 46],\n",
       "        [10, 15, 32, 37],\n",
       "        [ 7, 12, 38, 43],\n",
       "        [12, 17, 28, 33]]), label=tensor([0, 1, 0, 1, 1, 1, 0, 1, 1, 0, 1, 0, 1, 0, 1, 1, 0, 1, 0, 0, 0, 1, 0, 0,\n",
       "        1, 1, 1, 0, 0, 1, 0, 1]), metadata={'patient_id': tensor([599, 478, 122,  58, 628, 174, 333,  75, 210,  57,  12, 457, 157, 154,\n",
       "        192,  12, 563,  39,  74, 591, 159, 314, 433,  74, 616, 154,  85, 285,\n",
       "        353, 205,  74, 590]), 'path_on_server': ['/med-i_data/Data/Exact_Ultrasound/data/full_data/Benign/UVA-0599_RBM_Benign.mat', '/med-i_data/Data/Exact_Ultrasound/data/full_data/GS7/UVA-0478_RML_GS7.mat', '/med-i_data/Data/Exact_Ultrasound/data/full_data/Benign/UVA-0122_LBL_Benign.mat', '/med-i_data/Data/Exact_Ultrasound/data/full_data/GS7/UVA-0058_LAL_GS7.mat', '/med-i_data/Data/Exact_Ultrasound/data/full_data/GS10/UVA-0628_RBM_GS10.mat', '/med-i_data/Data/Exact_Ultrasound/data/full_data/GS7/UVA-0174_LMM_GS7.mat', '/med-i_data/Data/Exact_Ultrasound/data/full_data/Benign/UVA-0333_RBL_Benign.mat', '/med-i_data/Data/Exact_Ultrasound/data/full_data/GS7/UVA-0075_RBL_GS7.mat', '/med-i_data/Data/Exact_Ultrasound/data/full_data/GS7/UVA-0210_LBL_GS7.mat', '/med-i_data/Data/Exact_Ultrasound/data/full_data/Benign/UVA-0057_LML_Benign.mat', '/med-i_data/Data/Exact_Ultrasound/data/full_data/GS8/UVA-0012_LBM_GS8.mat', '/med-i_data/Data/Exact_Ultrasound/data/full_data/Benign/UVA-0457_LML_Benign.mat', '/med-i_data/Data/Exact_Ultrasound/data/full_data/GS7/UVA-0157_LML_GS7.mat', '/med-i_data/Data/Exact_Ultrasound/data/full_data/Benign/UVA-0154_RBM_Benign.mat', '/med-i_data/Data/Exact_Ultrasound/data/full_data/GS7/UVA-0192_RBM_GS7.mat', '/med-i_data/Data/Exact_Ultrasound/data/full_data/GS8/UVA-0012_LBM_GS8.mat', '/med-i_data/Data/Exact_Ultrasound/data/full_data/Benign/UVA-0563_LMM_Benign.mat', '/med-i_data/Data/Exact_Ultrasound/data/full_data/GS7/UVA-0039_LAM_GS7.mat', '/med-i_data/Data/Exact_Ultrasound/data/full_data/Benign/UVA-0074_LMM_Benign.mat', '/med-i_data/Data/Exact_Ultrasound/data/full_data/Benign/UVA-0591_LMM_Benign.mat', '/med-i_data/Data/Exact_Ultrasound/data/full_data/Benign/UVA-0159_RAL_Benign.mat', '/med-i_data/Data/Exact_Ultrasound/data/full_data/GS8/UVA-0314_LAM_GS8.mat', '/med-i_data/Data/Exact_Ultrasound/data/full_data/Benign/UVA-0433_RML_Benign.mat', '/med-i_data/Data/Exact_Ultrasound/data/full_data/Benign/UVA-0074_RAM_Benign.mat', '/med-i_data/Data/Exact_Ultrasound/data/full_data/GS7/UVA-0616_LBM_GS7.mat', '/med-i_data/Data/Exact_Ultrasound/data/full_data/GS7/UVA-0154_LML_GS7.mat', '/med-i_data/Data/Exact_Ultrasound/data/full_data/GS7/UVA-0085_RML_GS7.mat', '/med-i_data/Data/Exact_Ultrasound/data/full_data/Benign/UVA-0285_LBM_Benign.mat', '/med-i_data/Data/Exact_Ultrasound/data/full_data/Benign/UVA-0353_LMM_Benign.mat', '/med-i_data/Data/Exact_Ultrasound/data/full_data/GS8/UVA-0205_RAL_GS8.mat', '/med-i_data/Data/Exact_Ultrasound/data/full_data/Benign/UVA-0074_RAM_Benign.mat', '/med-i_data/Data/Exact_Ultrasound/data/full_data/GS7/UVA-0590_RBL_GS7.mat'], 'center': ['UVA', 'UVA', 'UVA', 'UVA', 'UVA', 'UVA', 'UVA', 'UVA', 'UVA', 'UVA', 'UVA', 'UVA', 'UVA', 'UVA', 'UVA', 'UVA', 'UVA', 'UVA', 'UVA', 'UVA', 'UVA', 'UVA', 'UVA', 'UVA', 'UVA', 'UVA', 'UVA', 'UVA', 'UVA', 'UVA', 'UVA', 'UVA'], 'loc': ['RBM', 'RML', 'LBL', 'LAL', 'RBM', 'LMM', 'RBL', 'RBL', 'LBL', 'LML', 'LBM', 'LML', 'LML', 'RBM', 'RBM', 'LBM', 'LMM', 'LAM', 'LMM', 'LMM', 'RAL', 'LAM', 'RML', 'RAM', 'LBM', 'LML', 'RML', 'LBM', 'LMM', 'RAL', 'RAM', 'RBL'], 'grade': ['Benign', 'GS7', 'Benign', 'GS7', 'GS10', 'GS7', 'Benign', 'GS7', 'GS7', 'Benign', 'GS8', 'Benign', 'GS7', 'Benign', 'GS7', 'GS8', 'Benign', 'GS7', 'Benign', 'Benign', 'Benign', 'GS8', 'Benign', 'Benign', 'GS7', 'GS7', 'GS7', 'Benign', 'Benign', 'GS8', 'Benign', 'GS7'], 'age': tensor([65, 66, 55, 63, 76, 77, 74, 58, 50, 62, 73, 58, 49, 50, 66, 73, 59, 72,\n",
       "        68, 64, 51, 71, 61, 68, 56, 50, 62, 64, 56, 67, 68, 66]), 'family_history': tensor([False, False, False, False, False, False, False,  True, False, False,\n",
       "        False,  True, False,  True,  True, False, False, False, False, False,\n",
       "         True,  True, False, False, False,  True, False,  True, False, False,\n",
       "        False, False]), 'psa': tensor([ 9.6400, 10.6100,  8.0900,  4.8300,  1.2000,  5.5000,  5.8100,  1.5000,\n",
       "         5.5000,  5.0000, 18.1900,  3.4100,  5.7000, 18.6000,  7.0400, 18.1900,\n",
       "         8.3000,  7.1000,  9.4800,  5.6300,  6.8000,  7.9800,  5.2900,  9.4800,\n",
       "         4.8000, 18.6000, 23.6000,  7.2100,  0.7800,  4.9200,  9.4800, 14.0800],\n",
       "       dtype=torch.float64), 'pct_cancer': tensor([ nan,  40.,  nan,  80., 100.,  80.,  nan,  80.,  42.,  nan,  50.,  nan,\n",
       "         90.,  nan,  45.,  50.,  nan,  50.,  nan,  nan,  nan,  70.,  nan,  nan,\n",
       "         70.,  40., 100.,  nan,  nan,  80.,  nan,  90.], dtype=torch.float64), 'primary_grade': tensor([nan, 4., nan, 3., 5., 4., nan, 4., 3., nan, 4., nan, 3., nan, 3., 4., nan, 3.,\n",
       "        nan, nan, nan, 4., nan, nan, 3., 3., 3., nan, nan, 4., nan, 3.],\n",
       "       dtype=torch.float64), 'secondary_grade': tensor([nan, 3., nan, 4., 5., 3., nan, 3., 4., nan, 4., nan, 4., nan, 4., 4., nan, 4.,\n",
       "        nan, nan, nan, 4., nan, nan, 4., 4., 4., nan, nan, 4., nan, 4.],\n",
       "       dtype=torch.float64), 'patient_specifier': ['UVA-0599', 'UVA-0478', 'UVA-0122', 'UVA-0058', 'UVA-0628', 'UVA-0174', 'UVA-0333', 'UVA-0075', 'UVA-0210', 'UVA-0057', 'UVA-0012', 'UVA-0457', 'UVA-0157', 'UVA-0154', 'UVA-0192', 'UVA-0012', 'UVA-0563', 'UVA-0039', 'UVA-0074', 'UVA-0591', 'UVA-0159', 'UVA-0314', 'UVA-0433', 'UVA-0074', 'UVA-0616', 'UVA-0154', 'UVA-0085', 'UVA-0285', 'UVA-0353', 'UVA-0205', 'UVA-0074', 'UVA-0590'], 'core_specifier': ['UVA-0599_RBM', 'UVA-0478_RML', 'UVA-0122_LBL', 'UVA-0058_LAL', 'UVA-0628_RBM', 'UVA-0174_LMM', 'UVA-0333_RBL', 'UVA-0075_RBL', 'UVA-0210_LBL', 'UVA-0057_LML', 'UVA-0012_LBM', 'UVA-0457_LML', 'UVA-0157_LML', 'UVA-0154_RBM', 'UVA-0192_RBM', 'UVA-0012_LBM', 'UVA-0563_LMM', 'UVA-0039_LAM', 'UVA-0074_LMM', 'UVA-0591_LMM', 'UVA-0159_RAL', 'UVA-0314_LAM', 'UVA-0433_RML', 'UVA-0074_RAM', 'UVA-0616_LBM', 'UVA-0154_LML', 'UVA-0085_RML', 'UVA-0285_LBM', 'UVA-0353_LMM', 'UVA-0205_RAL', 'UVA-0074_RAM', 'UVA-0590_RBL'], 'center_idx': tensor([0, 0, 0, 0, 0, 0, 0, 0, 0, 0, 0, 0, 0, 0, 0, 0, 0, 0, 0, 0, 0, 0, 0, 0,\n",
       "        0, 0, 0, 0, 0, 0, 0, 0]), 'anatomical_loc_idx': tensor([10,  7,  4, 11, 10,  2,  1,  1,  4,  0,  8,  0,  0, 10, 10,  8,  2,  5,\n",
       "         2,  2,  9,  5,  7,  6,  8,  0,  7,  8,  2,  9,  6,  1])})"
      ]
     },
     "execution_count": 4,
     "metadata": {},
     "output_type": "execute_result"
    }
   ],
   "source": [
    "next(iter(dm.train_dataloader()))"
   ]
  },
  {
   "cell_type": "code",
   "execution_count": 15,
   "metadata": {},
   "outputs": [],
   "source": [
    "from src.modeling.seq_models import core_classifier_batch_to_output\n",
    "from src.modeling.registry import core_classifier_no_pos_emb, core_classifier\n",
    "\n",
    "model = core_classifier_no_pos_emb()"
   ]
  },
  {
   "cell_type": "code",
   "execution_count": 16,
   "metadata": {},
   "outputs": [
    {
     "data": {
      "application/vnd.jupyter.widget-view+json": {
       "model_id": "afc82d252f8946d2bf70a0e380da2633",
       "version_major": 2,
       "version_minor": 0
      },
      "text/plain": [
       "  0%|          | 0/315 [00:00<?, ?it/s]"
      ]
     },
     "metadata": {},
     "output_type": "display_data"
    },
    {
     "data": {
      "application/vnd.jupyter.widget-view+json": {
       "model_id": "3161ef61b6304c4eb31e862eb8492ab8",
       "version_major": 2,
       "version_minor": 0
      },
      "text/plain": [
       "  0%|          | 0/315 [00:00<?, ?it/s]"
      ]
     },
     "metadata": {},
     "output_type": "display_data"
    },
    {
     "data": {
      "application/vnd.jupyter.widget-view+json": {
       "model_id": "0fd8d3f074b6411f91a57513661dea32",
       "version_major": 2,
       "version_minor": 0
      },
      "text/plain": [
       "  0%|          | 0/315 [00:00<?, ?it/s]"
      ]
     },
     "metadata": {},
     "output_type": "display_data"
    },
    {
     "data": {
      "application/vnd.jupyter.widget-view+json": {
       "model_id": "2d55e2ed3e3e41fd9d650531ec1405d6",
       "version_major": 2,
       "version_minor": 0
      },
      "text/plain": [
       "  0%|          | 0/315 [00:00<?, ?it/s]"
      ]
     },
     "metadata": {},
     "output_type": "display_data"
    },
    {
     "data": {
      "application/vnd.jupyter.widget-view+json": {
       "model_id": "ec24a08acc4b48c89bb1be36ac3e7ff3",
       "version_major": 2,
       "version_minor": 0
      },
      "text/plain": [
       "  0%|          | 0/315 [00:00<?, ?it/s]"
      ]
     },
     "metadata": {},
     "output_type": "display_data"
    },
    {
     "data": {
      "application/vnd.jupyter.widget-view+json": {
       "model_id": "3478607d79d74ae8960313b8e407c291",
       "version_major": 2,
       "version_minor": 0
      },
      "text/plain": [
       "  0%|          | 0/315 [00:00<?, ?it/s]"
      ]
     },
     "metadata": {},
     "output_type": "display_data"
    },
    {
     "data": {
      "application/vnd.jupyter.widget-view+json": {
       "model_id": "fa4c81dba875435a8352a164f6ce3538",
       "version_major": 2,
       "version_minor": 0
      },
      "text/plain": [
       "  0%|          | 0/315 [00:00<?, ?it/s]"
      ]
     },
     "metadata": {},
     "output_type": "display_data"
    },
    {
     "data": {
      "application/vnd.jupyter.widget-view+json": {
       "model_id": "9928370ef9d5410591bc8539144010d8",
       "version_major": 2,
       "version_minor": 0
      },
      "text/plain": [
       "  0%|          | 0/315 [00:00<?, ?it/s]"
      ]
     },
     "metadata": {},
     "output_type": "display_data"
    },
    {
     "data": {
      "application/vnd.jupyter.widget-view+json": {
       "model_id": "f5b8b42285f9475cb0497a11d53b2edf",
       "version_major": 2,
       "version_minor": 0
      },
      "text/plain": [
       "  0%|          | 0/315 [00:00<?, ?it/s]"
      ]
     },
     "metadata": {},
     "output_type": "display_data"
    },
    {
     "data": {
      "application/vnd.jupyter.widget-view+json": {
       "model_id": "d675591d628143978844921404285c0e",
       "version_major": 2,
       "version_minor": 0
      },
      "text/plain": [
       "  0%|          | 0/315 [00:00<?, ?it/s]"
      ]
     },
     "metadata": {},
     "output_type": "display_data"
    },
    {
     "data": {
      "application/vnd.jupyter.widget-view+json": {
       "model_id": "ed7752568e254a019fb0b64a25798c0d",
       "version_major": 2,
       "version_minor": 0
      },
      "text/plain": [
       "  0%|          | 0/315 [00:00<?, ?it/s]"
      ]
     },
     "metadata": {},
     "output_type": "display_data"
    },
    {
     "data": {
      "application/vnd.jupyter.widget-view+json": {
       "model_id": "e980e01ed9c245c9bae34879a0b0392e",
       "version_major": 2,
       "version_minor": 0
      },
      "text/plain": [
       "  0%|          | 0/315 [00:00<?, ?it/s]"
      ]
     },
     "metadata": {},
     "output_type": "display_data"
    },
    {
     "data": {
      "application/vnd.jupyter.widget-view+json": {
       "model_id": "86b7b0d0b45a4fe6b4c25a2a45f78864",
       "version_major": 2,
       "version_minor": 0
      },
      "text/plain": [
       "  0%|          | 0/315 [00:00<?, ?it/s]"
      ]
     },
     "metadata": {},
     "output_type": "display_data"
    },
    {
     "data": {
      "application/vnd.jupyter.widget-view+json": {
       "model_id": "be64bf2a1dca4aeb932cf0f34dbc8543",
       "version_major": 2,
       "version_minor": 0
      },
      "text/plain": [
       "  0%|          | 0/315 [00:00<?, ?it/s]"
      ]
     },
     "metadata": {},
     "output_type": "display_data"
    },
    {
     "data": {
      "application/vnd.jupyter.widget-view+json": {
       "model_id": "8a7c858fc9b34af2bb2ce7b34b5a4ab8",
       "version_major": 2,
       "version_minor": 0
      },
      "text/plain": [
       "  0%|          | 0/315 [00:00<?, ?it/s]"
      ]
     },
     "metadata": {},
     "output_type": "display_data"
    },
    {
     "data": {
      "application/vnd.jupyter.widget-view+json": {
       "model_id": "dd517ec7d9ad4aeda2dcdc13fff6fcb4",
       "version_major": 2,
       "version_minor": 0
      },
      "text/plain": [
       "  0%|          | 0/315 [00:00<?, ?it/s]"
      ]
     },
     "metadata": {},
     "output_type": "display_data"
    }
   ],
   "source": [
    "from src.utils.metrics import ClassificationOutputCollector\n",
    "from itertools import product\n",
    "from src.utils.metrics import recall, specificity, find_best_threshold, f1\n",
    "from torchmetrics.functional import auroc\n",
    "\n",
    "metrics = []\n",
    "\n",
    "def get_metrics(out): \n",
    "    return {\n",
    "        'auroc': auroc(out['preds'], out['labels'], num_classes=2), \n",
    "        'sens': recall(out),\n",
    "        'spec': specificity(out),\n",
    "    }\n",
    "\n",
    "for seed, split_seed in product(range(4), range(4)): \n",
    "    coll = ClassificationOutputCollector()\n",
    "    model = core_classifier(seed, split_seed)\n",
    "    model.eval().to('cuda:1')\n",
    "    for batch in tqdm(dm.test_dataloader()): \n",
    "        out = core_classifier_batch_to_output(model, batch, 'cuda:1')\n",
    "        coll.collect_batch(out['classification_output'])\n",
    "\n",
    "    out = coll.compute()\n",
    "    metrics.append(get_metrics(out))"
   ]
  },
  {
   "cell_type": "code",
   "execution_count": 24,
   "metadata": {},
   "outputs": [],
   "source": [
    "def map_dict(func, dict): \n",
    "    return {\n",
    "        k: func(v) for k, v in dict.items()\n",
    "    }\n",
    "metrics = [map_dict(lambda t: t.item(), d) for d in metrics]"
   ]
  },
  {
   "cell_type": "code",
   "execution_count": 25,
   "metadata": {},
   "outputs": [
    {
     "data": {
      "text/html": [
       "<div>\n",
       "<style scoped>\n",
       "    .dataframe tbody tr th:only-of-type {\n",
       "        vertical-align: middle;\n",
       "    }\n",
       "\n",
       "    .dataframe tbody tr th {\n",
       "        vertical-align: top;\n",
       "    }\n",
       "\n",
       "    .dataframe thead th {\n",
       "        text-align: right;\n",
       "    }\n",
       "</style>\n",
       "<table border=\"1\" class=\"dataframe\">\n",
       "  <thead>\n",
       "    <tr style=\"text-align: right;\">\n",
       "      <th></th>\n",
       "      <th>auroc</th>\n",
       "      <th>sens</th>\n",
       "      <th>spec</th>\n",
       "    </tr>\n",
       "  </thead>\n",
       "  <tbody>\n",
       "    <tr>\n",
       "      <th>count</th>\n",
       "      <td>16.000000</td>\n",
       "      <td>16.000000</td>\n",
       "      <td>16.000000</td>\n",
       "    </tr>\n",
       "    <tr>\n",
       "      <th>mean</th>\n",
       "      <td>0.802837</td>\n",
       "      <td>0.879849</td>\n",
       "      <td>0.512249</td>\n",
       "    </tr>\n",
       "    <tr>\n",
       "      <th>std</th>\n",
       "      <td>0.019626</td>\n",
       "      <td>0.115764</td>\n",
       "      <td>0.146397</td>\n",
       "    </tr>\n",
       "    <tr>\n",
       "      <th>min</th>\n",
       "      <td>0.744325</td>\n",
       "      <td>0.500000</td>\n",
       "      <td>0.301508</td>\n",
       "    </tr>\n",
       "    <tr>\n",
       "      <th>25%</th>\n",
       "      <td>0.799027</td>\n",
       "      <td>0.857759</td>\n",
       "      <td>0.419598</td>\n",
       "    </tr>\n",
       "    <tr>\n",
       "      <th>50%</th>\n",
       "      <td>0.805255</td>\n",
       "      <td>0.900862</td>\n",
       "      <td>0.512563</td>\n",
       "    </tr>\n",
       "    <tr>\n",
       "      <th>75%</th>\n",
       "      <td>0.817265</td>\n",
       "      <td>0.933190</td>\n",
       "      <td>0.594221</td>\n",
       "    </tr>\n",
       "    <tr>\n",
       "      <th>max</th>\n",
       "      <td>0.824164</td>\n",
       "      <td>1.000000</td>\n",
       "      <td>0.869347</td>\n",
       "    </tr>\n",
       "  </tbody>\n",
       "</table>\n",
       "</div>"
      ],
      "text/plain": [
       "           auroc       sens       spec\n",
       "count  16.000000  16.000000  16.000000\n",
       "mean    0.802837   0.879849   0.512249\n",
       "std     0.019626   0.115764   0.146397\n",
       "min     0.744325   0.500000   0.301508\n",
       "25%     0.799027   0.857759   0.419598\n",
       "50%     0.805255   0.900862   0.512563\n",
       "75%     0.817265   0.933190   0.594221\n",
       "max     0.824164   1.000000   0.869347"
      ]
     },
     "execution_count": 25,
     "metadata": {},
     "output_type": "execute_result"
    }
   ],
   "source": [
    "import pandas as pd \n",
    "pd.DataFrame(metrics).describe()"
   ]
  },
  {
   "cell_type": "code",
   "execution_count": 9,
   "metadata": {},
   "outputs": [
    {
     "data": {
      "text/plain": [
       "0.631578947368421"
      ]
     },
     "execution_count": 9,
     "metadata": {},
     "output_type": "execute_result"
    }
   ],
   "source": [
    "from src.utils.metrics import recall, specificity, find_best_threshold, f1\n",
    "from torchmetrics.functional import auroc\n",
    "\n",
    "find_best_threshold(lambda t: f1(out, t))\n"
   ]
  },
  {
   "cell_type": "code",
   "execution_count": 10,
   "metadata": {},
   "outputs": [
    {
     "data": {
      "text/plain": [
       "tensor(0.8213)"
      ]
     },
     "execution_count": 10,
     "metadata": {},
     "output_type": "execute_result"
    }
   ],
   "source": [
    "auroc(out['preds'], out['labels'], num_classes=2)"
   ]
  },
  {
   "cell_type": "code",
   "execution_count": 12,
   "metadata": {},
   "outputs": [
    {
     "data": {
      "text/plain": [
       "tensor(0.8017)"
      ]
     },
     "execution_count": 12,
     "metadata": {},
     "output_type": "execute_result"
    }
   ],
   "source": [
    "recall(out, 0.631)"
   ]
  },
  {
   "cell_type": "code",
   "execution_count": 13,
   "metadata": {},
   "outputs": [
    {
     "data": {
      "text/plain": [
       "tensor(0.6533)"
      ]
     },
     "execution_count": 13,
     "metadata": {},
     "output_type": "execute_result"
    }
   ],
   "source": [
    "specificity(out, t=0.631)"
   ]
  },
  {
   "cell_type": "code",
   "execution_count": null,
   "metadata": {},
   "outputs": [],
   "source": []
  },
  {
   "cell_type": "code",
   "execution_count": 12,
   "metadata": {},
   "outputs": [
    {
     "data": {
      "text/plain": [
       "{'pool_output': tensor([[-0.5660, -1.0687,  0.7693,  0.4849,  0.6054, -1.5200,  0.0223,  1.2418,\n",
       "           0.2667,  1.4233, -1.8840, -0.7201,  0.5774, -0.7001,  0.9728, -1.2168,\n",
       "           0.7124,  0.9373, -0.4822, -1.5839,  1.2310, -0.8357,  1.6772,  0.8965,\n",
       "          -0.7231, -0.6984,  0.7920, -1.4582, -0.5311, -1.9888,  0.8943,  1.8770,\n",
       "           0.1428,  0.1381, -1.0102, -1.3770,  0.7585, -0.1336,  0.5614,  0.7186,\n",
       "          -0.0615,  1.6559,  0.4951, -0.5544, -0.5137,  0.2699, -0.0854,  1.9345,\n",
       "          -1.1790, -0.5267, -1.2091, -0.6821,  0.8250, -0.8055, -1.5858, -0.6206,\n",
       "          -0.7375, -0.7987,  1.3566,  1.4024,  0.7109,  0.6846,  0.4298,  0.3947]]),\n",
       " 'logits': tensor([[-0.4904,  0.8790]]),\n",
       " 'preds': tensor([[0.2027, 0.7973]]),\n",
       " 'labels': tensor([1]),\n",
       " 'patient_id': tensor([603]),\n",
       " 'path_on_server': array(['/med-i_data/Data/Exact_Ultrasound/data/full_data/GS9/UVA-0603_LML_GS9.mat'],\n",
       "       dtype='<U73'),\n",
       " 'center': array(['UVA'], dtype='<U3'),\n",
       " 'loc': array(['LML'], dtype='<U3'),\n",
       " 'grade': array(['GS9'], dtype='<U3'),\n",
       " 'age': tensor([66]),\n",
       " 'family_history': tensor([False]),\n",
       " 'psa': tensor([28.7000], dtype=torch.float64),\n",
       " 'pct_cancer': tensor([69.], dtype=torch.float64),\n",
       " 'primary_grade': tensor([5.], dtype=torch.float64),\n",
       " 'secondary_grade': tensor([4.], dtype=torch.float64),\n",
       " 'patient_specifier': array(['UVA-0603'], dtype='<U8'),\n",
       " 'core_specifier': array(['UVA-0603_LML'], dtype='<U12')}"
      ]
     },
     "execution_count": 12,
     "metadata": {},
     "output_type": "execute_result"
    }
   ],
   "source": [
    "out"
   ]
  },
  {
   "cell_type": "code",
   "execution_count": null,
   "metadata": {},
   "outputs": [],
   "source": []
  }
 ],
 "metadata": {
  "kernelspec": {
   "display_name": "exact",
   "language": "python",
   "name": "python3"
  },
  "language_info": {
   "codemirror_mode": {
    "name": "ipython",
    "version": 3
   },
   "file_extension": ".py",
   "mimetype": "text/x-python",
   "name": "python",
   "nbconvert_exporter": "python",
   "pygments_lexer": "ipython3",
   "version": "3.9.7"
  },
  "orig_nbformat": 4,
  "vscode": {
   "interpreter": {
    "hash": "7a5cbe58c68b89c0961f395f53ada90e2e240c2940fb46fd24937fe03ca7f49a"
   }
  }
 },
 "nbformat": 4,
 "nbformat_minor": 2
}
