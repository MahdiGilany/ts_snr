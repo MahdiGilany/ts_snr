{
 "cells": [
  {
   "cell_type": "code",
   "execution_count": null,
   "metadata": {
    "collapsed": false,
    "pycharm": {
     "name": "#%%\n"
    }
   },
   "outputs": [],
   "source": [
    "import numpy as np\n",
    "import torch\n",
    "a= torch.tensor([[0,1],[1,0],[1,0],[1,0]])"
   ]
  },
  {
   "cell_type": "code",
   "execution_count": null,
   "metadata": {
    "collapsed": false,
    "pycharm": {
     "name": "#%%\n"
    }
   },
   "outputs": [],
   "source": [
    "print(a)"
   ]
  },
  {
   "cell_type": "code",
   "execution_count": null,
   "metadata": {
    "collapsed": false,
    "pycharm": {
     "name": "#%%\n"
    }
   },
   "outputs": [],
   "source": [
    "import os\n",
    "from src.utils.checkpoints import push_checkpoint_to_image_server\n",
    "\n",
    "ckpt_name = 'ssl-pretrain_all-centers_no-prst_ndl_crop'\n",
    "CHECKPOINT_PATH = '/home/mahdigilany/offline_codes/codes/TRUSnet/logs/experiments/runs/' \\\n",
    "                      'ssl-pretrain_all-centers_no-prst_ndl_crop'\n",
    "\n",
    "split_seed = 3\n",
    "epoch='epoch_076.ckpt'\n",
    "ckpt_path = os.path.join(CHECKPOINT_PATH, '2022-10-18_22-40-44')\n",
    "ckpt_path = os.path.join(ckpt_path, 'checkpoints', epoch)\n",
    "\n",
    "push_checkpoint_to_image_server(checkpoint_name=ckpt_name+f'_{split_seed}', checkpoint_path=ckpt_path)"
   ]
  },
  {
   "cell_type": "markdown",
   "metadata": {
    "collapsed": false,
    "pycharm": {
     "name": "#%% md\n"
    }
   },
   "source": [
    "## load sl sll baselines IPCAI"
   ]
  },
  {
   "cell_type": "code",
   "execution_count": null,
   "metadata": {
    "collapsed": false,
    "pycharm": {
     "name": "#%%\n"
    }
   },
   "outputs": [],
   "source": [
    "from src.utils.checkpoints import get_named_checkpoint\n",
    "split_seed = 0\n",
    "seed = 0\n",
    "ckpt_name = f\"finetune-semi-sup_all-centrs_ssl-pretrain_all-centrs_ssd_{split_seed}_gsd_{seed}\"\n",
    "ckpt_path = get_named_checkpoint(ckpt_name)\n",
    "\n",
    "import torch\n",
    "checkpoint = torch.load(ckpt_path)\n",
    "\n",
    "class _Model(torch.nn.Module):\n",
    "    def __init__(self):\n",
    "        super().__init__()\n",
    "\n",
    "        from src.lightning.lightning_modules.self_supervised.finetune import Finetuner\n",
    "        from omegaconf import OmegaConf\n",
    "        from dataclasses import dataclass\n",
    "\n",
    "        @dataclass\n",
    "        class Backbone:\n",
    "          _target_: str = \"src.modeling.registry.create_model\"\n",
    "          model_name: str = \"vicreg_resnet10_pretrn_allcntrs_noPrst_ndl_crop\"\n",
    "          split_seed: int = 0\n",
    "\n",
    "        backbone_conf = OmegaConf.structured(Backbone(split_seed=split_seed))\n",
    "        model = Finetuner.load_from_checkpoint(ckpt_path, backbone=backbone_conf)\n",
    "\n",
    "        self.backbone = model.backbone\n",
    "        self.linear_layer = model.linear_layer\n",
    "\n",
    "    def forward(self, x):\n",
    "        features = self.backbone.forward(x)\n",
    "        output = self.linear_layer(features)\n",
    "        return output\n",
    "\n",
    "model = _Model()\n",
    "# model.load_state_dict(checkpoint['state_dict'])"
   ]
  },
  {
   "cell_type": "code",
   "execution_count": null,
   "metadata": {
    "collapsed": false,
    "pycharm": {
     "name": "#%%\n"
    }
   },
   "outputs": [],
   "source": [
    "from omegaconf import OmegaConf\n",
    "from dataclasses import dataclass\n",
    "from src.lightning.lightning_modules.self_supervised.finetune import Finetuner\n",
    "\n",
    "@dataclass\n",
    "class Backbone:\n",
    "  _target_: str = \"src.modeling.registry.create_model\"\n",
    "  model_name: str = \"vicreg_resnet10_pretrn_allcntrs_noPrst_ndl_crop\"\n",
    "  split_seed: int = 0\n",
    "\n",
    "backbone_conf = OmegaConf.structured(Backbone)\n",
    "print(OmegaConf.to_yaml(backbone_conf))\n"
   ]
  },
  {
   "cell_type": "code",
   "execution_count": null,
   "metadata": {
    "collapsed": false,
    "pycharm": {
     "name": "#%%\n"
    }
   },
   "outputs": [],
   "source": [
    "from src.utils.checkpoints import get_named_checkpoint\n",
    "split_seed = 0\n",
    "seed = 0\n",
    "ckpt_name = f\"finetune-semi-sup_all-centrs_ssl-pretrain_all-centrs_ssd_{split_seed}_gsd_{seed}\"\n",
    "ckpt_path = get_named_checkpoint(ckpt_name)\n",
    "\n",
    "import torch\n",
    "checkpoint = torch.load(ckpt_path)\n",
    "\n",
    "from src.lightning.lightning_modules.self_supervised.finetune import Finetuner\n",
    "from omegaconf import OmegaConf\n",
    "from dataclasses import dataclass\n",
    "\n",
    "@dataclass\n",
    "class Backbone:\n",
    "  _target_: str = \"src.modeling.registry.create_model\"\n",
    "  model_name: str = \"vicreg_resnet10_pretrn_allcntrs_noPrst_ndl_crop\"\n",
    "  split_seed: int = 0\n",
    "\n",
    "backbone_conf = OmegaConf.structured(Backbone(split_seed=split_seed))\n",
    "model = Finetuner.load_from_checkpoint(ckpt_path, backbone=backbone_conf)"
   ]
  },
  {
   "cell_type": "markdown",
   "metadata": {},
   "source": [
    "## Gleason grading\n"
   ]
  },
  {
   "cell_type": "code",
   "execution_count": 1,
   "metadata": {},
   "outputs": [
    {
     "name": "stdout",
     "output_type": "stream",
     "text": [
      "/home/mahdigilany/offline_codes/codes/TRUSnet\n"
     ]
    }
   ],
   "source": [
    "%cd ..\n",
    "# pass environment variables to jupyter notebook.\n",
    "# %env DATA=/home/mahdigilany/projects_data/Exact"
   ]
  },
  {
   "cell_type": "markdown",
   "metadata": {},
   "source": [
    "### datamodule"
   ]
  },
  {
   "cell_type": "code",
   "execution_count": 2,
   "metadata": {},
   "outputs": [],
   "source": [
    "\n",
    "# from hydra.utils import instantiate\n",
    "# from omegaconf import OmegaConf\n",
    "# from src.lightning.datamodules.exact_datamodule import ExactPatchDMConfig\n",
    "\n",
    "# dm_config = OmegaConf.structured(ExactPatchDMConfig(_target_=\"src.lightning.datamodules.exact_datamodule.PatchesConcatenatedFromCoresDataModule\"))\n",
    "# dm = instantiate(dm_config)\n",
    "# val_ds = dm.val_ds"
   ]
  },
  {
   "cell_type": "code",
   "execution_count": 3,
   "metadata": {},
   "outputs": [
    {
     "name": "stderr",
     "output_type": "stream",
     "text": [
      "/home/mahdigilany/anaconda3/envs/exact_env/lib/python3.10/site-packages/tqdm/auto.py:22: TqdmWarning: IProgress not found. Please update jupyter and ipywidgets. See https://ipywidgets.readthedocs.io/en/stable/user_install.html\n",
      "  from .autonotebook import tqdm as notebook_tqdm\n",
      "Global seed set to 0\n"
     ]
    },
    {
     "data": {
      "text/plain": [
       "0"
      ]
     },
     "execution_count": 3,
     "metadata": {},
     "output_type": "execute_result"
    }
   ],
   "source": [
    "import pytorch_lightning as pl\n",
    "pl.seed_everything(0)"
   ]
  },
  {
   "cell_type": "code",
   "execution_count": 20,
   "metadata": {},
   "outputs": [
    {
     "name": "stdout",
     "output_type": "stream",
     "text": [
      "/home/mahdigilany/projects_data/Exact\n"
     ]
    },
    {
     "name": "stderr",
     "output_type": "stream",
     "text": [
      "Preparing cores: 100%|██████████| 838/838 [00:01<00:00, 745.00it/s]\n",
      "Loading Patch Views: 100%|██████████| 838/838 [00:00<00:00, 5926.58it/s]\n",
      "Preparing cores: 100%|██████████| 80/80 [00:00<00:00, 765.70it/s]\n",
      "Loading Patch Views: 100%|██████████| 80/80 [00:00<00:00, 5776.78it/s]\n",
      "Preparing cores: 100%|██████████| 47/47 [00:00<00:00, 737.73it/s]\n",
      "Loading Patch Views: 100%|██████████| 47/47 [00:00<00:00, 5856.05it/s]\n",
      "Preparing cores: 100%|██████████| 27/27 [00:00<00:00, 689.39it/s]\n",
      "Loading Patch Views: 100%|██████████| 27/27 [00:00<00:00, 5867.38it/s]\n",
      "Preparing cores: 100%|██████████| 46/46 [00:00<00:00, 748.66it/s]\n",
      "Loading Patch Views: 100%|██████████| 46/46 [00:00<00:00, 5816.12it/s]\n",
      "Preparing cores: 100%|██████████| 90/90 [00:00<00:00, 751.19it/s]\n",
      "Loading Patch Views: 100%|██████████| 90/90 [00:00<00:00, 5797.51it/s]\n",
      "Preparing cores: 100%|██████████| 57/57 [00:00<00:00, 742.77it/s]\n",
      "Loading Patch Views: 100%|██████████| 57/57 [00:00<00:00, 5833.81it/s]\n",
      "Preparing cores: 100%|██████████| 54/54 [00:00<00:00, 704.55it/s]\n",
      "Loading Patch Views: 100%|██████████| 54/54 [00:00<00:00, 5885.06it/s]\n",
      "Preparing cores: 100%|██████████| 77/77 [00:00<00:00, 682.28it/s]\n",
      "Loading Patch Views: 100%|██████████| 77/77 [00:00<00:00, 5803.44it/s]\n"
     ]
    }
   ],
   "source": [
    "from src.lightning.datamodules.exact_datamodule import ExactPatchDMConfig\n",
    "from src.configuration import register_configs\n",
    "from hydra import compose, initialize\n",
    "from hydra.utils import instantiate \n",
    "from hydra.core.global_hydra import GlobalHydra\n",
    "from omegaconf import OmegaConf\n",
    "from rich import print as pprint\n",
    "\n",
    "# dm_config = OmegaConf.structured(ExactPatchDMConfig(_target_=\"src.lightning.datamodules.exact_datamodule.PatchDataModuleForSupervisedLearning\"))\n",
    "\n",
    "register_configs()\n",
    "\n",
    "GlobalHydra.instance().clear()\n",
    "initialize(config_path=\"../configs\", version_base=\"1.1\")\n",
    "\n",
    "dm_config = compose(\n",
    "    config_name=\"datamodule/concatenated_cores.yaml\", \n",
    "    overrides=[\"datamodule.splits.cohort_specifier=['UVA', 'CRCEO', 'PMCC', 'PCC']\",\n",
    "               \"datamodule.splits.train_val_split_seed=1\",\n",
    "               \"datamodule.splits.train_val_ratio=0.2\",\n",
    "               \"datamodule.splits.test_as_val=True\"]\n",
    "    )\n",
    "dm = instantiate(dm_config)\n",
    "# pprint(OmegaConf.to_yaml(dm_config))\n",
    "\n",
    "dm = dm['datamodule']\n",
    "print(dm.root)\n",
    "dm.setup()\n"
   ]
  },
  {
   "cell_type": "code",
   "execution_count": 79,
   "metadata": {},
   "outputs": [
    {
     "data": {
      "text/plain": [
       "8"
      ]
     },
     "execution_count": 79,
     "metadata": {},
     "output_type": "execute_result"
    }
   ],
   "source": [
    "train_dl_list = [dm.train_dataloader()]\n",
    "val_dl_list = dm.val_dataloader()\n",
    "test_dl_list = dm.test_dataloader()\n",
    "len(val_dl_list)\n",
    "# test_ds_dict = dm.test_ds"
   ]
  },
  {
   "cell_type": "code",
   "execution_count": 22,
   "metadata": {},
   "outputs": [],
   "source": [
    "val_dl_UVA = val_dl_list[0]\n",
    "test_dl_UVA = test_dl_list[0]"
   ]
  },
  {
   "cell_type": "code",
   "execution_count": 23,
   "metadata": {},
   "outputs": [],
   "source": [
    "# batch = next(iter(val_dl_UVA))\n",
    "# batch[2]"
   ]
  },
  {
   "cell_type": "markdown",
   "metadata": {},
   "source": [
    "### model"
   ]
  },
  {
   "cell_type": "code",
   "execution_count": 87,
   "metadata": {},
   "outputs": [
    {
     "name": "stderr",
     "output_type": "stream",
     "text": [
      "/home/mahdigilany/anaconda3/envs/exact_env/lib/python3.10/site-packages/pytorch_lightning/utilities/parsing.py:261: UserWarning: Attribute 'backbone' is an instance of `nn.Module` and is already saved during checkpointing. It is recommended to ignore them using `self.save_hyperparameters(ignore=['backbone'])`.\n",
      "  rank_zero_warn(\n"
     ]
    }
   ],
   "source": [
    "from src.modeling.registry import create_model\n",
    "\n",
    "model = create_model(model_name=\"grade_linear_all_centers\", with_sampler=False)\n"
   ]
  },
  {
   "cell_type": "code",
   "execution_count": 88,
   "metadata": {},
   "outputs": [
    {
     "data": {
      "text/plain": [
       "  | Name         | Type               | Params\n",
       "----------------------------------------------------\n",
       "0 | train_acc    | Accuracy           | 0     \n",
       "1 | backbone     | VICReg             | 5.7 M \n",
       "2 | head_network | MultiheadAttention | 1.1 M \n",
       "----------------------------------------------------\n",
       "6.8 M     Trainable params\n",
       "0         Non-trainable params\n",
       "6.8 M     Total params\n",
       "27.352    Total estimated model params size (MB)"
      ]
     },
     "execution_count": 88,
     "metadata": {},
     "output_type": "execute_result"
    }
   ],
   "source": [
    "from pytorch_lightning.utilities.model_summary import ModelSummary\n",
    "\n",
    "ModelSummary(model, max_depth=1)"
   ]
  },
  {
   "cell_type": "markdown",
   "metadata": {},
   "source": [
    "### trainer/tester"
   ]
  },
  {
   "cell_type": "code",
   "execution_count": 89,
   "metadata": {},
   "outputs": [],
   "source": [
    "# import pytorch_lightning as pl\n",
    "\n",
    "# trainer = pl.Trainer(gpus=1, max_epochs=1)\n",
    "# validation_epoch_end_outputs = trainer.test(model, dataloaders=test_dl_UVA)"
   ]
  },
  {
   "cell_type": "code",
   "execution_count": 90,
   "metadata": {},
   "outputs": [],
   "source": [
    "import torch\n",
    "\n",
    "device = torch.device(\"cuda:0\" if torch.cuda.is_available() else \"cpu\")\n",
    "model = model.to(device)\n",
    "model.eval()\n",
    "\n",
    "# accumulating logits and labels in logits_list and labels_list\n",
    "logits_list = []\n",
    "labels_list = []\n",
    "\n",
    "# accumulating metadata dictionaries in a pandas dataframe \n",
    "import pandas as pd\n",
    "metadata_list = []\n",
    "\n",
    "for _loader in train_dl_list[:4]:\n",
    "    for batch in _loader:\n",
    "        x = batch[0].to(device)\n",
    "        pos = batch[1]\n",
    "        y = batch[2]\n",
    "        metadata = batch[3:]\n",
    "        \n",
    "        loss, logits, labels, *metadata = model.shared_step(tuple([x, pos, y, *metadata]))\n",
    "        \n",
    "        metadata_list.append(metadata[0])\n",
    "        logits_list.append(logits.detach().cpu())\n",
    "        labels_list.append(labels.detach().cpu())\n",
    "    \n",
    "logits = torch.cat(logits_list) # (N, 3)\n",
    "labels = torch.cat(labels_list) # (N,)\n",
    "metadata_df = pd.DataFrame(metadata_list)"
   ]
  },
  {
   "attachments": {},
   "cell_type": "markdown",
   "metadata": {},
   "source": [
    "### getting performance"
   ]
  },
  {
   "cell_type": "code",
   "execution_count": 132,
   "metadata": {},
   "outputs": [
    {
     "name": "stdout",
     "output_type": "stream",
     "text": [
      "acc: 0.6921241050119332, b_acc: 0.5691997228999126, auc: [0.81387165 0.79569021 0.77309708]\n",
      "b_acc: tensor([0.7972, 0.6961, 0.2143]), auc: tensor([0.8113, 0.7905, 0.7531])\n"
     ]
    }
   ],
   "source": [
    "# logits.softmax(dim=1).argmax(dim=1)\n",
    "# finding macro accuracy and auroc using labels and logits.\n",
    "from sklearn.metrics import balanced_accuracy_score, roc_auc_score, accuracy_score\n",
    "acc = accuracy_score(labels, logits.softmax(dim=1).argmax(dim=1))\n",
    "b_acc = balanced_accuracy_score(labels, logits.softmax(dim=1).argmax(dim=1))\n",
    "auc = roc_auc_score(labels, logits.softmax(dim=1), multi_class=\"ovr\",average=None)\n",
    "\n",
    "print(f\"acc: {acc}, b_acc: {b_acc}, auc: {auc}\")\n",
    "\n",
    "# getting the same metrics using pytorch lightning\n",
    "from torchmetrics.functional.classification import accuracy, auroc\n",
    "acc = accuracy(logits, labels, num_classes=3, average=\"none\", multiclass=True)\n",
    "auc = auroc(logits, labels, num_classes=3, average=\"None\")\n",
    "\n",
    "print(f\"b_acc: {acc}, auc: {auc}\")"
   ]
  },
  {
   "attachments": {},
   "cell_type": "markdown",
   "metadata": {},
   "source": [
    "### checking predictions "
   ]
  },
  {
   "cell_type": "code",
   "execution_count": null,
   "metadata": {},
   "outputs": [],
   "source": [
    "import numpy as np\n",
    "print(labels)\n",
    "print(logits.softmax(dim=1).argmax(dim=1))\n",
    "print(torch.sum(labels == 0))"
   ]
  },
  {
   "attachments": {},
   "cell_type": "markdown",
   "metadata": {},
   "source": [
    "### testing loading from checkpoint"
   ]
  },
  {
   "cell_type": "code",
   "execution_count": 30,
   "metadata": {},
   "outputs": [
    {
     "name": "stdout",
     "output_type": "stream",
     "text": [
      "Parameter containing:\n",
      "tensor([[ 1.6366e-02,  1.2715e-02,  9.7730e-03,  ..., -3.1610e-02,\n",
      "          1.3288e-02,  2.8237e-06],\n",
      "        [-2.7461e-02,  1.1492e-02,  3.6739e-02,  ..., -2.5170e-02,\n",
      "         -2.7714e-02, -1.1655e-02],\n",
      "        [-2.5266e-02,  3.5729e-02,  1.9143e-02,  ..., -1.0565e-02,\n",
      "         -4.7182e-03,  3.0842e-02],\n",
      "        ...,\n",
      "        [-1.0982e-02,  2.7076e-02,  1.9341e-02,  ..., -2.3310e-02,\n",
      "          1.5406e-03,  3.0218e-02],\n",
      "        [-1.2433e-02, -1.0591e-02, -3.3257e-03,  ...,  9.9350e-03,\n",
      "         -1.4610e-02, -3.1932e-03],\n",
      "        [-2.2631e-02,  3.4880e-02, -1.2592e-02,  ...,  1.5350e-02,\n",
      "          2.2455e-02, -2.0288e-02]], requires_grad=True)\n"
     ]
    },
    {
     "name": "stderr",
     "output_type": "stream",
     "text": [
      "/home/mahdigilany/anaconda3/envs/exact_env/lib/python3.10/site-packages/pytorch_lightning/utilities/parsing.py:261: UserWarning: Attribute 'backbone' is an instance of `nn.Module` and is already saved during checkpointing. It is recommended to ignore them using `self.save_hyperparameters(ignore=['backbone'])`.\n",
      "  rank_zero_warn(\n"
     ]
    }
   ],
   "source": [
    "from src.utils.checkpoints import get_named_checkpoint\n",
    "from src.lightning.lightning_modules.self_supervised.finetune import CoreGradeFinetuner\n",
    "from omegaconf import OmegaConf\n",
    "from dataclasses import dataclass\n",
    "\n",
    "# ckpt_name = f\"grading_Multattn-sl_all-centrs_ssl-pretrain_all-centrs\"\n",
    "# ckpt_path = get_named_checkpoint(ckpt_name)\n",
    "\n",
    "# ckpt_path = \"./logs/experiments/runs/Grading_Multattn-sl_all-centrs_ssl-pretrain_all-centrs_bsz20/\" \\\n",
    "#     \"2022-11-29_18-15-46/checkpoints/epoch_017.ckpt\"\n",
    "\n",
    "ckpt_path = \"/home/mahdigilany/projects_data/Exact/checkpoint_store/epoch_011.ckpt\"\n",
    "\n",
    "\n",
    "@dataclass\n",
    "class Backbone:\n",
    "    _target_: str = \"src.modeling.registry.create_model\"\n",
    "    model_name: str = \"vicreg_resnet10_pretrn_allcntrs_noPrst_ndl_crop\"\n",
    "    split_seed: int = 1\n",
    "\n",
    "backbone_conf = OmegaConf.structured(Backbone)\n",
    "model = CoreGradeFinetuner.load_from_checkpoint(ckpt_path, backbone=backbone_conf)\n",
    "\n",
    "model_notloaded = create_model(model_name=\"vicreg_resnet10_pretrn_allcntrs_noPrst_ndl_crop\", split_seed=1)\n",
    "# print(torch.load(ckpt_path)['state_dict']['backbone.backbone.layer1.0.conv1.weight'])\n",
    "# print(model_notloaded.backbone.layer1[0].conv1.weight)\n",
    "# print(model.backbone.backbone.layer1[0].conv1.weight)\n",
    "\n",
    "\n",
    "# instantiating head network using structured config\n",
    "from omegaconf import OmegaConf\n",
    "from src.lightning.lightning_modules.self_supervised.finetune import HeadNetConfig\n",
    "\n",
    "head_config = OmegaConf.structured(HeadNetConfig)\n",
    "head_network = instantiate(head_config)\n",
    "\n",
    "print(model.head_network.linears[0].weight)\n",
    "# print(head_network.linears[0].weight)"
   ]
  },
  {
   "cell_type": "code",
   "execution_count": 31,
   "metadata": {},
   "outputs": [
    {
     "data": {
      "image/png": "[encoded data removed]",
      "text/plain": [
       "<Figure size 640x480 with 1 Axes>"
      ]
     },
     "metadata": {},
     "output_type": "display_data"
    }
   ],
   "source": [
    "# plotting the histogram of the weights of the first convolutional layer of the backbone.\n",
    "import matplotlib.pyplot as plt\n",
    "\n",
    "plt.hist(model.backbone.backbone.layer1[0].conv1.weight.detach().cpu().flatten(), bins=100, alpha=0.2)\n",
    "plt.hist(model_notloaded.backbone.layer1[0].conv1.weight.detach().cpu().flatten(), bins=100, alpha=0.2)\n",
    "# plt.hist(torch.load(ckpt_path)['state_dict']['backbone.backbone.layer1.0.conv1.weight'].detach().cpu().flatten(),\n",
    "        #  bins=100, alpha=0.2)\n",
    "plt.show()\n"
   ]
  },
  {
   "attachments": {},
   "cell_type": "markdown",
   "metadata": {},
   "source": [
    "### another testing loading from checkpoint"
   ]
  },
  {
   "cell_type": "code",
   "execution_count": 32,
   "metadata": {},
   "outputs": [
    {
     "data": {
      "text/plain": [
       "<All keys matched successfully>"
      ]
     },
     "execution_count": 32,
     "metadata": {},
     "output_type": "execute_result"
    }
   ],
   "source": [
    "from src.utils.checkpoints import get_named_checkpoint\n",
    "from src.lightning.lightning_modules.self_supervised.finetune import CoreGradeFinetuner\n",
    "from omegaconf import OmegaConf\n",
    "from dataclasses import dataclass\n",
    "\n",
    "# ckpt_name = f\"grading_Multattn-sl_all-centrs_ssl-pretrain_all-centrs\"\n",
    "# ckpt_path = get_named_checkpoint(ckpt_name)\n",
    "\n",
    "# ckpt_path = \"./logs/experiments/runs/Grading_Multattn-sl_all-centrs_ssl-pretrain_all-centrs_bsz20/\" \\\n",
    "#     \"2022-11-29_18-15-46/checkpoints/epoch_017.ckpt\"\n",
    "\n",
    "ckpt_path = \"/home/mahdigilany/projects_data/Exact/checkpoint_store/epoch_011.ckpt\"\n",
    "sd = torch.load(ckpt_path)\n",
    "\n",
    "\n",
    "feat_extractor = create_model(\"vicreg_resnet10_pretrn_allcntrs_noPrst_ndl_crop\", split_seed=1)\n",
    "# print(feat_extractor.backbone.layer1[0].conv1.weight)\n",
    "feat_sd = {\n",
    "    k.removeprefix(\"backbone.\"): v\n",
    "    for k, v in sd[\"state_dict\"].items()\n",
    "    if \"backbone\" in k\n",
    "}\n",
    "feat_extractor.load_state_dict(feat_sd)\n",
    "# print(feat_extractor.backbone.layer1[0].conv1.weight)\n",
    "\n",
    "\n",
    "head_net = create_model(\"attention_classifier\", token_dim=512, num_classes=3)\n",
    "# print(head_net.linears[0].weight)\n",
    "head_sd = {\n",
    "    k.removeprefix(\"head_network.\"): v\n",
    "    for k, v in sd[\"state_dict\"].items()\n",
    "    if \"head_network\" in k\n",
    "}\n",
    "head_net.load_state_dict(head_sd)\n",
    "# print(head_net.linears[0].weight)\n",
    "# print(model.head_network.linears[0].weight)\n"
   ]
  },
  {
   "attachments": {},
   "cell_type": "markdown",
   "metadata": {},
   "source": [
    "### Visualizing predictions"
   ]
  },
  {
   "cell_type": "code",
   "execution_count": 92,
   "metadata": {},
   "outputs": [
    {
     "data": {
      "image/png": "[encoded data removed]",
      "text/plain": [
       "<Figure size 640x480 with 1 Axes>"
      ]
     },
     "metadata": {},
     "output_type": "display_data"
    }
   ],
   "source": [
    "import matplotlib.pyplot as plt\n",
    "_labels = labels.numpy()\n",
    "_logits = logits.softmax(dim=1).numpy()\n",
    "\n",
    "# plotting first and second dimension of logits with color coding based on the labels\n",
    "fig, ax = plt.subplots()\n",
    "# scatter = ax.scatter(_logits[:, 0], _logits[:, 1], c=_logits.argmax(axis=1), s=15,)\n",
    "scatter = ax.scatter(_logits[:, 0], _logits[:, 1], c=_labels, s=15,)\n",
    "\n",
    "# produce a legend with the unique colors from the scatter\n",
    "legend1 = ax.legend(*scatter.legend_elements(),\n",
    "                    loc=\"upper right\", title=\"Classes\")\n",
    "ax.add_artist(legend1)\n",
    "\n",
    "# set the scale of x and y axis to be the same from 0 to 1\n",
    "ax.set_xlim(0, 1)\n",
    "ax.set_ylim(0, 1)\n",
    "# produce labels for the plot. x axis should be called benign and y axis should be called Low Grade\n",
    "ax.set_xlabel(\"Benign\")\n",
    "ax.set_ylabel(\"Low Grade\")\n",
    "\n",
    "x = np.linspace(1/3, .5, 100)\n",
    "y = x\n",
    "ax.plot(x, y, color=\"black\", linestyle=\"--\")\n",
    "\n",
    "\n",
    "y = 1 - 2*x\n",
    "ax.plot(x, y, color=\"black\", linestyle=\"--\")\n",
    "\n",
    "x = np.linspace(0, 1/3, 100)\n",
    "y = 0.5 - 0.5*x\n",
    "ax.plot(x, y, color=\"black\", linestyle=\"--\")\n",
    "\n",
    "x = np.linspace(0, 1, 100)\n",
    "y = 1 - x\n",
    "ax.plot(x, y, color=\"black\", linestyle=\"--\")\n",
    "\n",
    "plt.show()\n",
    "# print(labels.numpy())"
   ]
  },
  {
   "attachments": {},
   "cell_type": "markdown",
   "metadata": {},
   "source": [
    "## from this part I just test some codes"
   ]
  },
  {
   "cell_type": "code",
   "execution_count": 40,
   "metadata": {},
   "outputs": [],
   "source": [
    "import src.data.sampler as sampler\n",
    "train_ds = dm.train_ds\n",
    "meta_data = train_ds.metadata\n"
   ]
  },
  {
   "cell_type": "code",
   "execution_count": null,
   "metadata": {},
   "outputs": [],
   "source": [
    "# I want to get grades which are in the meta_data and categorize them into 3 classes based on the following criteria:\n",
    "# 1. if grade is Bening, then the label is 0\n",
    "# 2. if grade is GS7, then the label is 1\n",
    "# 3. if grade is GS8 or GS9 or GS10, then the label is 2\n",
    "# meta_data['grade'] = meta_data['grade'].fillna(0)\n",
    "import pandas as pd\n",
    "# copy dataframes  \n",
    "dataframe = pd.DataFrame(meta_data.copy())\n",
    "# dataframe = pd.DataFrame(meta_data)\n",
    "dataframe[dataframe['grade'] == 'Benign'] = 0\n",
    "dataframe[dataframe['grade'] == 'GS7'] = 1\n",
    "dataframe[dataframe['grade'] == 'GS8'] = 2\n",
    "dataframe[dataframe['grade'] == 'GS9'] = 2\n",
    "dataframe[dataframe['grade'] == 'GS10'] = 2\n",
    "dataframe['grade']\n",
    "dataframe['grade'] = dataframe['grade'].astype(int)\n",
    "dataframe['grade']\n",
    "\n",
    "dataframe['grade'].to_numpy()"
   ]
  },
  {
   "cell_type": "code",
   "execution_count": 131,
   "metadata": {},
   "outputs": [
    {
     "name": "stdout",
     "output_type": "stream",
     "text": [
      "[52, 34, 15, 30]\n",
      "131\n"
     ]
    }
   ],
   "source": [
    "# getting properties of the class train_dl\n",
    "no_list = []\n",
    "for dl in val_dl_list[:4]:\n",
    "    no_list.append(sum(dl.dataset.metadata['grade'] == \"Benign\"))\n",
    "\n",
    "print(no_list)\n",
    "print(sum(no_list))"
   ]
  },
  {
   "attachments": {},
   "cell_type": "markdown",
   "metadata": {},
   "source": [
    "### test loading model"
   ]
  },
  {
   "cell_type": "code",
   "execution_count": 4,
   "metadata": {},
   "outputs": [
    {
     "name": "stdout",
     "output_type": "stream",
     "text": [
      "/home/mahdigilany/offline_codes/codes/TRUSnet\n"
     ]
    }
   ],
   "source": [
    "%cd .."
   ]
  },
  {
   "cell_type": "code",
   "execution_count": 27,
   "metadata": {},
   "outputs": [
    {
     "data": {
      "text/plain": [
       "True"
      ]
     },
     "execution_count": 27,
     "metadata": {},
     "output_type": "execute_result"
    }
   ],
   "source": [
    "from src.modeling.registry import create_model\n",
    "from src.typing import FeatureExtractionProtocol\n",
    "\n",
    "from src.utils.checkpoints import get_named_checkpoint\n",
    "import torch\n",
    "\n",
    "seed = 12345\n",
    "split_seed = 0\n",
    "ckpt_name = f\"sl_CRCEO428_sd{seed}_splt{split_seed}\"\n",
    "ckpt_path = get_named_checkpoint(ckpt_name)\n",
    "\n",
    "checkpoint = torch.load(ckpt_path)\n",
    "state_dict = checkpoint[\"state_dict\"]\n",
    "\n",
    "feat_sd = {\n",
    "    k.removeprefix(\"backbone.\"): v\n",
    "    for k, v in state_dict.items()\n",
    "    if \"backbone\" in k\n",
    "}\n",
    "\n",
    "feat_sd = {\n",
    "    k.removeprefix(\"backbone.\"): v\n",
    "    for k, v in feat_sd.items()\n",
    "    if \"backbone\" in k\n",
    "}\n",
    "\n",
    "feat_sd.keys()\n",
    "\n",
    "feat_extractor = create_model(\"resnet10_feature_extractor\")\n",
    "\n",
    "feat_extractor.load_state_dict(feat_sd)\n",
    "\n",
    "\n",
    "isinstance(feat_extractor, FeatureExtractionProtocol)\n"
   ]
  }
 ],
 "metadata": {
  "kernelspec": {
   "display_name": "exact_env",
   "language": "python",
   "name": "python3"
  },
  "language_info": {
   "codemirror_mode": {
    "name": "ipython",
    "version": 3
   },
   "file_extension": ".py",
   "mimetype": "text/x-python",
   "name": "python",
   "nbconvert_exporter": "python",
   "pygments_lexer": "ipython3",
   "version": "3.10.8 (main, Nov  4 2022, 13:48:29) [GCC 11.2.0]"
  },
  "vscode": {
   "interpreter": {
    "hash": "410e89f2f44b0beb9bc17729029af0a1782becd3423b288ae69b52d70a74bed6"
   }
  }
 },
 "nbformat": 4,
 "nbformat_minor": 0
}
