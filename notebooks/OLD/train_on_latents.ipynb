{
 "cells": [
  {
   "cell_type": "code",
   "execution_count": 1,
   "metadata": {},
   "outputs": [
    {
     "name": "stdout",
     "output_type": "stream",
     "text": [
      "/home/paulw/projects/TRUSnet-1\n"
     ]
    }
   ],
   "source": [
    "%cd .."
   ]
  },
  {
   "cell_type": "code",
   "execution_count": 95,
   "metadata": {},
   "outputs": [],
   "source": [
    "import numpy as np \n",
    "import torch\n",
    "\n",
    "def map_dict(func, dict): \n",
    "    return {\n",
    "        k: func(v) for k, v in dict.items()\n",
    "    }\n",
    "\n",
    "def key_select(dict, *keys): \n",
    "    return {\n",
    "        k: dict[k] for k in keys\n",
    "    }\n",
    "\n",
    "paths = {\n",
    "    'train': 'train_latents.npz',\n",
    "    'val': 'val_latents.npz', \n",
    "    'test': 'test_latents.npz'\n",
    "}\n",
    "\n",
    "FOLDER = 'latents/all_cores_core_classifier/'\n",
    "\n",
    "paths = map_dict(\n",
    "    lambda p: os.path.join(FOLDER, p), paths\n",
    ")\n",
    "\n",
    "latents_datasets = map_dict(\n",
    "    lambda p: dict(np.load(p)), paths\n",
    ")\n",
    "\n",
    "def to_grade_group(gleason_score, primary_grade, secondary_grade): \n",
    "    \n",
    "    if gleason_score == 'Benign': \n",
    "        return 0\n",
    "\n",
    "    else: \n",
    "        return 1\n",
    "    \n",
    "    #gleason_score = {\n",
    "    #    'GS7': 7, \n",
    "    #    'GS8': 8, \n",
    "    #    'GS9': 9, \n",
    "    #    'GS10': 10\n",
    "    #}[gleason_score]\n",
    "#\n",
    "    #if gleason_score == 6: return 1\n",
    "    #elif gleason_score == 7: \n",
    "    #    if primary_grade == 3: return 2\n",
    "    #    else: return 3\n",
    "    #elif gleason_score == 8: return 4 \n",
    "    #elif gleason_score >= 9: return 5 \n",
    "    #else: raise ValueError(f'Invalid grade encountered')\n",
    "\n",
    "\n",
    "class LatentsDataset: \n",
    "    def __init__(self, latents_data): \n",
    "        self.latents_data = latents_data\n",
    "\n",
    "    def __len__(self): \n",
    "        return len(self.latents_data['pool_output'])\n",
    "\n",
    "    def __getitem__(self, idx):\n",
    "        pool_output = self.latents_data['pool_output'][idx]\n",
    "        pool_output = torch.tensor(pool_output)\n",
    "\n",
    "        grade = self.latents_data['grade'][idx]\n",
    "        primary_grade = self.latents_data['primary_grade'][idx]\n",
    "        secondary_grade = self.latents_data['secondary_grade']\n",
    "        grade_group = to_grade_group(grade, primary_grade, secondary_grade)\n",
    "        grade_group = torch.tensor(grade_group)\n",
    "\n",
    "        return pool_output, grade_group\n",
    "\n",
    "\n",
    "BATCH_SIZE=64\n",
    "def to_loader(dataset, train:bool): \n",
    "    from torch.utils.data import DataLoader\n",
    "    return DataLoader(dataset, BATCH_SIZE, shuffle=train)\n",
    "\n",
    "latents_datasets_torch = map_dict(LatentsDataset, latents_datasets)\n",
    "\n",
    "train_loader = to_loader(latents_datasets_torch['train'], True)\n",
    "val_loader = to_loader(latents_datasets_torch['val'], False)\n",
    "test_loader = to_loader(latents_datasets_torch['test'], False)"
   ]
  },
  {
   "cell_type": "code",
   "execution_count": 99,
   "metadata": {},
   "outputs": [
    {
     "data": {
      "text/plain": [
       "(4575, 512)"
      ]
     },
     "execution_count": 99,
     "metadata": {},
     "output_type": "execute_result"
    }
   ],
   "source": [
    "latents_datasets['train']['pool_output'].shape"
   ]
  },
  {
   "cell_type": "code",
   "execution_count": 118,
   "metadata": {},
   "outputs": [
    {
     "name": "stderr",
     "output_type": "stream",
     "text": [
      "/home/paulw/anaconda3/envs/exact/lib/python3.9/site-packages/umap/umap_.py:1802: UserWarning: gradient function is not yet implemented for yule distance metric; inverse_transform will be unavailable\n",
      "  warn(\n"
     ]
    },
    {
     "data": {
      "text/html": [
       "<style>#sk-container-id-2 {color: black;background-color: white;}#sk-container-id-2 pre{padding: 0;}#sk-container-id-2 div.sk-toggleable {background-color: white;}#sk-container-id-2 label.sk-toggleable__label {cursor: pointer;display: block;width: 100%;margin-bottom: 0;padding: 0.3em;box-sizing: border-box;text-align: center;}#sk-container-id-2 label.sk-toggleable__label-arrow:before {content: \"▸\";float: left;margin-right: 0.25em;color: #696969;}#sk-container-id-2 label.sk-toggleable__label-arrow:hover:before {color: black;}#sk-container-id-2 div.sk-estimator:hover label.sk-toggleable__label-arrow:before {color: black;}#sk-container-id-2 div.sk-toggleable__content {max-height: 0;max-width: 0;overflow: hidden;text-align: left;background-color: #f0f8ff;}#sk-container-id-2 div.sk-toggleable__content pre {margin: 0.2em;color: black;border-radius: 0.25em;background-color: #f0f8ff;}#sk-container-id-2 input.sk-toggleable__control:checked~div.sk-toggleable__content {max-height: 200px;max-width: 100%;overflow: auto;}#sk-container-id-2 input.sk-toggleable__control:checked~label.sk-toggleable__label-arrow:before {content: \"▾\";}#sk-container-id-2 div.sk-estimator input.sk-toggleable__control:checked~label.sk-toggleable__label {background-color: #d4ebff;}#sk-container-id-2 div.sk-label input.sk-toggleable__control:checked~label.sk-toggleable__label {background-color: #d4ebff;}#sk-container-id-2 input.sk-hidden--visually {border: 0;clip: rect(1px 1px 1px 1px);clip: rect(1px, 1px, 1px, 1px);height: 1px;margin: -1px;overflow: hidden;padding: 0;position: absolute;width: 1px;}#sk-container-id-2 div.sk-estimator {font-family: monospace;background-color: #f0f8ff;border: 1px dotted black;border-radius: 0.25em;box-sizing: border-box;margin-bottom: 0.5em;}#sk-container-id-2 div.sk-estimator:hover {background-color: #d4ebff;}#sk-container-id-2 div.sk-parallel-item::after {content: \"\";width: 100%;border-bottom: 1px solid gray;flex-grow: 1;}#sk-container-id-2 div.sk-label:hover label.sk-toggleable__label {background-color: #d4ebff;}#sk-container-id-2 div.sk-serial::before {content: \"\";position: absolute;border-left: 1px solid gray;box-sizing: border-box;top: 0;bottom: 0;left: 50%;z-index: 0;}#sk-container-id-2 div.sk-serial {display: flex;flex-direction: column;align-items: center;background-color: white;padding-right: 0.2em;padding-left: 0.2em;position: relative;}#sk-container-id-2 div.sk-item {position: relative;z-index: 1;}#sk-container-id-2 div.sk-parallel {display: flex;align-items: stretch;justify-content: center;background-color: white;position: relative;}#sk-container-id-2 div.sk-item::before, #sk-container-id-2 div.sk-parallel-item::before {content: \"\";position: absolute;border-left: 1px solid gray;box-sizing: border-box;top: 0;bottom: 0;left: 50%;z-index: -1;}#sk-container-id-2 div.sk-parallel-item {display: flex;flex-direction: column;z-index: 1;position: relative;background-color: white;}#sk-container-id-2 div.sk-parallel-item:first-child::after {align-self: flex-end;width: 50%;}#sk-container-id-2 div.sk-parallel-item:last-child::after {align-self: flex-start;width: 50%;}#sk-container-id-2 div.sk-parallel-item:only-child::after {width: 0;}#sk-container-id-2 div.sk-dashed-wrapped {border: 1px dashed gray;margin: 0 0.4em 0.5em 0.4em;box-sizing: border-box;padding-bottom: 0.4em;background-color: white;}#sk-container-id-2 div.sk-label label {font-family: monospace;font-weight: bold;display: inline-block;line-height: 1.2em;}#sk-container-id-2 div.sk-label-container {text-align: center;}#sk-container-id-2 div.sk-container {/* jupyter's `normalize.less` sets `[hidden] { display: none; }` but bootstrap.min.css set `[hidden] { display: none !important; }` so we also need the `!important` here to be able to override the default hidden behavior on the sphinx rendered scikit-learn.org. See: https://github.com/scikit-learn/scikit-learn/issues/21755 */display: inline-block !important;position: relative;}#sk-container-id-2 div.sk-text-repr-fallback {display: none;}</style><div id=\"sk-container-id-2\" class=\"sk-top-container\"><div class=\"sk-text-repr-fallback\"><pre>UMAP(metric=&#x27;yule&#x27;, tqdm_kwds={&#x27;bar_format&#x27;: &#x27;{desc}: {percentage:3.0f}%| {bar} {n_fmt}/{total_fmt} [{elapsed}]&#x27;, &#x27;desc&#x27;: &#x27;Epochs completed&#x27;, &#x27;disable&#x27;: True})</pre><b>In a Jupyter environment, please rerun this cell to show the HTML representation or trust the notebook. <br />On GitHub, the HTML representation is unable to render, please try loading this page with nbviewer.org.</b></div><div class=\"sk-container\" hidden><div class=\"sk-item\"><div class=\"sk-estimator sk-toggleable\"><input class=\"sk-toggleable__control sk-hidden--visually\" id=\"sk-estimator-id-2\" type=\"checkbox\" checked><label for=\"sk-estimator-id-2\" class=\"sk-toggleable__label sk-toggleable__label-arrow\">UMAP</label><div class=\"sk-toggleable__content\"><pre>UMAP(metric=&#x27;yule&#x27;, tqdm_kwds={&#x27;bar_format&#x27;: &#x27;{desc}: {percentage:3.0f}%| {bar} {n_fmt}/{total_fmt} [{elapsed}]&#x27;, &#x27;desc&#x27;: &#x27;Epochs completed&#x27;, &#x27;disable&#x27;: True})</pre></div></div></div></div></div>"
      ],
      "text/plain": [
       "UMAP(metric='yule', tqdm_kwds={'bar_format': '{desc}: {percentage:3.0f}%| {bar} {n_fmt}/{total_fmt} [{elapsed}]', 'desc': 'Epochs completed', 'disable': True})"
      ]
     },
     "execution_count": 118,
     "metadata": {},
     "output_type": "execute_result"
    }
   ],
   "source": [
    "from umap import UMAP\n",
    "m = UMAP(metric='yule', )\n",
    "m.fit(latents_datasets['train']['pool_output'])"
   ]
  },
  {
   "cell_type": "code",
   "execution_count": 119,
   "metadata": {},
   "outputs": [
    {
     "name": "stderr",
     "output_type": "stream",
     "text": [
      "/home/paulw/anaconda3/envs/exact/lib/python3.9/site-packages/scipy/sparse/_index.py:125: SparseEfficiencyWarning: Changing the sparsity structure of a csr_matrix is expensive. lil_matrix is more efficient.\n",
      "  self._set_arrayXarray(i, j, x)\n"
     ]
    }
   ],
   "source": [
    "feats = m.transform(latents_datasets['test']['pool_output'])"
   ]
  },
  {
   "cell_type": "code",
   "execution_count": 120,
   "metadata": {},
   "outputs": [
    {
     "data": {
      "text/plain": [
       "<matplotlib.collections.PathCollection at 0x7fa61261a910>"
      ]
     },
     "execution_count": 120,
     "metadata": {},
     "output_type": "execute_result"
    },
    {
     "data": {
      "image/png": "[encoded data removed]",
      "text/plain": [
       "<Figure size 432x288 with 1 Axes>"
      ]
     },
     "metadata": {
      "needs_background": "light"
     },
     "output_type": "display_data"
    }
   ],
   "source": [
    "plt.scatter(feats[:, 0], feats[:, 1], c=latents_datasets['test']['grade'] == 'Benign')"
   ]
  },
  {
   "cell_type": "code",
   "execution_count": 149,
   "metadata": {},
   "outputs": [
    {
     "data": {
      "text/plain": [
       "Sequential(\n",
       "  (0): MLP(\n",
       "    (layers): ModuleList(\n",
       "      (0): Linear(in_features=512, out_features=64, bias=True)\n",
       "      (1): Linear(in_features=64, out_features=16, bias=True)\n",
       "    )\n",
       "  )\n",
       "  (1): Linear(in_features=16, out_features=2, bias=True)\n",
       ")"
      ]
     },
     "execution_count": 149,
     "metadata": {},
     "output_type": "execute_result"
    }
   ],
   "source": [
    "from src.modeling.mlp import MLPClassifier\n",
    "\n",
    "clf = MLPClassifier(512, 64, 16, num_classes=2, dropout=0.5)\n",
    "#clf = torch.nn.Linear(512, 2)\n",
    "clf.cuda()\n"
   ]
  },
  {
   "cell_type": "code",
   "execution_count": 154,
   "metadata": {},
   "outputs": [
    {
     "data": {
      "application/vnd.jupyter.widget-view+json": {
       "model_id": "29a36aa599614a46a78d61e27fc9048a",
       "version_major": 2,
       "version_minor": 0
      },
      "text/plain": [
       "  0%|          | 0/1000 [00:00<?, ?it/s]"
      ]
     },
     "metadata": {},
     "output_type": "display_data"
    }
   ],
   "source": [
    "from tqdm.notebook import tqdm\n",
    "from src.utils.metrics import ClassificationOutputCollector\n",
    "from torchmetrics.functional import accuracy\n",
    "from contextlib import nullcontext\n",
    "\n",
    "def shared_step(batch, model): \n",
    "    latents, grades = batch\n",
    "    logits = model(latents.cuda())\n",
    "\n",
    "    return {\n",
    "        'grades': grades, \n",
    "        'logits': logits, \n",
    "    }\n",
    "\n",
    "opt = torch.optim.Adam(clf.parameters(), lr=1e-5, weight_decay=1e-6)\n",
    "\n",
    "def loss_func(logits, grades):\n",
    "    logits = logits.cuda()\n",
    "    grades = grades.cuda()\n",
    "    weight = torch.tensor([1/0.92, 1/0.08])\n",
    "    return torch.nn.functional.cross_entropy(logits, grades)\n",
    "\n",
    "def epoch(loader, train):\n",
    "    collector = ClassificationOutputCollector()\n",
    "    for batch in loader: \n",
    "        with nullcontext() if train else torch.no_grad(): \n",
    "            out = shared_step(batch, clf)\n",
    "\n",
    "        if train:\n",
    "            loss = loss_func(out['logits'], out['grades'])\n",
    "            loss.backward()\n",
    "            opt.step()\n",
    "            opt.zero_grad()\n",
    "\n",
    "        collector.collect_batch(out)\n",
    "\n",
    "    return collector.compute()\n",
    "\n",
    "\n",
    "train_acc = []\n",
    "val_acc = []\n",
    "\n",
    "for _ in tqdm(range(1000)): \n",
    "    clf.train()\n",
    "    out = epoch(train_loader, True)\n",
    "    acc = accuracy(out['logits'], out['grades'], average='macro', num_classes=2)\n",
    "    train_acc.append(acc)\n",
    "\n",
    "    clf.eval()\n",
    "    out = epoch(val_loader, False)\n",
    "    acc = accuracy(out['logits'], out['grades'], average='macro', num_classes=2)\n",
    "    val_acc.append(acc)\n"
   ]
  },
  {
   "cell_type": "code",
   "execution_count": 155,
   "metadata": {},
   "outputs": [
    {
     "data": {
      "text/plain": [
       "[<matplotlib.lines.Line2D at 0x7fa88534e550>]"
      ]
     },
     "execution_count": 155,
     "metadata": {},
     "output_type": "execute_result"
    },
    {
     "data": {
      "image/png": "[encoded data removed]",
      "text/plain": [
       "<Figure size 432x288 with 1 Axes>"
      ]
     },
     "metadata": {
      "needs_background": "light"
     },
     "output_type": "display_data"
    }
   ],
   "source": [
    "import matplotlib.pyplot as plt \n",
    "plt.plot(train_acc, label='train')\n",
    "plt.plot(val_acc, label='val')"
   ]
  },
  {
   "cell_type": "code",
   "execution_count": null,
   "metadata": {},
   "outputs": [],
   "source": [
    "import mat"
   ]
  },
  {
   "cell_type": "code",
   "execution_count": 60,
   "metadata": {},
   "outputs": [
    {
     "data": {
      "text/plain": [
       "tensor(0.2056)"
      ]
     },
     "execution_count": 60,
     "metadata": {},
     "output_type": "execute_result"
    }
   ],
   "source": [
    "acc"
   ]
  },
  {
   "cell_type": "code",
   "execution_count": 35,
   "metadata": {},
   "outputs": [
    {
     "data": {
      "text/plain": [
       "<torch.utils.data.dataloader.DataLoader at 0x7fa8f1320dc0>"
      ]
     },
     "execution_count": 35,
     "metadata": {},
     "output_type": "execute_result"
    }
   ],
   "source": [
    "train_loader"
   ]
  },
  {
   "cell_type": "code",
   "execution_count": 30,
   "metadata": {},
   "outputs": [
    {
     "data": {
      "text/plain": [
       "tensor([0, 0, 0, 0, 0, 0, 2, 0, 0, 0, 0, 0, 0, 0, 0, 0, 0, 0, 0, 0, 0, 0, 0, 0,\n",
       "        0, 0, 2, 2, 0, 0, 0, 0, 0, 0, 0, 0, 0, 0, 0, 0, 5, 2, 0, 0, 0, 0, 0, 0,\n",
       "        0, 0, 0, 0, 2, 0, 0, 0, 0, 0, 0, 0, 0, 0, 0, 0])"
      ]
     },
     "execution_count": 30,
     "metadata": {},
     "output_type": "execute_result"
    }
   ],
   "source": [
    "batch[1]"
   ]
  },
  {
   "cell_type": "code",
   "execution_count": 12,
   "metadata": {},
   "outputs": [
    {
     "data": {
      "text/plain": [
       "torch.Size([64])"
      ]
     },
     "execution_count": 12,
     "metadata": {},
     "output_type": "execute_result"
    }
   ],
   "source": []
  },
  {
   "cell_type": "code",
   "execution_count": null,
   "metadata": {},
   "outputs": [],
   "source": []
  }
 ],
 "metadata": {
  "kernelspec": {
   "display_name": "exact",
   "language": "python",
   "name": "python3"
  },
  "language_info": {
   "codemirror_mode": {
    "name": "ipython",
    "version": 3
   },
   "file_extension": ".py",
   "mimetype": "text/x-python",
   "name": "python",
   "nbconvert_exporter": "python",
   "pygments_lexer": "ipython3",
   "version": "3.9.7"
  },
  "orig_nbformat": 4,
  "vscode": {
   "interpreter": {
    "hash": "7a5cbe58c68b89c0961f395f53ada90e2e240c2940fb46fd24937fe03ca7f49a"
   }
  }
 },
 "nbformat": 4,
 "nbformat_minor": 2
}
