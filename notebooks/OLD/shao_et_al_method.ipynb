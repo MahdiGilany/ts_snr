{
 "cells": [
  {
   "cell_type": "code",
   "execution_count": 1,
   "metadata": {},
   "outputs": [
    {
     "name": "stdout",
     "output_type": "stream",
     "text": [
      "/home/paulw/projects/TRUSnet-1\n"
     ]
    }
   ],
   "source": [
    "%cd .."
   ]
  },
  {
   "cell_type": "code",
   "execution_count": 2,
   "metadata": {},
   "outputs": [],
   "source": [
    "DEVICE='cuda'\n",
    "ADV_LOSS_FACTOR=1\n",
    "CYCLE=[100, 100]\n",
    "\n",
    "from src.utils.metrics import ClassificationOutputCollector\n",
    "from tqdm.notebook import tqdm"
   ]
  },
  {
   "cell_type": "code",
   "execution_count": 3,
   "metadata": {},
   "outputs": [
    {
     "name": "stderr",
     "output_type": "stream",
     "text": [
      "/tmp/ipykernel_27550/4055060924.py:3: UserWarning: \n",
      "The version_base parameter is not specified.\n",
      "Please specify a compatability version level, or None.\n",
      "Will assume defaults for version 1.1\n",
      "  initialize(config_path='../configs')\n",
      "/home/paulw/anaconda3/envs/exact/lib/python3.9/site-packages/pl_bolts/utils/warnings.py:30: UserWarning: You want to use `gym` which is not installed yet, install it with `pip install gym`.\n",
      "  stdout_func(\n"
     ]
    },
    {
     "data": {
      "text/html": [
       "<pre style=\"white-space:pre;overflow-x:auto;line-height:normal;font-family:Menlo,'DejaVu Sans Mono',consolas,'Courier New',monospace\"><span style=\"font-weight: bold\">{</span>\n",
       "    <span style=\"color: #008000; text-decoration-color: #008000\">'dm'</span>: <span style=\"color: #800080; text-decoration-color: #800080; font-weight: bold\">ExactPatchDMConfig</span><span style=\"font-weight: bold\">(</span>\n",
       "        <span style=\"color: #808000; text-decoration-color: #808000\">_target_</span>=<span style=\"color: #008000; text-decoration-color: #008000\">'src.lightning.datamodules.exact_datamodule.PatchDataModuleForSupervisedLear</span>\n",
       "<span style=\"color: #008000; text-decoration-color: #008000\">ning'</span>,\n",
       "        <span style=\"color: #808000; text-decoration-color: #808000\">root</span>=<span style=\"color: #008000; text-decoration-color: #008000\">'/home/mgilani/data/Exact/Exact'</span>,\n",
       "        <span style=\"color: #808000; text-decoration-color: #808000\">loader_config</span>=<span style=\"color: #800080; text-decoration-color: #800080; font-weight: bold\">LoaderConfig</span><span style=\"font-weight: bold\">(</span>\n",
       "            <span style=\"color: #808000; text-decoration-color: #808000\">batch_size</span>=<span style=\"color: #008080; text-decoration-color: #008080; font-weight: bold\">64</span>,\n",
       "            <span style=\"color: #808000; text-decoration-color: #808000\">num_workers</span>=<span style=\"color: #008080; text-decoration-color: #008080; font-weight: bold\">0</span>,\n",
       "            <span style=\"color: #808000; text-decoration-color: #808000\">balance_classes_train</span>=<span style=\"color: #00ff00; text-decoration-color: #00ff00; font-style: italic\">True</span>,\n",
       "            <span style=\"color: #808000; text-decoration-color: #808000\">train_strategy_ddp</span>=<span style=\"color: #ff0000; text-decoration-color: #ff0000; font-style: italic\">False</span>\n",
       "        <span style=\"font-weight: bold\">)</span>,\n",
       "        <span style=\"color: #808000; text-decoration-color: #808000\">minimum_involvement</span>=<span style=\"color: #008080; text-decoration-color: #008080; font-weight: bold\">0.4</span>,\n",
       "        <span style=\"color: #808000; text-decoration-color: #808000\">splits</span>=<span style=\"color: #800080; text-decoration-color: #800080; font-weight: bold\">SplitsConfig</span><span style=\"font-weight: bold\">(</span>\n",
       "            <span style=\"color: #808000; text-decoration-color: #808000\">_target_</span>=<span style=\"color: #008000; text-decoration-color: #008000\">'src.data.exact.splits.Splits'</span>,\n",
       "            <span style=\"color: #808000; text-decoration-color: #808000\">cohort_specifier</span>=<span style=\"font-weight: bold\">[</span><span style=\"color: #008000; text-decoration-color: #008000\">'CRCEO'</span>, <span style=\"color: #008000; text-decoration-color: #008000\">'JH'</span>, <span style=\"color: #008000; text-decoration-color: #008000\">'PCC'</span>, <span style=\"color: #008000; text-decoration-color: #008000\">'PMCC'</span>, <span style=\"color: #008000; text-decoration-color: #008000\">'UVA'</span><span style=\"font-weight: bold\">]</span>,\n",
       "            <span style=\"color: #808000; text-decoration-color: #808000\">train_val_split_seed</span>=<span style=\"color: #008080; text-decoration-color: #008080; font-weight: bold\">2</span>,\n",
       "            <span style=\"color: #808000; text-decoration-color: #808000\">train_val_ratio</span>=<span style=\"color: #008080; text-decoration-color: #008080; font-weight: bold\">0.1</span>,\n",
       "            <span style=\"color: #808000; text-decoration-color: #808000\">test_as_val</span>=<span style=\"color: #ff0000; text-decoration-color: #ff0000; font-style: italic\">False</span>,\n",
       "            <span style=\"color: #808000; text-decoration-color: #808000\">undersample_benign_train</span>=<span style=\"color: #00ff00; text-decoration-color: #00ff00; font-style: italic\">True</span>,\n",
       "            <span style=\"color: #808000; text-decoration-color: #808000\">undersample_benign_eval</span>=<span style=\"color: #00ff00; text-decoration-color: #00ff00; font-style: italic\">True</span>,\n",
       "            <span style=\"color: #808000; text-decoration-color: #808000\">benign_cores_selection_seed</span>=<span style=\"color: #008080; text-decoration-color: #008080; font-weight: bold\">0</span>,\n",
       "            <span style=\"color: #808000; text-decoration-color: #808000\">merge_train_centers</span>=<span style=\"color: #00ff00; text-decoration-color: #00ff00; font-style: italic\">True</span>,\n",
       "            <span style=\"color: #808000; text-decoration-color: #808000\">merge_val_centers</span>=<span style=\"color: #00ff00; text-decoration-color: #00ff00; font-style: italic\">True</span>,\n",
       "            <span style=\"color: #808000; text-decoration-color: #808000\">merge_test_centers</span>=<span style=\"color: #00ff00; text-decoration-color: #00ff00; font-style: italic\">True</span>\n",
       "        <span style=\"font-weight: bold\">)</span>,\n",
       "        <span style=\"color: #808000; text-decoration-color: #808000\">patch_view_config</span>=<span style=\"color: #800080; text-decoration-color: #800080; font-weight: bold\">PatchViewConfig</span><span style=\"font-weight: bold\">(</span>\n",
       "            <span style=\"color: #808000; text-decoration-color: #808000\">patch_size</span>=<span style=\"font-weight: bold\">[</span><span style=\"color: #008080; text-decoration-color: #008080; font-weight: bold\">5</span>, <span style=\"color: #008080; text-decoration-color: #008080; font-weight: bold\">5</span><span style=\"font-weight: bold\">]</span>,\n",
       "            <span style=\"color: #808000; text-decoration-color: #808000\">patch_strides</span>=<span style=\"font-weight: bold\">[</span><span style=\"color: #008080; text-decoration-color: #008080; font-weight: bold\">1</span>, <span style=\"color: #008080; text-decoration-color: #008080; font-weight: bold\">1</span><span style=\"font-weight: bold\">]</span>,\n",
       "            <span style=\"color: #808000; text-decoration-color: #808000\">subpatch_size</span>=<span style=\"font-weight: bold\">[</span><span style=\"color: #008080; text-decoration-color: #008080; font-weight: bold\">1</span>, <span style=\"color: #008080; text-decoration-color: #008080; font-weight: bold\">1</span><span style=\"font-weight: bold\">]</span>,\n",
       "            <span style=\"color: #808000; text-decoration-color: #808000\">needle_region_only</span>=<span style=\"color: #00ff00; text-decoration-color: #00ff00; font-style: italic\">True</span>,\n",
       "            <span style=\"color: #808000; text-decoration-color: #808000\">prostate_region_only</span>=<span style=\"color: #ff0000; text-decoration-color: #ff0000; font-style: italic\">False</span>,\n",
       "            <span style=\"color: #808000; text-decoration-color: #808000\">prostate_intersection_threshold</span>=<span style=\"color: #008080; text-decoration-color: #008080; font-weight: bold\">0.9</span>,\n",
       "            <span style=\"color: #808000; text-decoration-color: #808000\">needle_intersection_threshold</span>=<span style=\"color: #008080; text-decoration-color: #008080; font-weight: bold\">0.6</span>\n",
       "        <span style=\"font-weight: bold\">)</span>,\n",
       "        <span style=\"color: #808000; text-decoration-color: #808000\">patch_transform_train</span>=<span style=\"color: #800080; text-decoration-color: #800080; font-weight: bold\">TransformConfig</span><span style=\"font-weight: bold\">(</span>\n",
       "            <span style=\"color: #808000; text-decoration-color: #808000\">_target_</span>=<span style=\"color: #008000; text-decoration-color: #008000\">'src.data.exact.transforms.TransformV3'</span>,\n",
       "            <span style=\"color: #808000; text-decoration-color: #808000\">norm</span>=<span style=\"color: #800080; text-decoration-color: #800080; font-weight: bold\">NormConfig</span><span style=\"font-weight: bold\">(</span>\n",
       "                <span style=\"color: #808000; text-decoration-color: #808000\">_target_</span>=<span style=\"color: #008000; text-decoration-color: #008000\">'src.data.exact.transforms.Normalize'</span>,\n",
       "                <span style=\"color: #808000; text-decoration-color: #808000\">mode</span>=<span style=\"color: #008000; text-decoration-color: #008000\">'instance'</span>,\n",
       "                <span style=\"color: #808000; text-decoration-color: #808000\">type</span>=<span style=\"color: #008000; text-decoration-color: #008000\">'min-max'</span>,\n",
       "                <span style=\"color: #808000; text-decoration-color: #808000\">truncate</span>=<span style=\"color: #00ff00; text-decoration-color: #00ff00; font-style: italic\">True</span>\n",
       "            <span style=\"font-weight: bold\">)</span>,\n",
       "            <span style=\"color: #808000; text-decoration-color: #808000\">tensor_transform</span>=<span style=\"color: #800080; text-decoration-color: #800080; font-style: italic\">None</span>,\n",
       "            <span style=\"color: #808000; text-decoration-color: #808000\">us_augmentation</span>=<span style=\"color: #800080; text-decoration-color: #800080; font-style: italic\">None</span>,\n",
       "            <span style=\"color: #808000; text-decoration-color: #808000\">out_size</span>=<span style=\"font-weight: bold\">[</span><span style=\"color: #008080; text-decoration-color: #008080; font-weight: bold\">256</span>, <span style=\"color: #008080; text-decoration-color: #008080; font-weight: bold\">256</span><span style=\"font-weight: bold\">]</span>\n",
       "        <span style=\"font-weight: bold\">)</span>,\n",
       "        <span style=\"color: #808000; text-decoration-color: #808000\">patch_transform_eval</span>=<span style=\"color: #800080; text-decoration-color: #800080; font-weight: bold\">TransformConfig</span><span style=\"font-weight: bold\">(</span>\n",
       "            <span style=\"color: #808000; text-decoration-color: #808000\">_target_</span>=<span style=\"color: #008000; text-decoration-color: #008000\">'src.data.exact.transforms.TransformV3'</span>,\n",
       "            <span style=\"color: #808000; text-decoration-color: #808000\">norm</span>=<span style=\"color: #800080; text-decoration-color: #800080; font-weight: bold\">NormConfig</span><span style=\"font-weight: bold\">(</span>\n",
       "                <span style=\"color: #808000; text-decoration-color: #808000\">_target_</span>=<span style=\"color: #008000; text-decoration-color: #008000\">'src.data.exact.transforms.Normalize'</span>,\n",
       "                <span style=\"color: #808000; text-decoration-color: #808000\">mode</span>=<span style=\"color: #008000; text-decoration-color: #008000\">'instance'</span>,\n",
       "                <span style=\"color: #808000; text-decoration-color: #808000\">type</span>=<span style=\"color: #008000; text-decoration-color: #008000\">'min-max'</span>,\n",
       "                <span style=\"color: #808000; text-decoration-color: #808000\">truncate</span>=<span style=\"color: #00ff00; text-decoration-color: #00ff00; font-style: italic\">True</span>\n",
       "            <span style=\"font-weight: bold\">)</span>,\n",
       "            <span style=\"color: #808000; text-decoration-color: #808000\">tensor_transform</span>=<span style=\"color: #800080; text-decoration-color: #800080; font-style: italic\">None</span>,\n",
       "            <span style=\"color: #808000; text-decoration-color: #808000\">us_augmentation</span>=<span style=\"color: #800080; text-decoration-color: #800080; font-style: italic\">None</span>,\n",
       "            <span style=\"color: #808000; text-decoration-color: #808000\">out_size</span>=<span style=\"font-weight: bold\">[</span><span style=\"color: #008080; text-decoration-color: #008080; font-weight: bold\">256</span>, <span style=\"color: #008080; text-decoration-color: #008080; font-weight: bold\">256</span><span style=\"font-weight: bold\">]</span>\n",
       "        <span style=\"font-weight: bold\">)</span>\n",
       "    <span style=\"font-weight: bold\">)</span>,\n",
       "    <span style=\"color: #008000; text-decoration-color: #008000\">'split_seed'</span>: <span style=\"color: #008080; text-decoration-color: #008080; font-weight: bold\">2</span>\n",
       "<span style=\"font-weight: bold\">}</span>\n",
       "</pre>\n"
      ],
      "text/plain": [
       "\u001b[1m{\u001b[0m\n",
       "    \u001b[32m'dm'\u001b[0m: \u001b[1;35mExactPatchDMConfig\u001b[0m\u001b[1m(\u001b[0m\n",
       "        \u001b[33m_target_\u001b[0m=\u001b[32m'src.lightning.datamodules.exact_datamodule.PatchDataModuleForSupervisedLear\u001b[0m\n",
       "\u001b[32mning'\u001b[0m,\n",
       "        \u001b[33mroot\u001b[0m=\u001b[32m'/home/mgilani/data/Exact/Exact'\u001b[0m,\n",
       "        \u001b[33mloader_config\u001b[0m=\u001b[1;35mLoaderConfig\u001b[0m\u001b[1m(\u001b[0m\n",
       "            \u001b[33mbatch_size\u001b[0m=\u001b[1;36m64\u001b[0m,\n",
       "            \u001b[33mnum_workers\u001b[0m=\u001b[1;36m0\u001b[0m,\n",
       "            \u001b[33mbalance_classes_train\u001b[0m=\u001b[3;92mTrue\u001b[0m,\n",
       "            \u001b[33mtrain_strategy_ddp\u001b[0m=\u001b[3;91mFalse\u001b[0m\n",
       "        \u001b[1m)\u001b[0m,\n",
       "        \u001b[33mminimum_involvement\u001b[0m=\u001b[1;36m0\u001b[0m\u001b[1;36m.4\u001b[0m,\n",
       "        \u001b[33msplits\u001b[0m=\u001b[1;35mSplitsConfig\u001b[0m\u001b[1m(\u001b[0m\n",
       "            \u001b[33m_target_\u001b[0m=\u001b[32m'src.data.exact.splits.Splits'\u001b[0m,\n",
       "            \u001b[33mcohort_specifier\u001b[0m=\u001b[1m[\u001b[0m\u001b[32m'CRCEO'\u001b[0m, \u001b[32m'JH'\u001b[0m, \u001b[32m'PCC'\u001b[0m, \u001b[32m'PMCC'\u001b[0m, \u001b[32m'UVA'\u001b[0m\u001b[1m]\u001b[0m,\n",
       "            \u001b[33mtrain_val_split_seed\u001b[0m=\u001b[1;36m2\u001b[0m,\n",
       "            \u001b[33mtrain_val_ratio\u001b[0m=\u001b[1;36m0\u001b[0m\u001b[1;36m.1\u001b[0m,\n",
       "            \u001b[33mtest_as_val\u001b[0m=\u001b[3;91mFalse\u001b[0m,\n",
       "            \u001b[33mundersample_benign_train\u001b[0m=\u001b[3;92mTrue\u001b[0m,\n",
       "            \u001b[33mundersample_benign_eval\u001b[0m=\u001b[3;92mTrue\u001b[0m,\n",
       "            \u001b[33mbenign_cores_selection_seed\u001b[0m=\u001b[1;36m0\u001b[0m,\n",
       "            \u001b[33mmerge_train_centers\u001b[0m=\u001b[3;92mTrue\u001b[0m,\n",
       "            \u001b[33mmerge_val_centers\u001b[0m=\u001b[3;92mTrue\u001b[0m,\n",
       "            \u001b[33mmerge_test_centers\u001b[0m=\u001b[3;92mTrue\u001b[0m\n",
       "        \u001b[1m)\u001b[0m,\n",
       "        \u001b[33mpatch_view_config\u001b[0m=\u001b[1;35mPatchViewConfig\u001b[0m\u001b[1m(\u001b[0m\n",
       "            \u001b[33mpatch_size\u001b[0m=\u001b[1m[\u001b[0m\u001b[1;36m5\u001b[0m, \u001b[1;36m5\u001b[0m\u001b[1m]\u001b[0m,\n",
       "            \u001b[33mpatch_strides\u001b[0m=\u001b[1m[\u001b[0m\u001b[1;36m1\u001b[0m, \u001b[1;36m1\u001b[0m\u001b[1m]\u001b[0m,\n",
       "            \u001b[33msubpatch_size\u001b[0m=\u001b[1m[\u001b[0m\u001b[1;36m1\u001b[0m, \u001b[1;36m1\u001b[0m\u001b[1m]\u001b[0m,\n",
       "            \u001b[33mneedle_region_only\u001b[0m=\u001b[3;92mTrue\u001b[0m,\n",
       "            \u001b[33mprostate_region_only\u001b[0m=\u001b[3;91mFalse\u001b[0m,\n",
       "            \u001b[33mprostate_intersection_threshold\u001b[0m=\u001b[1;36m0\u001b[0m\u001b[1;36m.9\u001b[0m,\n",
       "            \u001b[33mneedle_intersection_threshold\u001b[0m=\u001b[1;36m0\u001b[0m\u001b[1;36m.6\u001b[0m\n",
       "        \u001b[1m)\u001b[0m,\n",
       "        \u001b[33mpatch_transform_train\u001b[0m=\u001b[1;35mTransformConfig\u001b[0m\u001b[1m(\u001b[0m\n",
       "            \u001b[33m_target_\u001b[0m=\u001b[32m'src.data.exact.transforms.TransformV3'\u001b[0m,\n",
       "            \u001b[33mnorm\u001b[0m=\u001b[1;35mNormConfig\u001b[0m\u001b[1m(\u001b[0m\n",
       "                \u001b[33m_target_\u001b[0m=\u001b[32m'src.data.exact.transforms.Normalize'\u001b[0m,\n",
       "                \u001b[33mmode\u001b[0m=\u001b[32m'instance'\u001b[0m,\n",
       "                \u001b[33mtype\u001b[0m=\u001b[32m'min-max'\u001b[0m,\n",
       "                \u001b[33mtruncate\u001b[0m=\u001b[3;92mTrue\u001b[0m\n",
       "            \u001b[1m)\u001b[0m,\n",
       "            \u001b[33mtensor_transform\u001b[0m=\u001b[3;35mNone\u001b[0m,\n",
       "            \u001b[33mus_augmentation\u001b[0m=\u001b[3;35mNone\u001b[0m,\n",
       "            \u001b[33mout_size\u001b[0m=\u001b[1m[\u001b[0m\u001b[1;36m256\u001b[0m, \u001b[1;36m256\u001b[0m\u001b[1m]\u001b[0m\n",
       "        \u001b[1m)\u001b[0m,\n",
       "        \u001b[33mpatch_transform_eval\u001b[0m=\u001b[1;35mTransformConfig\u001b[0m\u001b[1m(\u001b[0m\n",
       "            \u001b[33m_target_\u001b[0m=\u001b[32m'src.data.exact.transforms.TransformV3'\u001b[0m,\n",
       "            \u001b[33mnorm\u001b[0m=\u001b[1;35mNormConfig\u001b[0m\u001b[1m(\u001b[0m\n",
       "                \u001b[33m_target_\u001b[0m=\u001b[32m'src.data.exact.transforms.Normalize'\u001b[0m,\n",
       "                \u001b[33mmode\u001b[0m=\u001b[32m'instance'\u001b[0m,\n",
       "                \u001b[33mtype\u001b[0m=\u001b[32m'min-max'\u001b[0m,\n",
       "                \u001b[33mtruncate\u001b[0m=\u001b[3;92mTrue\u001b[0m\n",
       "            \u001b[1m)\u001b[0m,\n",
       "            \u001b[33mtensor_transform\u001b[0m=\u001b[3;35mNone\u001b[0m,\n",
       "            \u001b[33mus_augmentation\u001b[0m=\u001b[3;35mNone\u001b[0m,\n",
       "            \u001b[33mout_size\u001b[0m=\u001b[1m[\u001b[0m\u001b[1;36m256\u001b[0m, \u001b[1;36m256\u001b[0m\u001b[1m]\u001b[0m\n",
       "        \u001b[1m)\u001b[0m\n",
       "    \u001b[1m)\u001b[0m,\n",
       "    \u001b[32m'split_seed'\u001b[0m: \u001b[1;36m2\u001b[0m\n",
       "\u001b[1m}\u001b[0m\n"
      ]
     },
     "metadata": {},
     "output_type": "display_data"
    }
   ],
   "source": [
    "from hydra import initialize, compose\n",
    "\n",
    "initialize(config_path='../configs')\n",
    "\n",
    "from src.configuration import register_configs\n",
    "\n",
    "register_configs()\n",
    "\n",
    "#cfg = compose(overrides=['+datamodule@dm=sl_datamodule', '+split_seed=0'])\n",
    "cfg = compose(overrides=['+datamodule@dm=sl_datamodule', '+split_seed=2'])\n",
    "\n",
    "from omegaconf import OmegaConf\n",
    "OmegaConf.resolve(cfg)\n",
    "\n",
    "from hydra.utils import instantiate\n",
    "\n",
    "cfg.dm.splits.undersample_benign_train = True \n",
    "cfg.dm.splits.undersample_benign_eval = True  \n",
    "cfg.dm.loader_config.num_workers = 0\n",
    "cfg.dm.loader_config.balance_classes_train = True\n",
    "\n",
    "cfg.dm.loader_config.batch_size=64\n",
    "\n",
    "cfg.dm.minimum_involvement = 0.4\n",
    "\n",
    "from rich import print as pprint\n",
    "pprint(OmegaConf.to_object(cfg))"
   ]
  },
  {
   "cell_type": "code",
   "execution_count": 4,
   "metadata": {},
   "outputs": [
    {
     "name": "stderr",
     "output_type": "stream",
     "text": [
      "Preparing cores: 100%|██████████| 978/978 [00:00<00:00, 54906.76it/s]\n",
      "Indexing Patches: 100%|██████████| 978/978 [00:27<00:00, 35.59it/s]\n",
      "Preparing cores: 100%|██████████| 105/105 [00:00<00:00, 37822.22it/s]\n",
      "Indexing Patches: 100%|██████████| 105/105 [00:02<00:00, 35.32it/s]\n",
      "Preparing cores: 100%|██████████| 315/315 [00:00<00:00, 51285.06it/s]\n",
      "Indexing Patches: 100%|██████████| 315/315 [00:08<00:00, 36.45it/s]\n"
     ]
    }
   ],
   "source": [
    "dm = instantiate(cfg.dm)\n",
    "dm.setup()"
   ]
  },
  {
   "cell_type": "code",
   "execution_count": 5,
   "metadata": {},
   "outputs": [],
   "source": [
    "from src.modeling.optimizer_factory import OptimizerConfig, configure_optimizers\n",
    "from src.modeling.shao_3_player_minimax_models import ShaoEtAlFeatureExtractor, ShaoEtAlMLP\n",
    "from itertools import chain\n",
    "\n",
    "#feature_extractor = ShaoEtAlFeatureExtractor().to(DEVICE)\n",
    "from src.modeling.registry import resnet10_feature_extractor\n",
    "from src.modeling.mlp import MLPClassifier\n",
    "feature_extractor = resnet10_feature_extractor().to(DEVICE)\n",
    "center_disc = MLPClassifier(512, 256, num_classes=5).to(DEVICE)\n",
    "clf = MLPClassifier(512, 256, num_classes=2).to(DEVICE)\n",
    "\n",
    "\n",
    "#center_disc = ShaoEtAlMLP(5).to(DEVICE)\n",
    "#clf = ShaoEtAlMLP(5).to(DEVICE)\n",
    "\n",
    "from torch.optim import Adam\n",
    "feat_opt = Adam(feature_extractor.parameters())\n",
    "clf_opt = Adam(clf.parameters())\n",
    "center_disc_opt = Adam(center_disc.parameters())"
   ]
  },
  {
   "cell_type": "code",
   "execution_count": 6,
   "metadata": {},
   "outputs": [],
   "source": [
    "import numpy as np \n",
    "import torch\n",
    "\n",
    "center2label = {\n",
    "    'UVA': 0, \n",
    "    'CRCEO': 1, \n",
    "    'PCC': 2, \n",
    "    'PMCC': 3, \n",
    "    'JH': 4,\n",
    "}\n",
    "\n",
    "def to_center_label(center): \n",
    "    center = np.array([center2label[center_] for center_ in center])\n",
    "    return torch.tensor(center)"
   ]
  },
  {
   "cell_type": "code",
   "execution_count": 1,
   "metadata": {},
   "outputs": [
    {
     "ename": "ModuleNotFoundError",
     "evalue": "No module named 'src'",
     "output_type": "error",
     "traceback": [
      "\u001b[0;31m---------------------------------------------------------------------------\u001b[0m",
      "\u001b[0;31mModuleNotFoundError\u001b[0m                       Traceback (most recent call last)",
      "\u001b[1;32m/home/paulw/projects/TRUSnet-1/notebooks/shao_et_al_method.ipynb Cell 7\u001b[0m in \u001b[0;36m<cell line: 91>\u001b[0;34m()\u001b[0m\n\u001b[1;32m     <a href='vscode-notebook-cell://ssh-remote%2B130.15.7.120/home/paulw/projects/TRUSnet-1/notebooks/shao_et_al_method.ipynb#W6sdnNjb2RlLXJlbW90ZQ%3D%3D?line=86'>87</a>\u001b[0m         collector_disc\u001b[39m.\u001b[39mcollect_batch(out)\n\u001b[1;32m     <a href='vscode-notebook-cell://ssh-remote%2B130.15.7.120/home/paulw/projects/TRUSnet-1/notebooks/shao_et_al_method.ipynb#W6sdnNjb2RlLXJlbW90ZQ%3D%3D?line=88'>89</a>\u001b[0m     \u001b[39mreturn\u001b[39;00m collector\u001b[39m.\u001b[39mcompute(), collector_disc\u001b[39m.\u001b[39mcompute()\n\u001b[0;32m---> <a href='vscode-notebook-cell://ssh-remote%2B130.15.7.120/home/paulw/projects/TRUSnet-1/notebooks/shao_et_al_method.ipynb#W6sdnNjb2RlLXJlbW90ZQ%3D%3D?line=90'>91</a>\u001b[0m \u001b[39mfrom\u001b[39;00m \u001b[39msrc\u001b[39;00m\u001b[39m.\u001b[39;00m\u001b[39mutils\u001b[39;00m\u001b[39m.\u001b[39;00m\u001b[39mmetrics\u001b[39;00m \u001b[39mimport\u001b[39;00m patch_and_core_metrics\n\u001b[1;32m     <a href='vscode-notebook-cell://ssh-remote%2B130.15.7.120/home/paulw/projects/TRUSnet-1/notebooks/shao_et_al_method.ipynb#W6sdnNjb2RlLXJlbW90ZQ%3D%3D?line=91'>92</a>\u001b[0m \u001b[39mfrom\u001b[39;00m \u001b[39mtorchmetrics\u001b[39;00m\u001b[39m.\u001b[39;00m\u001b[39mfunctional\u001b[39;00m \u001b[39mimport\u001b[39;00m auroc\n\u001b[1;32m     <a href='vscode-notebook-cell://ssh-remote%2B130.15.7.120/home/paulw/projects/TRUSnet-1/notebooks/shao_et_al_method.ipynb#W6sdnNjb2RlLXJlbW90ZQ%3D%3D?line=92'>93</a>\u001b[0m \u001b[39mdef\u001b[39;00m \u001b[39mbase_metrics\u001b[39m(out): \n",
      "\u001b[0;31mModuleNotFoundError\u001b[0m: No module named 'src'"
     ]
    }
   ],
   "source": [
    "from torch.nn import functional as F\n",
    "\n",
    "\n",
    "def shared_step(batch): \n",
    "    patch, pos, label, metadata = batch\n",
    "    label = label.to(DEVICE)\n",
    "    center = to_center_label(metadata['center']).to(DEVICE)\n",
    "    feats = feature_extractor(patch.to(DEVICE))\n",
    "    logits = clf(feats)\n",
    "    center_logits = center_disc(feats)\n",
    "\n",
    "    loss = F.cross_entropy(logits, label)\n",
    "    center_disc_loss = F.cross_entropy(center_logits, center)\n",
    "\n",
    "    clf_out = {\n",
    "        'logits': logits, \n",
    "        'preds': logits.softmax(-1), \n",
    "        'label': label, \n",
    "        **metadata\n",
    "    }\n",
    "    center_clf_out = {\n",
    "        'logits': center_logits,\n",
    "        'preds': logits.softmax(-1),\n",
    "        'label': center, \n",
    "    }\n",
    "\n",
    "    return loss, center_disc_loss, clf_out, center_clf_out\n",
    "\n",
    "def main_train_step(batch): \n",
    "    loss, center_disc_loss, clf_out, center_clf_out = shared_step(batch)\n",
    "    \n",
    "    total_loss = loss - center_disc_loss * ADV_LOSS_FACTOR\n",
    "    total_loss.backward()\n",
    "    \n",
    "    feat_opt.step()\n",
    "    feat_opt.zero_grad()\n",
    "    clf_opt.step()\n",
    "    clf_opt.zero_grad()\n",
    "\n",
    "    return clf_out\n",
    "\n",
    "def disc_train_step(batch): \n",
    "    loss, center_disc_loss, clf_out, center_clf_out = shared_step(batch)\n",
    "\n",
    "    center_disc_loss.backward()\n",
    "    center_disc_opt.step()\n",
    "    center_disc_opt.zero_grad()\n",
    "\n",
    "    return center_clf_out\n",
    "\n",
    "def eval_step(batch):\n",
    "    with torch.no_grad():\n",
    "        loss, center_disc_loss, clf_out, center_clf_out = shared_step(batch)\n",
    "\n",
    "    return clf_out, center_clf_out\n",
    "\n",
    "TOTAL_TRAIN_STEPS = 0 \n",
    "def train_disc(): \n",
    "    return TOTAL_TRAIN_STEPS % sum(CYCLE) >= CYCLE[0]\n",
    "\n",
    "def train_epoch(): \n",
    "\n",
    "    collector = ClassificationOutputCollector()\n",
    "    collector_disc = ClassificationOutputCollector()\n",
    "\n",
    "    for batch in tqdm(dm.train_dataloader()): \n",
    "        if train_disc(): \n",
    "            out = main_train_step(batch)\n",
    "            collector.collect_batch(out)\n",
    "        else: \n",
    "            out = disc_train_step(batch)\n",
    "            collector_disc.collect_batch(out)\n",
    "\n",
    "        global TOTAL_TRAIN_STEPS\n",
    "        TOTAL_TRAIN_STEPS += 1\n",
    "\n",
    "    return collector.compute(), collector_disc.compute()\n",
    "\n",
    "def eval_epoch(loader): \n",
    "\n",
    "    collector = ClassificationOutputCollector()\n",
    "    collector_disc = ClassificationOutputCollector()\n",
    "\n",
    "    for batch in tqdm(loader): \n",
    "        out, center_out = eval_step(batch)\n",
    "        collector.collect_batch(out)\n",
    "        collector_disc.collect_batch(out)\n",
    "\n",
    "    return collector.compute(), collector_disc.compute()\n",
    "\n",
    "from src.utils.metrics import patch_and_core_metrics\n",
    "from torchmetrics.functional import auroc\n",
    "def base_metrics(out): \n",
    "    return {\n",
    "        'auroc': auroc(out['logits'], out['label'], num_classes=2)\n",
    "    } \n",
    "\n",
    "\n",
    "for epoch in range(100): \n",
    "    out, disc_out = train_epoch()\n",
    "    metrics = patch_and_core_metrics(out, base_metrics)\n",
    "    print('train auroc: ', metrics['patch_micro_avg_auroc'])\n",
    "    out, disc_out = eval_epoch(dm.test_dataloader())\n",
    "    metrics = patch_and_core_metrics(out, base_metrics)\n",
    "    print('test auroc: ', metrics['patch_micro_avg_auroc'])\n",
    "\n",
    "out, _ = eval_epoch(dm.test_dataloader())"
   ]
  },
  {
   "cell_type": "code",
   "execution_count": 31,
   "metadata": {},
   "outputs": [
    {
     "data": {
      "text/plain": [
       "{'patch_micro_avg_auroc': tensor(0.5035),\n",
       " 'patch_CRCEO_auroc': tensor(0.5101),\n",
       " 'patch_JH_auroc': tensor(0.4920),\n",
       " 'patch_PCC_auroc': tensor(0.5250),\n",
       " 'patch_PMCC_auroc': tensor(0.4861),\n",
       " 'patch_UVA_auroc': tensor(0.5004),\n",
       " 'patch_macro_avg_auroc': tensor(0.5027),\n",
       " 'core_micro_avg_auroc': tensor(0.4662),\n",
       " 'core_CRCEO_auroc': tensor(0.3484),\n",
       " 'core_JH_auroc': tensor(0.6518),\n",
       " 'core_PCC_auroc': tensor(0.5022),\n",
       " 'core_PMCC_auroc': tensor(0.5614),\n",
       " 'core_UVA_auroc': tensor(0.3586),\n",
       " 'core_macro_avg_auroc': tensor(0.4845)}"
      ]
     },
     "execution_count": 31,
     "metadata": {},
     "output_type": "execute_result"
    }
   ],
   "source": [
    "\n",
    "patch_and_core_metrics(out, base_metrics)\n"
   ]
  },
  {
   "cell_type": "code",
   "execution_count": 19,
   "metadata": {},
   "outputs": [],
   "source": [
    "out = _"
   ]
  },
  {
   "cell_type": "code",
   "execution_count": 21,
   "metadata": {},
   "outputs": [
    {
     "data": {
      "text/plain": [
       "tensor([[ 0.8465, -0.1237],\n",
       "        [ 0.8336, -0.0893],\n",
       "        [ 0.8359, -0.0823],\n",
       "        ...,\n",
       "        [ 0.0106,  0.0077],\n",
       "        [ 0.0142,  0.0091],\n",
       "        [-0.0040,  0.0303]])"
      ]
     },
     "execution_count": 21,
     "metadata": {},
     "output_type": "execute_result"
    }
   ],
   "source": [
    "out[0]['logits']"
   ]
  },
  {
   "cell_type": "code",
   "execution_count": 23,
   "metadata": {},
   "outputs": [
    {
     "data": {
      "text/plain": [
       "tensor([0, 1, 0,  ..., 0, 1, 0])"
      ]
     },
     "execution_count": 23,
     "metadata": {},
     "output_type": "execute_result"
    }
   ],
   "source": [
    "out[0]['label']"
   ]
  },
  {
   "cell_type": "code",
   "execution_count": 13,
   "metadata": {},
   "outputs": [],
   "source": [
    "batch = next(iter(dm.train_dataloader()))\n",
    "out = shared_step(batch)[3]"
   ]
  },
  {
   "cell_type": "code",
   "execution_count": null,
   "metadata": {},
   "outputs": [],
   "source": []
  },
  {
   "cell_type": "code",
   "execution_count": 14,
   "metadata": {},
   "outputs": [],
   "source": [
    "out = _"
   ]
  },
  {
   "cell_type": "code",
   "execution_count": 15,
   "metadata": {},
   "outputs": [
    {
     "data": {
      "text/plain": [
       "({},\n",
       " {'center_logits': tensor([[ 0.0909, -0.0101, -0.0022,  0.0700, -0.1246],\n",
       "          [ 0.0321, -0.0577,  0.1129, -0.0096, -0.2043],\n",
       "          [ 0.0218, -0.1328,  0.0191,  0.0185, -0.0320],\n",
       "          ...,\n",
       "          [ 0.7422,  0.6527,  0.4659, -0.2247, -1.3297],\n",
       "          [ 0.8673,  0.6461,  0.4315, -0.2565, -1.5127],\n",
       "          [ 0.7893,  0.6343,  0.4444, -0.2510, -1.3884]]),\n",
       "  'center': tensor([0, 0, 0,  ..., 3, 0, 3])})"
      ]
     },
     "execution_count": 15,
     "metadata": {},
     "output_type": "execute_result"
    }
   ],
   "source": [
    "out"
   ]
  },
  {
   "cell_type": "code",
   "execution_count": 26,
   "metadata": {},
   "outputs": [],
   "source": [
    "from src.utils.metrics import patch_and_core_metrics\n",
    "from torchmetrics.functional import auroc"
   ]
  },
  {
   "cell_type": "code",
   "execution_count": null,
   "metadata": {},
   "outputs": [],
   "source": []
  }
 ],
 "metadata": {
  "kernelspec": {
   "display_name": "exact",
   "language": "python",
   "name": "python3"
  },
  "language_info": {
   "codemirror_mode": {
    "name": "ipython",
    "version": 3
   },
   "file_extension": ".py",
   "mimetype": "text/x-python",
   "name": "python",
   "nbconvert_exporter": "python",
   "pygments_lexer": "ipython3",
   "version": "3.9.7"
  },
  "orig_nbformat": 4,
  "vscode": {
   "interpreter": {
    "hash": "7a5cbe58c68b89c0961f395f53ada90e2e240c2940fb46fd24937fe03ca7f49a"
   }
  }
 },
 "nbformat": 4,
 "nbformat_minor": 2
}
