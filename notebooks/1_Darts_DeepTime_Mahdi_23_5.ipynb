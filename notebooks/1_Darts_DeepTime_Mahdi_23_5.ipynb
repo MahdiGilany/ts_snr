{
 "cells": [
  {
   "cell_type": "code",
   "execution_count": 1,
   "metadata": {},
   "outputs": [
    {
     "name": "stdout",
     "output_type": "stream",
     "text": [
      "/home/mahdigilany/offline_codes/codes/ts_snr\n",
      "\u001b[0m\u001b[01;34mconfigs\u001b[0m/     \u001b[01;34mlogs\u001b[0m/    \u001b[01;34mnotebooks\u001b[0m/  README.md         \u001b[01;34mscripts\u001b[0m/\n",
      "\u001b[01;34mdarts_logs\u001b[0m/  main.py  \u001b[01;34mOLD\u001b[0m/        requirements.txt  \u001b[01;34msrc\u001b[0m/\n"
     ]
    }
   ],
   "source": [
    "import numpy as np\n",
    "import pandas as pd\n",
    "import torch\n",
    "import matplotlib.pyplot as plt\n",
    "from darts import TimeSeries\n",
    "from darts.datasets import AirPassengersDataset\n",
    "%cd ..\n",
    "%ls"
   ]
  },
  {
   "cell_type": "code",
   "execution_count": 2,
   "metadata": {},
   "outputs": [
    {
     "name": "stderr",
     "output_type": "stream",
     "text": [
      "/home/mahdigilany/anaconda3/envs/borealis/lib/python3.9/site-packages/tqdm/auto.py:21: TqdmWarning: IProgress not found. Please update jupyter and ipywidgets. See https://ipywidgets.readthedocs.io/en/stable/user_install.html\n",
      "  from .autonotebook import tqdm as notebook_tqdm\n"
     ]
    }
   ],
   "source": [
    "from src.modeling.models.deep_time import DeepTIMeModel\n",
    "from torchmetrics import MetricCollection, MeanAbsolutePercentageError\n",
    "\n",
    "mape = MeanAbsolutePercentageError()\n",
    "metrics = MetricCollection([mape])\n",
    "\n",
    "model = DeepTIMeModel(\n",
    "    input_chunk_length=24,\n",
    "    output_chunk_length=12,\n",
    "    random_state=0,\n",
    "    batch_size=32,\n",
    "    datetime_feats=0,\n",
    "    save_checkpoints=True,\n",
    "    torch_metrics=metrics,\n",
    "    pl_trainer_kwargs={\"num_sanity_val_steps\": 0},\n",
    "    model_name=\"deep_time\",\n",
    "    force_reset=True,\n",
    "    )"
   ]
  },
  {
   "cell_type": "code",
   "execution_count": 3,
   "metadata": {},
   "outputs": [],
   "source": [
    "# import eino\n",
    "# x = torch.Tensor(np.random.rand(32, 24, 1))\n",
    "# # y = torch.Tensor(np.random.rand(32, 12, 1))\n",
    "# # x_time = torch.Tensor(einops.repeat(np.linspace(1, 24, 24), 't -> b t 1', b=32))\n",
    "# # y_time = torch.Tensor(einops.repeat(np.linspace(1, 12, 12), 't -> b t 1', b=32))\n",
    "# # x_time = torch.ones(32, 24, 0)\n",
    "# # y_time = torch.ones(32, 12, 0)\n",
    "# pl_model = model._create_model(x)\n",
    "# # preds = pl_model.forward(x, x_time, y_time)\n",
    "# preds = pl_model.forward((x,None))\n",
    "# preds.shape"
   ]
  },
  {
   "cell_type": "code",
   "execution_count": 4,
   "metadata": {},
   "outputs": [],
   "source": [
    "from src.data.registry.data_registry import create_dataset\n",
    "train_ts, val_ts, scaler = create_dataset('air_passengers') # TimeSeries class object"
   ]
  },
  {
   "cell_type": "code",
   "execution_count": 5,
   "metadata": {},
   "outputs": [],
   "source": [
    "# train_ts.plot(label='train')\n",
    "# val_ts.plot(label='val')"
   ]
  },
  {
   "cell_type": "code",
   "execution_count": 6,
   "metadata": {},
   "outputs": [
    {
     "name": "stderr",
     "output_type": "stream",
     "text": [
      "GPU available: True (cuda), used: True\n",
      "TPU available: False, using: 0 TPU cores\n",
      "IPU available: False, using: 0 IPUs\n",
      "HPU available: False, using: 0 HPUs\n",
      "LOCAL_RANK: 0 - CUDA_VISIBLE_DEVICES: [0]\n",
      "\n",
      "  | Name             | Type             | Params\n",
      "------------------------------------------------------\n",
      "0 | criterion        | MSELoss          | 0     \n",
      "1 | train_metrics    | MetricCollection | 0     \n",
      "2 | val_metrics      | MetricCollection | 0     \n",
      "3 | inr              | INR              | 1.3 M \n",
      "4 | adaptive_weights | RidgeRegressor   | 1     \n",
      "------------------------------------------------------\n",
      "1.3 M     Trainable params\n",
      "0         Non-trainable params\n",
      "1.3 M     Total params\n",
      "5.258     Total estimated model params size (MB)\n"
     ]
    },
    {
     "name": "stdout",
     "output_type": "stream",
     "text": [
      "Epoch 0: 100%|██████████| 3/3 [00:00<00:00,  4.95it/s, train_loss=0.0344]"
     ]
    },
    {
     "name": "stderr",
     "output_type": "stream",
     "text": [
      "/home/mahdigilany/anaconda3/envs/borealis/lib/python3.9/site-packages/pytorch_lightning/core/module.py:481: UserWarning: You called `self.log('train_MeanAbsolutePercentageError', ..., logger=True)` but have no logger configured. You can enable one by doing `Trainer(logger=ALogger(...))`\n",
      "  rank_zero_warn(\n"
     ]
    },
    {
     "name": "stdout",
     "output_type": "stream",
     "text": [
      "Epoch 1: 100%|██████████| 3/3 [00:00<00:00, 150.08it/s, train_loss=0.0295, val_loss=0.133, val_MeanAbsolutePercentageError=0.244, train_MeanAbsolutePercentageError=0.506]"
     ]
    },
    {
     "name": "stderr",
     "output_type": "stream",
     "text": [
      "/home/mahdigilany/anaconda3/envs/borealis/lib/python3.9/site-packages/pytorch_lightning/core/module.py:481: UserWarning: You called `self.log('val_MeanAbsolutePercentageError', ..., logger=True)` but have no logger configured. You can enable one by doing `Trainer(logger=ALogger(...))`\n",
      "  rank_zero_warn(\n"
     ]
    },
    {
     "name": "stdout",
     "output_type": "stream",
     "text": [
      "Epoch 49: 100%|██████████| 3/3 [00:00<00:00, 98.22it/s, train_loss=0.00393, val_loss=0.0688, val_MeanAbsolutePercentageError=0.239, train_MeanAbsolutePercentageError=0.144] "
     ]
    },
    {
     "name": "stderr",
     "output_type": "stream",
     "text": [
      "`Trainer.fit` stopped: `max_epochs=50` reached.\n"
     ]
    },
    {
     "name": "stdout",
     "output_type": "stream",
     "text": [
      "Epoch 49: 100%|██████████| 3/3 [00:00<00:00, 57.78it/s, train_loss=0.00393, val_loss=0.0688, val_MeanAbsolutePercentageError=0.239, train_MeanAbsolutePercentageError=0.144]\n"
     ]
    },
    {
     "data": {
      "text/plain": [
       "DeepTIMeModel(datetime_feats=0, layer_size=256, inr_layers=5, n_fourier_feats=4096, scales=[0.01, 0.1, 1, 5, 10, 20, 50, 100], input_chunk_length=24, output_chunk_length=12, random_state=0, batch_size=32, save_checkpoints=True, torch_metrics=MetricCollection(\n",
       "  (MeanAbsolutePercentageError): MeanAbsolutePercentageError()\n",
       "), pl_trainer_kwargs={'num_sanity_val_steps': 0}, model_name=deep_time, force_reset=True)"
      ]
     },
     "execution_count": 6,
     "metadata": {},
     "output_type": "execute_result"
    }
   ],
   "source": [
    "model.fit(train_ts, verbose=True, epochs=50, num_loader_workers=0, val_series=val_ts)"
   ]
  },
  {
   "cell_type": "code",
   "execution_count": 7,
   "metadata": {},
   "outputs": [
    {
     "name": "stderr",
     "output_type": "stream",
     "text": [
      "GPU available: True (cuda), used: True\n",
      "TPU available: False, using: 0 TPU cores\n",
      "IPU available: False, using: 0 IPUs\n",
      "HPU available: False, using: 0 HPUs\n",
      "LOCAL_RANK: 0 - CUDA_VISIBLE_DEVICES: [0]\n"
     ]
    },
    {
     "name": "stdout",
     "output_type": "stream",
     "text": [
      "Predicting DataLoader 0: 100%|██████████| 1/1 [00:00<00:00, 115.09it/s]\n",
      "Mean absolute percentage error: 53.51%.\n",
      "Mean absolute percentage error: 40.28%.\n"
     ]
    },
    {
     "data": {
      "image/png": "[encoded data removed]",
      "text/plain": [
       "<Figure size 640x480 with 1 Axes>"
      ]
     },
     "metadata": {},
     "output_type": "display_data"
    }
   ],
   "source": [
    "# model.load_from_checkpoint(\"deep_time\", best=True)\n",
    "model.load_weights_from_checkpoint\n",
    "pred = model.predict(series=train_ts, n=36)\n",
    "\n",
    "from darts.metrics import mape as mape_fn\n",
    "print(\n",
    "    \"Mean absolute percentage error: {:.2f}%.\".format(\n",
    "        mape_fn(val_ts, pred)\n",
    "    )\n",
    ")\n",
    "\n",
    "# scale back:\n",
    "train_unscaled_ts = scaler.inverse_transform(train_ts)\n",
    "val_unscaled_ts = scaler.inverse_transform(val_ts)\n",
    "pred = scaler.inverse_transform(pred)\n",
    "\n",
    "from darts.metrics import mape as mape_fn\n",
    "print(\n",
    "    \"Mean absolute percentage error: {:.2f}%.\".format(\n",
    "        mape_fn(val_unscaled_ts, pred)\n",
    "    )\n",
    ")\n",
    "\n",
    "train_unscaled_ts.plot(label='train')\n",
    "val_unscaled_ts.plot(label='val')\n",
    "pred.plot(label='pred')\n"
   ]
  }
 ],
 "metadata": {
  "kernelspec": {
   "display_name": "borealis",
   "language": "python",
   "name": "python3"
  },
  "language_info": {
   "codemirror_mode": {
    "name": "ipython",
    "version": 3
   },
   "file_extension": ".py",
   "mimetype": "text/x-python",
   "name": "python",
   "nbconvert_exporter": "python",
   "pygments_lexer": "ipython3",
   "version": "3.9.16"
  },
  "orig_nbformat": 4
 },
 "nbformat": 4,
 "nbformat_minor": 2
}
