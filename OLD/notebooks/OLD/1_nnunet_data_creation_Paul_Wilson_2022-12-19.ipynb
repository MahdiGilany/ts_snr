{
 "cells": [
  {
   "cell_type": "code",
   "execution_count": 84,
   "metadata": {},
   "outputs": [],
   "source": [
    "import sys \n",
    "import os\n",
    "sys.path.append('../')\n",
    "import numpy as np\n",
    "import torch\n",
    "import skimage \n",
    "import matplotlib.pyplot as plt\n"
   ]
  },
  {
   "cell_type": "code",
   "execution_count": null,
   "metadata": {},
   "outputs": [],
   "source": [
    "\n",
    "os.environ['nnUNet_raw_data_base'] = '/home/paulw/projects/TRUSnet-1/data/nnUNet_raw_data_base'\n",
    "os.environ['nnUNet_preprocessed'] = '/home/paulw/projects/TRUSnet-1/data/nnUNet_preprocessed'\n",
    "os.environ['RESULTS_FOLDER'] = '/home/paulw/projects/TRUSnet-1/logs/nnUnet'\n",
    "NNUNET_RAW_DATA = os.environ['nnUNet_raw_data_base']\n",
    "NNUNET_PREPROCESSED = os.environ['nnUNet_preprocessed']\n",
    "RESULTS_FOLDER = os.environ['RESULTS_FOLDER']\n",
    "\n",
    "TASK_ID = 501 \n",
    "TASKNAME = 'Prostate'\n",
    "\n",
    "TASK_RAW_DATA = os.path.join(\n",
    "    NNUNET_RAW_DATA,\n",
    "    'nnUNet_raw_data', \n",
    "    f'Task{TASK_ID}_{TASKNAME}'\n",
    ")\n",
    "\n",
    "TRAINING_RAW_DATA = os.path.join(\n",
    "    TASK_RAW_DATA,\n",
    "    'imagesTr'\n",
    ")\n",
    "\n",
    "TRAINING_RAW_LABELS = os.path.join(\n",
    "    TASK_RAW_DATA,\n",
    "    'labelsTr'\n",
    ")\n",
    "\n",
    "TESTING_RAW_DATA = os.path.join(\n",
    "    TASK_RAW_DATA,\n",
    "    'imagesTs'\n",
    ")\n",
    "\n",
    "OUT_SHAPE = (1012, 1012)\n",
    "\n",
    "assert os.path.exists(TASK_RAW_DATA)"
   ]
  },
  {
   "cell_type": "code",
   "execution_count": 61,
   "metadata": {},
   "outputs": [],
   "source": [
    "# get the correct cores\n",
    "\n",
    "from src.data.exact.splits import Splits, HasProstateMaskFilter\n",
    "splits = Splits(\n",
    "    cohort_specifier=['UVA600', 'CRCEO428'],\n",
    "    merge_test_centers=True,\n",
    "    merge_val_centers=True, \n",
    "    merge_train_centers=True, \n",
    "    undersample_benign_eval=False, \n",
    "    undersample_benign_train=False,\n",
    ")\n",
    "splits.apply_filters(HasProstateMaskFilter())\n",
    "train_cores = splits.get_train() + splits.get_val()\n",
    "test_cores = splits.get_test()"
   ]
  },
  {
   "cell_type": "code",
   "execution_count": 62,
   "metadata": {},
   "outputs": [
    {
     "name": "stdout",
     "output_type": "stream",
     "text": [
      "len(test_cores)=171\n",
      "len(train_cores)=742\n"
     ]
    }
   ],
   "source": [
    "print(f'{len(test_cores)=}')\n",
    "print(f'{len(train_cores)=}')"
   ]
  },
  {
   "cell_type": "code",
   "execution_count": 63,
   "metadata": {},
   "outputs": [],
   "source": [
    "import nnunet\n",
    "from nnunet.utilities.file_conversions import convert_2d_image_to_nifti"
   ]
  },
  {
   "cell_type": "code",
   "execution_count": 89,
   "metadata": {},
   "outputs": [
    {
     "name": "stderr",
     "output_type": "stream",
     "text": [
      "/home/paulw/projects/TRUSnet-1/notebooks/../src/data/exact/core.py:226: UserWarning: You appear to be calling Core constructor manually. It is preferable to call `Core.create_core(specifier)`\n",
      "                    which will cache core instances and not double memory requirements for core objects!\n",
      "                \n",
      "  warn(\n",
      "/tmp/ipykernel_1891/1883741500.py:19: UserWarning: mask.png is a low contrast image\n",
      "  skimage.io.imsave('mask.png', prostate_mask)\n"
     ]
    }
   ],
   "source": [
    "# sample the saving functions \n",
    "import numpy as np \n",
    "import skimage\n",
    "from src.data.exact.core import Core\n",
    "core = Core.sample_core()\n",
    "bmode = core.bmode\n",
    "prostate_mask = core.prostate_mask\n",
    "\n",
    "\n",
    "bmode = skimage.transform.resize(bmode, OUT_SHAPE, preserve_range=True, anti_aliasing=True)\n",
    "bmode = (bmode - bmode.min()) / (bmode.max() - bmode.min()) \n",
    "bmode = (bmode * 255).astype(np.uint8)\n",
    "skimage.io.imsave('bmode.png', bmode)\n",
    "\n",
    "\n",
    "prostate_mask = skimage.transform.resize(prostate_mask, OUT_SHAPE, order=0, preserve_range=True, anti_aliasing=False)\n",
    "prostate_mask = prostate_mask.astype(np.uint8)\n",
    "\n",
    "skimage.io.imsave('mask.png', prostate_mask)"
   ]
  },
  {
   "cell_type": "code",
   "execution_count": 112,
   "metadata": {},
   "outputs": [
    {
     "data": {
      "application/vnd.jupyter.widget-view+json": {
       "model_id": "b7aa86a56f6746a59114f472af3d37c7",
       "version_major": 2,
       "version_minor": 0
      },
      "text/plain": [
       "  0%|          | 0/742 [00:00<?, ?it/s]"
      ]
     },
     "metadata": {},
     "output_type": "display_data"
    },
    {
     "name": "stderr",
     "output_type": "stream",
     "text": [
      "/tmp/ipykernel_1891/3557572032.py:17: UserWarning: mask.png is a low contrast image\n",
      "  skimage.io.imsave('mask.png', prostate_mask)\n"
     ]
    }
   ],
   "source": [
    "from tqdm.notebook import tqdm\n",
    "\n",
    "for i, core_specifier in enumerate(tqdm(train_cores)): \n",
    "    core = Core.create_core(core_specifier)\n",
    "    bmode = core.bmode\n",
    "    prostate_mask = core.prostate_mask\n",
    "    bmode = skimage.transform.resize(bmode, OUT_SHAPE, preserve_range=True, anti_aliasing=True)\n",
    "    bmode = (bmode - bmode.min()) / (bmode.max() - bmode.min()) \n",
    "    bmode = (bmode * 255).astype(np.uint8)\n",
    "    skimage.io.imsave('bmode.png', bmode)\n",
    "    convert_2d_image_to_nifti(\n",
    "        'bmode.png', \n",
    "        os.path.join(TRAINING_RAW_DATA, f'Exact_{str.zfill(str(i), 3)}')\n",
    "    )\n",
    "    prostate_mask = skimage.transform.resize(prostate_mask, OUT_SHAPE, order=0, preserve_range=True, anti_aliasing=False)\n",
    "    prostate_mask = prostate_mask.astype(np.uint8)\n",
    "    skimage.io.imsave('mask.png', prostate_mask)\n",
    "    convert_2d_image_to_nifti(\n",
    "        'mask.png', \n",
    "        os.path.join(TRAINING_RAW_LABELS, f'Exact_{str.zfill(str(i), 3)}'),\n",
    "        is_seg=True\n",
    "    )"
   ]
  },
  {
   "cell_type": "code",
   "execution_count": 109,
   "metadata": {},
   "outputs": [
    {
     "data": {
      "application/vnd.jupyter.widget-view+json": {
       "model_id": "7ebd3153b9dc4e778ad5f4f513d50493",
       "version_major": 2,
       "version_minor": 0
      },
      "text/plain": [
       "  0%|          | 0/171 [00:00<?, ?it/s]"
      ]
     },
     "metadata": {},
     "output_type": "display_data"
    }
   ],
   "source": [
    "for i, core_specifier in enumerate(tqdm(test_cores)): \n",
    "    core = Core.create_core(core_specifier)\n",
    "    bmode = core.bmode\n",
    "    prostate_mask = core.prostate_mask\n",
    "    bmode = skimage.transform.resize(bmode, OUT_SHAPE, preserve_range=True, anti_aliasing=True)\n",
    "    bmode = (bmode - bmode.min()) / (bmode.max() - bmode.min()) \n",
    "    bmode = (bmode * 255).astype(np.uint8)\n",
    "    skimage.io.imsave('bmode.png', bmode)\n",
    "    convert_2d_image_to_nifti(\n",
    "        'bmode.png', \n",
    "        os.path.join(TESTING_RAW_DATA, f'Exact_{str.zfill(str(i), 3)}')\n",
    "    )"
   ]
  },
  {
   "cell_type": "code",
   "execution_count": 111,
   "metadata": {},
   "outputs": [],
   "source": [
    "from nnunet.dataset_conversion.utils import generate_dataset_json\n",
    "\n",
    "generate_dataset_json(\n",
    "    os.path.join(TASK_RAW_DATA, 'dataset.json'),\n",
    "    os.path.join(TASK_RAW_DATA, 'imagesTr'),\n",
    "    os.path.join(TASK_RAW_DATA, 'imagesTs'),\n",
    "    ('ultrasound',),\n",
    "    {0: 'background', 1: 'prostate'},\n",
    "    \"Exact_ultrasound\", \n",
    ")"
   ]
  },
  {
   "cell_type": "code",
   "execution_count": null,
   "metadata": {},
   "outputs": [],
   "source": [
    "    "
   ]
  }
 ],
 "metadata": {
  "kernelspec": {
   "display_name": "Python 3.9.7 ('exact')",
   "language": "python",
   "name": "python3"
  },
  "language_info": {
   "codemirror_mode": {
    "name": "ipython",
    "version": 3
   },
   "file_extension": ".py",
   "mimetype": "text/x-python",
   "name": "python",
   "nbconvert_exporter": "python",
   "pygments_lexer": "ipython3",
   "version": "3.9.7"
  },
  "orig_nbformat": 4,
  "vscode": {
   "interpreter": {
    "hash": "7a5cbe58c68b89c0961f395f53ada90e2e240c2940fb46fd24937fe03ca7f49a"
   }
  }
 },
 "nbformat": 4,
 "nbformat_minor": 2
}
