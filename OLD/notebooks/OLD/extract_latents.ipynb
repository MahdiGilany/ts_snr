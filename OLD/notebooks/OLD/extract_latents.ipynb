{
 "cells": [
  {
   "cell_type": "code",
   "execution_count": 1,
   "metadata": {},
   "outputs": [
    {
     "name": "stdout",
     "output_type": "stream",
     "text": [
      "/home/paulw/projects/TRUSnet-1\n"
     ]
    }
   ],
   "source": [
    "%cd .."
   ]
  },
  {
   "cell_type": "code",
   "execution_count": 2,
   "metadata": {},
   "outputs": [
    {
     "name": "stderr",
     "output_type": "stream",
     "text": [
      "/tmp/ipykernel_26622/2693633951.py:3: UserWarning: \n",
      "The version_base parameter is not specified.\n",
      "Please specify a compatability version level, or None.\n",
      "Will assume defaults for version 1.1\n",
      "  initialize(config_path='../configs')\n",
      "/home/paulw/anaconda3/envs/exact/lib/python3.9/site-packages/pl_bolts/utils/warnings.py:30: UserWarning: You want to use `gym` which is not installed yet, install it with `pip install gym`.\n",
      "  stdout_func(\n"
     ]
    },
    {
     "data": {
      "text/html": [
       "<pre style=\"white-space:pre;overflow-x:auto;line-height:normal;font-family:Menlo,'DejaVu Sans Mono',consolas,'Courier New',monospace\"><span style=\"font-weight: bold\">{</span>\n",
       "    <span style=\"color: #008000; text-decoration-color: #008000\">'dm'</span>: <span style=\"color: #800080; text-decoration-color: #800080; font-weight: bold\">ExactPatchDMConfig</span><span style=\"font-weight: bold\">(</span>\n",
       "        <span style=\"color: #808000; text-decoration-color: #808000\">_target_</span>=<span style=\"color: #008000; text-decoration-color: #008000\">'src.lightning.datamodules.exact_datamodule.PatchesConcatenatedFromCoresData</span>\n",
       "<span style=\"color: #008000; text-decoration-color: #008000\">Module'</span>,\n",
       "        <span style=\"color: #808000; text-decoration-color: #808000\">root</span>=<span style=\"color: #008000; text-decoration-color: #008000\">'/home/mgilani/data/Exact/Exact'</span>,\n",
       "        <span style=\"color: #808000; text-decoration-color: #808000\">loader_config</span>=<span style=\"color: #800080; text-decoration-color: #800080; font-weight: bold\">LoaderConfig</span><span style=\"font-weight: bold\">(</span>\n",
       "            <span style=\"color: #808000; text-decoration-color: #808000\">batch_size</span>=<span style=\"color: #008080; text-decoration-color: #008080; font-weight: bold\">1</span>,\n",
       "            <span style=\"color: #808000; text-decoration-color: #808000\">num_workers</span>=<span style=\"color: #008080; text-decoration-color: #008080; font-weight: bold\">0</span>,\n",
       "            <span style=\"color: #808000; text-decoration-color: #808000\">balance_classes_train</span>=<span style=\"color: #ff0000; text-decoration-color: #ff0000; font-style: italic\">False</span>,\n",
       "            <span style=\"color: #808000; text-decoration-color: #808000\">train_strategy_ddp</span>=<span style=\"color: #ff0000; text-decoration-color: #ff0000; font-style: italic\">False</span>\n",
       "        <span style=\"font-weight: bold\">)</span>,\n",
       "        <span style=\"color: #808000; text-decoration-color: #808000\">minimum_involvement</span>=<span style=\"color: #008080; text-decoration-color: #008080; font-weight: bold\">0.4</span>,\n",
       "        <span style=\"color: #808000; text-decoration-color: #808000\">splits</span>=<span style=\"color: #800080; text-decoration-color: #800080; font-weight: bold\">SplitsConfig</span><span style=\"font-weight: bold\">(</span>\n",
       "            <span style=\"color: #808000; text-decoration-color: #808000\">_target_</span>=<span style=\"color: #008000; text-decoration-color: #008000\">'src.data.exact.splits.Splits'</span>,\n",
       "            <span style=\"color: #808000; text-decoration-color: #808000\">cohort_specifier</span>=<span style=\"font-weight: bold\">[</span><span style=\"color: #008000; text-decoration-color: #008000\">'CRCEO'</span>, <span style=\"color: #008000; text-decoration-color: #008000\">'JH'</span>, <span style=\"color: #008000; text-decoration-color: #008000\">'PCC'</span>, <span style=\"color: #008000; text-decoration-color: #008000\">'PMCC'</span>, <span style=\"color: #008000; text-decoration-color: #008000\">'UVA'</span><span style=\"font-weight: bold\">]</span>,\n",
       "            <span style=\"color: #808000; text-decoration-color: #808000\">train_val_split_seed</span>=<span style=\"color: #008080; text-decoration-color: #008080; font-weight: bold\">2</span>,\n",
       "            <span style=\"color: #808000; text-decoration-color: #808000\">train_val_ratio</span>=<span style=\"color: #008080; text-decoration-color: #008080; font-weight: bold\">0.1</span>,\n",
       "            <span style=\"color: #808000; text-decoration-color: #808000\">test_as_val</span>=<span style=\"color: #ff0000; text-decoration-color: #ff0000; font-style: italic\">False</span>,\n",
       "            <span style=\"color: #808000; text-decoration-color: #808000\">undersample_benign_train</span>=<span style=\"color: #ff0000; text-decoration-color: #ff0000; font-style: italic\">False</span>,\n",
       "            <span style=\"color: #808000; text-decoration-color: #808000\">undersample_benign_eval</span>=<span style=\"color: #ff0000; text-decoration-color: #ff0000; font-style: italic\">False</span>,\n",
       "            <span style=\"color: #808000; text-decoration-color: #808000\">benign_cores_selection_seed</span>=<span style=\"color: #008080; text-decoration-color: #008080; font-weight: bold\">0</span>,\n",
       "            <span style=\"color: #808000; text-decoration-color: #808000\">merge_train_centers</span>=<span style=\"color: #00ff00; text-decoration-color: #00ff00; font-style: italic\">True</span>,\n",
       "            <span style=\"color: #808000; text-decoration-color: #808000\">merge_val_centers</span>=<span style=\"color: #00ff00; text-decoration-color: #00ff00; font-style: italic\">True</span>,\n",
       "            <span style=\"color: #808000; text-decoration-color: #808000\">merge_test_centers</span>=<span style=\"color: #00ff00; text-decoration-color: #00ff00; font-style: italic\">True</span>\n",
       "        <span style=\"font-weight: bold\">)</span>,\n",
       "        <span style=\"color: #808000; text-decoration-color: #808000\">patch_view_config</span>=<span style=\"color: #800080; text-decoration-color: #800080; font-weight: bold\">PatchViewConfig</span><span style=\"font-weight: bold\">(</span>\n",
       "            <span style=\"color: #808000; text-decoration-color: #808000\">patch_size</span>=<span style=\"font-weight: bold\">[</span><span style=\"color: #008080; text-decoration-color: #008080; font-weight: bold\">5</span>, <span style=\"color: #008080; text-decoration-color: #008080; font-weight: bold\">5</span><span style=\"font-weight: bold\">]</span>,\n",
       "            <span style=\"color: #808000; text-decoration-color: #808000\">patch_strides</span>=<span style=\"font-weight: bold\">[</span><span style=\"color: #008080; text-decoration-color: #008080; font-weight: bold\">1</span>, <span style=\"color: #008080; text-decoration-color: #008080; font-weight: bold\">1</span><span style=\"font-weight: bold\">]</span>,\n",
       "            <span style=\"color: #808000; text-decoration-color: #808000\">subpatch_size</span>=<span style=\"font-weight: bold\">[</span><span style=\"color: #008080; text-decoration-color: #008080; font-weight: bold\">1</span>, <span style=\"color: #008080; text-decoration-color: #008080; font-weight: bold\">1</span><span style=\"font-weight: bold\">]</span>,\n",
       "            <span style=\"color: #808000; text-decoration-color: #808000\">needle_region_only</span>=<span style=\"color: #00ff00; text-decoration-color: #00ff00; font-style: italic\">True</span>,\n",
       "            <span style=\"color: #808000; text-decoration-color: #808000\">prostate_region_only</span>=<span style=\"color: #ff0000; text-decoration-color: #ff0000; font-style: italic\">False</span>,\n",
       "            <span style=\"color: #808000; text-decoration-color: #808000\">prostate_intersection_threshold</span>=<span style=\"color: #008080; text-decoration-color: #008080; font-weight: bold\">0.9</span>,\n",
       "            <span style=\"color: #808000; text-decoration-color: #808000\">needle_intersection_threshold</span>=<span style=\"color: #008080; text-decoration-color: #008080; font-weight: bold\">0.6</span>\n",
       "        <span style=\"font-weight: bold\">)</span>,\n",
       "        <span style=\"color: #808000; text-decoration-color: #808000\">patch_transform_train</span>=<span style=\"color: #800080; text-decoration-color: #800080; font-weight: bold\">TransformConfig</span><span style=\"font-weight: bold\">(</span>\n",
       "            <span style=\"color: #808000; text-decoration-color: #808000\">_target_</span>=<span style=\"color: #008000; text-decoration-color: #008000\">'src.data.exact.transforms.TransformV3'</span>,\n",
       "            <span style=\"color: #808000; text-decoration-color: #808000\">norm</span>=<span style=\"color: #800080; text-decoration-color: #800080; font-weight: bold\">NormConfig</span><span style=\"font-weight: bold\">(</span>\n",
       "                <span style=\"color: #808000; text-decoration-color: #808000\">_target_</span>=<span style=\"color: #008000; text-decoration-color: #008000\">'src.data.exact.transforms.Normalize'</span>,\n",
       "                <span style=\"color: #808000; text-decoration-color: #808000\">mode</span>=<span style=\"color: #008000; text-decoration-color: #008000\">'instance'</span>,\n",
       "                <span style=\"color: #808000; text-decoration-color: #808000\">type</span>=<span style=\"color: #008000; text-decoration-color: #008000\">'min-max'</span>,\n",
       "                <span style=\"color: #808000; text-decoration-color: #808000\">truncate</span>=<span style=\"color: #00ff00; text-decoration-color: #00ff00; font-style: italic\">True</span>\n",
       "            <span style=\"font-weight: bold\">)</span>,\n",
       "            <span style=\"color: #808000; text-decoration-color: #808000\">tensor_transform</span>=<span style=\"color: #800080; text-decoration-color: #800080; font-style: italic\">None</span>,\n",
       "            <span style=\"color: #808000; text-decoration-color: #808000\">us_augmentation</span>=<span style=\"color: #800080; text-decoration-color: #800080; font-style: italic\">None</span>,\n",
       "            <span style=\"color: #808000; text-decoration-color: #808000\">out_size</span>=<span style=\"font-weight: bold\">[</span><span style=\"color: #008080; text-decoration-color: #008080; font-weight: bold\">256</span>, <span style=\"color: #008080; text-decoration-color: #008080; font-weight: bold\">256</span><span style=\"font-weight: bold\">]</span>\n",
       "        <span style=\"font-weight: bold\">)</span>,\n",
       "        <span style=\"color: #808000; text-decoration-color: #808000\">patch_transform_eval</span>=<span style=\"color: #800080; text-decoration-color: #800080; font-weight: bold\">TransformConfig</span><span style=\"font-weight: bold\">(</span>\n",
       "            <span style=\"color: #808000; text-decoration-color: #808000\">_target_</span>=<span style=\"color: #008000; text-decoration-color: #008000\">'src.data.exact.transforms.TransformV3'</span>,\n",
       "            <span style=\"color: #808000; text-decoration-color: #808000\">norm</span>=<span style=\"color: #800080; text-decoration-color: #800080; font-weight: bold\">NormConfig</span><span style=\"font-weight: bold\">(</span>\n",
       "                <span style=\"color: #808000; text-decoration-color: #808000\">_target_</span>=<span style=\"color: #008000; text-decoration-color: #008000\">'src.data.exact.transforms.Normalize'</span>,\n",
       "                <span style=\"color: #808000; text-decoration-color: #808000\">mode</span>=<span style=\"color: #008000; text-decoration-color: #008000\">'instance'</span>,\n",
       "                <span style=\"color: #808000; text-decoration-color: #808000\">type</span>=<span style=\"color: #008000; text-decoration-color: #008000\">'min-max'</span>,\n",
       "                <span style=\"color: #808000; text-decoration-color: #808000\">truncate</span>=<span style=\"color: #00ff00; text-decoration-color: #00ff00; font-style: italic\">True</span>\n",
       "            <span style=\"font-weight: bold\">)</span>,\n",
       "            <span style=\"color: #808000; text-decoration-color: #808000\">tensor_transform</span>=<span style=\"color: #800080; text-decoration-color: #800080; font-style: italic\">None</span>,\n",
       "            <span style=\"color: #808000; text-decoration-color: #808000\">us_augmentation</span>=<span style=\"color: #800080; text-decoration-color: #800080; font-style: italic\">None</span>,\n",
       "            <span style=\"color: #808000; text-decoration-color: #808000\">out_size</span>=<span style=\"font-weight: bold\">[</span><span style=\"color: #008080; text-decoration-color: #008080; font-weight: bold\">256</span>, <span style=\"color: #008080; text-decoration-color: #008080; font-weight: bold\">256</span><span style=\"font-weight: bold\">]</span>\n",
       "        <span style=\"font-weight: bold\">)</span>\n",
       "    <span style=\"font-weight: bold\">)</span>,\n",
       "    <span style=\"color: #008000; text-decoration-color: #008000\">'split_seed'</span>: <span style=\"color: #008080; text-decoration-color: #008080; font-weight: bold\">2</span>\n",
       "<span style=\"font-weight: bold\">}</span>\n",
       "</pre>\n"
      ],
      "text/plain": [
       "\u001b[1m{\u001b[0m\n",
       "    \u001b[32m'dm'\u001b[0m: \u001b[1;35mExactPatchDMConfig\u001b[0m\u001b[1m(\u001b[0m\n",
       "        \u001b[33m_target_\u001b[0m=\u001b[32m'src.lightning.datamodules.exact_datamodule.PatchesConcatenatedFromCoresData\u001b[0m\n",
       "\u001b[32mModule'\u001b[0m,\n",
       "        \u001b[33mroot\u001b[0m=\u001b[32m'/home/mgilani/data/Exact/Exact'\u001b[0m,\n",
       "        \u001b[33mloader_config\u001b[0m=\u001b[1;35mLoaderConfig\u001b[0m\u001b[1m(\u001b[0m\n",
       "            \u001b[33mbatch_size\u001b[0m=\u001b[1;36m1\u001b[0m,\n",
       "            \u001b[33mnum_workers\u001b[0m=\u001b[1;36m0\u001b[0m,\n",
       "            \u001b[33mbalance_classes_train\u001b[0m=\u001b[3;91mFalse\u001b[0m,\n",
       "            \u001b[33mtrain_strategy_ddp\u001b[0m=\u001b[3;91mFalse\u001b[0m\n",
       "        \u001b[1m)\u001b[0m,\n",
       "        \u001b[33mminimum_involvement\u001b[0m=\u001b[1;36m0\u001b[0m\u001b[1;36m.4\u001b[0m,\n",
       "        \u001b[33msplits\u001b[0m=\u001b[1;35mSplitsConfig\u001b[0m\u001b[1m(\u001b[0m\n",
       "            \u001b[33m_target_\u001b[0m=\u001b[32m'src.data.exact.splits.Splits'\u001b[0m,\n",
       "            \u001b[33mcohort_specifier\u001b[0m=\u001b[1m[\u001b[0m\u001b[32m'CRCEO'\u001b[0m, \u001b[32m'JH'\u001b[0m, \u001b[32m'PCC'\u001b[0m, \u001b[32m'PMCC'\u001b[0m, \u001b[32m'UVA'\u001b[0m\u001b[1m]\u001b[0m,\n",
       "            \u001b[33mtrain_val_split_seed\u001b[0m=\u001b[1;36m2\u001b[0m,\n",
       "            \u001b[33mtrain_val_ratio\u001b[0m=\u001b[1;36m0\u001b[0m\u001b[1;36m.1\u001b[0m,\n",
       "            \u001b[33mtest_as_val\u001b[0m=\u001b[3;91mFalse\u001b[0m,\n",
       "            \u001b[33mundersample_benign_train\u001b[0m=\u001b[3;91mFalse\u001b[0m,\n",
       "            \u001b[33mundersample_benign_eval\u001b[0m=\u001b[3;91mFalse\u001b[0m,\n",
       "            \u001b[33mbenign_cores_selection_seed\u001b[0m=\u001b[1;36m0\u001b[0m,\n",
       "            \u001b[33mmerge_train_centers\u001b[0m=\u001b[3;92mTrue\u001b[0m,\n",
       "            \u001b[33mmerge_val_centers\u001b[0m=\u001b[3;92mTrue\u001b[0m,\n",
       "            \u001b[33mmerge_test_centers\u001b[0m=\u001b[3;92mTrue\u001b[0m\n",
       "        \u001b[1m)\u001b[0m,\n",
       "        \u001b[33mpatch_view_config\u001b[0m=\u001b[1;35mPatchViewConfig\u001b[0m\u001b[1m(\u001b[0m\n",
       "            \u001b[33mpatch_size\u001b[0m=\u001b[1m[\u001b[0m\u001b[1;36m5\u001b[0m, \u001b[1;36m5\u001b[0m\u001b[1m]\u001b[0m,\n",
       "            \u001b[33mpatch_strides\u001b[0m=\u001b[1m[\u001b[0m\u001b[1;36m1\u001b[0m, \u001b[1;36m1\u001b[0m\u001b[1m]\u001b[0m,\n",
       "            \u001b[33msubpatch_size\u001b[0m=\u001b[1m[\u001b[0m\u001b[1;36m1\u001b[0m, \u001b[1;36m1\u001b[0m\u001b[1m]\u001b[0m,\n",
       "            \u001b[33mneedle_region_only\u001b[0m=\u001b[3;92mTrue\u001b[0m,\n",
       "            \u001b[33mprostate_region_only\u001b[0m=\u001b[3;91mFalse\u001b[0m,\n",
       "            \u001b[33mprostate_intersection_threshold\u001b[0m=\u001b[1;36m0\u001b[0m\u001b[1;36m.9\u001b[0m,\n",
       "            \u001b[33mneedle_intersection_threshold\u001b[0m=\u001b[1;36m0\u001b[0m\u001b[1;36m.6\u001b[0m\n",
       "        \u001b[1m)\u001b[0m,\n",
       "        \u001b[33mpatch_transform_train\u001b[0m=\u001b[1;35mTransformConfig\u001b[0m\u001b[1m(\u001b[0m\n",
       "            \u001b[33m_target_\u001b[0m=\u001b[32m'src.data.exact.transforms.TransformV3'\u001b[0m,\n",
       "            \u001b[33mnorm\u001b[0m=\u001b[1;35mNormConfig\u001b[0m\u001b[1m(\u001b[0m\n",
       "                \u001b[33m_target_\u001b[0m=\u001b[32m'src.data.exact.transforms.Normalize'\u001b[0m,\n",
       "                \u001b[33mmode\u001b[0m=\u001b[32m'instance'\u001b[0m,\n",
       "                \u001b[33mtype\u001b[0m=\u001b[32m'min-max'\u001b[0m,\n",
       "                \u001b[33mtruncate\u001b[0m=\u001b[3;92mTrue\u001b[0m\n",
       "            \u001b[1m)\u001b[0m,\n",
       "            \u001b[33mtensor_transform\u001b[0m=\u001b[3;35mNone\u001b[0m,\n",
       "            \u001b[33mus_augmentation\u001b[0m=\u001b[3;35mNone\u001b[0m,\n",
       "            \u001b[33mout_size\u001b[0m=\u001b[1m[\u001b[0m\u001b[1;36m256\u001b[0m, \u001b[1;36m256\u001b[0m\u001b[1m]\u001b[0m\n",
       "        \u001b[1m)\u001b[0m,\n",
       "        \u001b[33mpatch_transform_eval\u001b[0m=\u001b[1;35mTransformConfig\u001b[0m\u001b[1m(\u001b[0m\n",
       "            \u001b[33m_target_\u001b[0m=\u001b[32m'src.data.exact.transforms.TransformV3'\u001b[0m,\n",
       "            \u001b[33mnorm\u001b[0m=\u001b[1;35mNormConfig\u001b[0m\u001b[1m(\u001b[0m\n",
       "                \u001b[33m_target_\u001b[0m=\u001b[32m'src.data.exact.transforms.Normalize'\u001b[0m,\n",
       "                \u001b[33mmode\u001b[0m=\u001b[32m'instance'\u001b[0m,\n",
       "                \u001b[33mtype\u001b[0m=\u001b[32m'min-max'\u001b[0m,\n",
       "                \u001b[33mtruncate\u001b[0m=\u001b[3;92mTrue\u001b[0m\n",
       "            \u001b[1m)\u001b[0m,\n",
       "            \u001b[33mtensor_transform\u001b[0m=\u001b[3;35mNone\u001b[0m,\n",
       "            \u001b[33mus_augmentation\u001b[0m=\u001b[3;35mNone\u001b[0m,\n",
       "            \u001b[33mout_size\u001b[0m=\u001b[1m[\u001b[0m\u001b[1;36m256\u001b[0m, \u001b[1;36m256\u001b[0m\u001b[1m]\u001b[0m\n",
       "        \u001b[1m)\u001b[0m\n",
       "    \u001b[1m)\u001b[0m,\n",
       "    \u001b[32m'split_seed'\u001b[0m: \u001b[1;36m2\u001b[0m\n",
       "\u001b[1m}\u001b[0m\n"
      ]
     },
     "metadata": {},
     "output_type": "display_data"
    }
   ],
   "source": [
    "from hydra import initialize, compose\n",
    "\n",
    "initialize(config_path='../configs')\n",
    "\n",
    "from src.configuration import register_configs\n",
    "\n",
    "register_configs()\n",
    "\n",
    "#cfg = compose(overrides=['+datamodule@dm=sl_datamodule', '+split_seed=0'])\n",
    "cfg = compose(overrides=['+datamodule@dm=concatenated_cores', '+split_seed=2'])\n",
    "\n",
    "from omegaconf import OmegaConf\n",
    "OmegaConf.resolve(cfg)\n",
    "\n",
    "from hydra.utils import instantiate\n",
    "\n",
    "cfg.dm.splits.merge_test_centers = True\n",
    "cfg.dm.splits.merge_val_centers = True\n",
    "cfg.dm.splits.undersample_benign_train = False \n",
    "cfg.dm.splits.undersample_benign_eval = False \n",
    "cfg.dm.loader_config.num_workers = 0\n",
    "cfg.dm.loader_config.balance_classes_train = False\n",
    "\n",
    "from rich import print as pprint\n",
    "pprint(OmegaConf.to_object(cfg))"
   ]
  },
  {
   "cell_type": "code",
   "execution_count": 3,
   "metadata": {},
   "outputs": [],
   "source": [
    "dm = instantiate(cfg.dm)"
   ]
  },
  {
   "cell_type": "code",
   "execution_count": null,
   "metadata": {},
   "outputs": [
    {
     "name": "stderr",
     "output_type": "stream",
     "text": [
      "Preparing cores: 100%|██████████| 4575/4575 [02:24<00:00, 31.65it/s]\n",
      "Loading Patch Views: 100%|██████████| 4575/4575 [02:30<00:00, 30.44it/s]\n",
      "Preparing cores: 100%|██████████| 558/558 [00:18<00:00, 30.28it/s]\n",
      "Loading Patch Views: 100%|██████████| 558/558 [00:19<00:00, 28.19it/s]\n",
      "Preparing cores: 100%|██████████| 1112/1112 [00:36<00:00, 30.49it/s]\n",
      "Loading Patch Views: 100%|██████████| 1112/1112 [00:41<00:00, 26.86it/s]\n"
     ]
    }
   ],
   "source": [
    "dm.setup()"
   ]
  },
  {
   "cell_type": "code",
   "execution_count": null,
   "metadata": {},
   "outputs": [],
   "source": [
    "from src.modeling.registry import finetune_linear_all_centers, core_classifier\n",
    "#model = finetune_linear_all_centers(seed=2, split_seed=2)\n",
    "model = core_classifier(0, 2)\n",
    "from src.modeling.seq_models import core_classifier_batch_to_output"
   ]
  },
  {
   "cell_type": "code",
   "execution_count": null,
   "metadata": {},
   "outputs": [
    {
     "data": {
      "application/vnd.jupyter.widget-view+json": {
       "model_id": "c647230a8f3f49d3aba078c8e8c50788",
       "version_major": 2,
       "version_minor": 0
      },
      "text/plain": [
       "  0%|          | 0/1112 [00:00<?, ?it/s]"
      ]
     },
     "metadata": {},
     "output_type": "display_data"
    }
   ],
   "source": [
    "from src.utils.metrics import ClassificationOutputCollector\n",
    "import torch\n",
    "from tqdm.notebook import tqdm\n",
    "\n",
    "@torch.inference_mode()\n",
    "def test(model, loader): \n",
    "    model.eval().cuda()\n",
    "    collector = ClassificationOutputCollector()\n",
    "\n",
    "    for batch in tqdm(loader): \n",
    "        out = core_classifier_batch_to_output(model, batch, 'cuda')\n",
    "        collector.collect_batch(out['classification_output'])\n",
    "\n",
    "    return collector.compute()\n",
    "\n",
    "\n",
    "out = test(model, dm.test_dataloader())\n"
   ]
  },
  {
   "cell_type": "code",
   "execution_count": null,
   "metadata": {},
   "outputs": [
    {
     "data": {
      "text/plain": [
       "torch.Size([1112, 512])"
      ]
     },
     "execution_count": 12,
     "metadata": {},
     "output_type": "execute_result"
    }
   ],
   "source": [
    "out['pool_output'].shape"
   ]
  },
  {
   "cell_type": "code",
   "execution_count": null,
   "metadata": {},
   "outputs": [],
   "source": [
    "#from tqdm.notebook import tqdm\n",
    "#from ignite.utils import convert_tensor\n",
    "#from src.utils.metrics import ClassificationOutputCollector\n",
    "#import torch\n",
    "#\n",
    "#@torch.inference_mode()\n",
    "#def test(model, loader): \n",
    "#    model.eval().cuda()\n",
    "#\n",
    "#    collector = ClassificationOutputCollector()\n",
    "#\n",
    "#    for batch in tqdm(loader):\n",
    "#        patch, pos, label, metadata = batch \n",
    "#        \n",
    "#        features = model.backbone.get_features(patch.cuda())\n",
    "#        logits = model.linear_layer(features)\n",
    "#\n",
    "#        collector.collect_batch(\n",
    "#            {\n",
    "#                'features': features, \n",
    "#                'logits': logits, \n",
    "#                'position': pos, \n",
    "#                'label': label, \n",
    "#                **metadata\n",
    "#            }\n",
    "#        )\n",
    "#\n",
    "#    return collector.compute()\n",
    "#\n",
    "#\n",
    "#\n",
    "#test(model, dm.test_dataloader())"
   ]
  },
  {
   "cell_type": "code",
   "execution_count": null,
   "metadata": {},
   "outputs": [
    {
     "data": {
      "application/vnd.jupyter.widget-view+json": {
       "model_id": "e05faabb2b3a4c039043da0a85e8563f",
       "version_major": 2,
       "version_minor": 0
      },
      "text/plain": [
       "  0%|          | 0/7811 [00:00<?, ?it/s]"
      ]
     },
     "metadata": {},
     "output_type": "display_data"
    },
    {
     "data": {
      "application/vnd.jupyter.widget-view+json": {
       "model_id": "372e2439314344f9a8f2e537663db73a",
       "version_major": 2,
       "version_minor": 0
      },
      "text/plain": [
       "  0%|          | 0/1013 [00:00<?, ?it/s]"
      ]
     },
     "metadata": {},
     "output_type": "display_data"
    },
    {
     "data": {
      "application/vnd.jupyter.widget-view+json": {
       "model_id": "1d6a0aa6a2834337af3c0a1a3d487c94",
       "version_major": 2,
       "version_minor": 0
      },
      "text/plain": [
       "  0%|          | 0/1912 [00:00<?, ?it/s]"
      ]
     },
     "metadata": {},
     "output_type": "display_data"
    },
    {
     "ename": "",
     "evalue": "",
     "output_type": "error",
     "traceback": [
      "\u001b[1;31mThe Kernel crashed while executing code in the the current cell or a previous cell. Please review the code in the cell(s) to identify a possible cause of the failure. Click <a href='https://aka.ms/vscodeJupyterKernelCrash'>here</a> for more info. View Jupyter <a href='command:jupyter.viewOutput'>log</a> for further details."
     ]
    }
   ],
   "source": [
    "import numpy as np \n",
    "import os\n",
    "\n",
    "def all_out_to_numpy(out): \n",
    "    for k, v in out.items(): \n",
    "        if isinstance(v, torch.Tensor): \n",
    "            out[k] = v.numpy()\n",
    "    return out\n",
    "\n",
    "def collect_all_and_save_all_latents(name): \n",
    "    loaders = {\n",
    "        'train': dm.train_dataloader(), \n",
    "        'val': dm.val_dataloader(), \n",
    "        'test': dm.test_dataloader()\n",
    "    }\n",
    "\n",
    "    if not os.path.isdir(name):\n",
    "        os.mkdir(name)\n",
    "    \n",
    "    for loader_name, loader in loaders.items(): \n",
    "        out = test(model, loader)\n",
    "        out = all_out_to_numpy(out)\n",
    "        np.savez(os.path.join(name, f\"{loader_name}_latents\" ), **out)\n",
    "\n",
    "collect_all_and_save_all_latents('all_cores_')"
   ]
  },
  {
   "cell_type": "code",
   "execution_count": null,
   "metadata": {},
   "outputs": [],
   "source": []
  }
 ],
 "metadata": {
  "kernelspec": {
   "display_name": "exact",
   "language": "python",
   "name": "python3"
  },
  "language_info": {
   "codemirror_mode": {
    "name": "ipython",
    "version": 3
   },
   "file_extension": ".py",
   "mimetype": "text/x-python",
   "name": "python",
   "nbconvert_exporter": "python",
   "pygments_lexer": "ipython3",
   "version": "3.9.7"
  },
  "orig_nbformat": 4,
  "vscode": {
   "interpreter": {
    "hash": "7a5cbe58c68b89c0961f395f53ada90e2e240c2940fb46fd24937fe03ca7f49a"
   }
  }
 },
 "nbformat": 4,
 "nbformat_minor": 2
}
