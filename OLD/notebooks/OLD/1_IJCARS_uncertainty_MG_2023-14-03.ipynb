{
 "cells": [
  {
   "cell_type": "code",
   "execution_count": 1,
   "metadata": {},
   "outputs": [
    {
     "name": "stdout",
     "output_type": "stream",
     "text": [
      "/home/mahdigilany/offline_codes/codes/TRUSnet\n"
     ]
    }
   ],
   "source": [
    "# import sys \n",
    "# sys.path.append('../')\n",
    "%cd ..\n",
    "\n",
    "import numpy as np\n",
    "import pandas as pd\n",
    "import matplotlib.pyplot as plt\n",
    "import torch\n",
    "import torch.nn as nn\n",
    "import torch.nn.functional as F\n",
    "import torch.optim as optim\n",
    "import torch.utils.data as data\n",
    "import torchvision\n",
    "from rich import print as pprint\n"
   ]
  },
  {
   "attachments": {},
   "cell_type": "markdown",
   "metadata": {},
   "source": [
    "## Loading all configs"
   ]
  },
  {
   "cell_type": "code",
   "execution_count": 2,
   "metadata": {},
   "outputs": [
    {
     "data": {
      "text/html": [
       "<pre style=\"white-space:pre;overflow-x:auto;line-height:normal;font-family:Menlo,'DejaVu Sans Mono',consolas,'Courier New',monospace\">name: sngp_resnet10_uva600_ndl&amp;prst_nospectral_batchnorm\n",
       "seed: <span style=\"color: #008080; text-decoration-color: #008080; font-weight: bold\">0</span>\n",
       "split_seed: <span style=\"color: #008080; text-decoration-color: #008080; font-weight: bold\">0</span>\n",
       "batch_size: <span style=\"color: #008080; text-decoration-color: #008080; font-weight: bold\">32</span>\n",
       "num_epochs: <span style=\"color: #008080; text-decoration-color: #008080; font-weight: bold\">30</span>\n",
       "num_classes: <span style=\"color: #008080; text-decoration-color: #008080; font-weight: bold\">2</span>\n",
       "loss_name: crossentropy_loss\n",
       "freeze_backbone: false\n",
       "data:\n",
       "  dataset_name: exact_patches_sl_uva600_centers_balanced_ndl_prst_instanceNorm\n",
       "  num_workers: <span style=\"color: #008080; text-decoration-color: #008080; font-weight: bold\">4</span>\n",
       "model:\n",
       "  model_name: sngp_resnet10\n",
       "  num_deep_features: <span style=\"color: #008080; text-decoration-color: #008080; font-weight: bold\">512</span>\n",
       "  num_gp_features: <span style=\"color: #008080; text-decoration-color: #008080; font-weight: bold\">128</span>\n",
       "  mean_field_factor: <span style=\"color: #008080; text-decoration-color: #008080; font-weight: bold\">25</span>\n",
       "  spectral_norm: true\n",
       "  spectral_config:\n",
       "    input_size: <span style=\"color: #008080; text-decoration-color: #008080; font-weight: bold\">256</span>\n",
       "    coefficient: <span style=\"color: #008080; text-decoration-color: #008080; font-weight: bold\">1.0</span>\n",
       "    n_power_iterations: <span style=\"color: #008080; text-decoration-color: #008080; font-weight: bold\">1</span>\n",
       "optimizer:\n",
       "  lr: <span style=\"color: #008080; text-decoration-color: #008080; font-weight: bold\">0.0001</span>\n",
       "  weight_decay: <span style=\"color: #008080; text-decoration-color: #008080; font-weight: bold\">1.0e-06</span>\n",
       "logger:\n",
       "  wandb:\n",
       "    entity: mahdigilany\n",
       "    project: IJCARS\n",
       "    id: <span style=\"color: #008080; text-decoration-color: #008080; font-weight: bold\">0</span>\n",
       "\n",
       "</pre>\n"
      ],
      "text/plain": [
       "name: sngp_resnet10_uva600_ndl&prst_nospectral_batchnorm\n",
       "seed: \u001b[1;36m0\u001b[0m\n",
       "split_seed: \u001b[1;36m0\u001b[0m\n",
       "batch_size: \u001b[1;36m32\u001b[0m\n",
       "num_epochs: \u001b[1;36m30\u001b[0m\n",
       "num_classes: \u001b[1;36m2\u001b[0m\n",
       "loss_name: crossentropy_loss\n",
       "freeze_backbone: false\n",
       "data:\n",
       "  dataset_name: exact_patches_sl_uva600_centers_balanced_ndl_prst_instanceNorm\n",
       "  num_workers: \u001b[1;36m4\u001b[0m\n",
       "model:\n",
       "  model_name: sngp_resnet10\n",
       "  num_deep_features: \u001b[1;36m512\u001b[0m\n",
       "  num_gp_features: \u001b[1;36m128\u001b[0m\n",
       "  mean_field_factor: \u001b[1;36m25\u001b[0m\n",
       "  spectral_norm: true\n",
       "  spectral_config:\n",
       "    input_size: \u001b[1;36m256\u001b[0m\n",
       "    coefficient: \u001b[1;36m1.0\u001b[0m\n",
       "    n_power_iterations: \u001b[1;36m1\u001b[0m\n",
       "optimizer:\n",
       "  lr: \u001b[1;36m0.0001\u001b[0m\n",
       "  weight_decay: \u001b[1;36m1.0e-06\u001b[0m\n",
       "logger:\n",
       "  wandb:\n",
       "    entity: mahdigilany\n",
       "    project: IJCARS\n",
       "    id: \u001b[1;36m0\u001b[0m\n",
       "\n"
      ]
     },
     "metadata": {},
     "output_type": "display_data"
    }
   ],
   "source": [
    "from hydra import compose, initialize\n",
    "from hydra.utils import instantiate\n",
    "from omegaconf import DictConfig, OmegaConf\n",
    "from hydra.core.global_hydra import GlobalHydra\n",
    "from src.configuration import register_configs\n",
    "from tqdm import tqdm\n",
    "\n",
    "register_configs()\n",
    "\n",
    "GlobalHydra.instance().clear()\n",
    "initialize(config_path=\"../configs\", version_base=\"1.1\")\n",
    "\n",
    "configs = compose(\n",
    "    config_name=\"experiment/01_SNGP_baseline_MG_2023-03-14.yaml\",\n",
    "    )\n",
    "# lightning_data_module = instantiate(dm_config)['datamodule']\n",
    "# print(lightning_data_module)\n",
    "# lightning_data_module.setup()\n",
    "\n",
    "pprint(OmegaConf.to_yaml(configs))\n",
    "# "
   ]
  },
  {
   "cell_type": "code",
   "execution_count": 3,
   "metadata": {},
   "outputs": [
    {
     "name": "stderr",
     "output_type": "stream",
     "text": [
      "INFO:pytorch_lightning.utilities.seed:Global seed set to 0\n"
     ]
    },
    {
     "data": {
      "text/plain": [
       "0"
      ]
     },
     "execution_count": 3,
     "metadata": {},
     "output_type": "execute_result"
    }
   ],
   "source": [
    "from pytorch_lightning import seed_everything\n",
    "\n",
    "seed_everything(configs.seed)"
   ]
  },
  {
   "attachments": {},
   "cell_type": "markdown",
   "metadata": {},
   "source": [
    "## Loading data"
   ]
  },
  {
   "cell_type": "code",
   "execution_count": 9,
   "metadata": {},
   "outputs": [
    {
     "name": "stderr",
     "output_type": "stream",
     "text": [
      "Preparing cores: 100%|██████████| 317/317 [00:00<00:00, 72485.11it/s]\n",
      "Indexing Patches: 100%|██████████| 317/317 [00:00<00:00, 18460.95it/s]\n",
      "Preparing cores: 100%|██████████| 76/76 [00:00<00:00, 63970.92it/s]\n",
      "Indexing Patches: 100%|██████████| 76/76 [00:00<00:00, 18622.84it/s]\n",
      "Preparing cores: 100%|██████████| 81/81 [00:00<00:00, 65321.79it/s]\n",
      "Indexing Patches: 100%|██████████| 81/81 [00:00<00:00, 18030.92it/s]\n"
     ]
    }
   ],
   "source": [
    "import torch\n",
    "from src.data.registry import create_dataset\n",
    "\n",
    "configs.data.num_workers = 0\n",
    "\n",
    "train_ds = create_dataset(configs.data.dataset_name, split=\"train\")\n",
    "train_dl = torch.utils.data.DataLoader(\n",
    "    train_ds, batch_size=configs.batch_size, shuffle=True, num_workers=configs.data.num_workers\n",
    ")\n",
    "val_ds = create_dataset(configs.data.dataset_name, split=\"val\")\n",
    "val_dl = torch.utils.data.DataLoader(\n",
    "    val_ds, batch_size=configs.batch_size, shuffle=False, num_workers=configs.data.num_workers\n",
    ")\n",
    "test_ds = create_dataset(configs.data.dataset_name, split=\"test\")\n",
    "test_dl = torch.utils.data.DataLoader(\n",
    "    test_ds, batch_size=configs.batch_size, shuffle=False, num_workers=configs.data.num_workers\n",
    ")"
   ]
  },
  {
   "cell_type": "code",
   "execution_count": 20,
   "metadata": {},
   "outputs": [],
   "source": [
    "# train_ds.cores[0].download_and_preprocess_iq()"
   ]
  },
  {
   "attachments": {},
   "cell_type": "markdown",
   "metadata": {},
   "source": [
    "## Loading model"
   ]
  },
  {
   "cell_type": "code",
   "execution_count": 5,
   "metadata": {},
   "outputs": [],
   "source": [
    "from src.modeling.registry import create_model\n",
    "from src.modeling.GP_approx_models import Laplace\n",
    "configs.model.model_name = \"spectral_resnet10_feature_extractor\"\n",
    "spectral_feature_extractor = create_model(configs.model.model_name,)# spectral_norm=False)\n",
    "model = Laplace(spectral_feature_extractor,\n",
    "                num_deep_features=configs.model.num_deep_features,\n",
    "                num_gp_features=configs.model.num_gp_features,\n",
    "                mean_field_factor=configs.model.mean_field_factor,\n",
    "                num_data= len(train_ds),\n",
    ")\n",
    "# model = nn.Sequential(spectral_feature_extractor, nn.Linear(512,2))"
   ]
  },
  {
   "cell_type": "code",
   "execution_count": 7,
   "metadata": {},
   "outputs": [],
   "source": [
    "\"\"\"If the model is using registered model in src/modeling/registry/registry.py\"\"\"\n",
    "from src.modeling.registry import create_model\n",
    "model = create_model(**configs.model, num_data= len(train_ds))\n"
   ]
  },
  {
   "cell_type": "code",
   "execution_count": 6,
   "metadata": {},
   "outputs": [],
   "source": [
    "# spectral_feature_extractor.__dict__\n",
    "# model.__dict__"
   ]
  },
  {
   "attachments": {},
   "cell_type": "markdown",
   "metadata": {},
   "source": [
    "## Defining optimizer"
   ]
  },
  {
   "cell_type": "code",
   "execution_count": 8,
   "metadata": {},
   "outputs": [],
   "source": [
    "from src.modeling.loss.loss_functions import create_loss_fx\n",
    "from src.modeling.optimizer_factory import configure_optimizers\n",
    "\n",
    "# optimizer = configure_optimizers(configs.optimizer, model)\n",
    "optimizer = torch.optim.Adam(model.parameters(), lr=configs.optimizer.lr, weight_decay=configs.optimizer.weight_decay)\n",
    "criterion = create_loss_fx(configs.loss_name, num_classes=configs.num_classes)"
   ]
  },
  {
   "cell_type": "code",
   "execution_count": 9,
   "metadata": {},
   "outputs": [],
   "source": [
    "# scheduler = torch.optim.lr_scheduler.MultiStepLR(\n",
    "#     optimizer, milestones=milestones, gamma=0.2\n",
    "# )"
   ]
  },
  {
   "cell_type": "code",
   "execution_count": 9,
   "metadata": {},
   "outputs": [],
   "source": [
    "\"\"\"Use script sngp_training to train the model instead of this cell.\"\"\"\n",
    "\n",
    "# from torchmetrics import Accuracy\n",
    "\n",
    "\n",
    "# model.to(\"cuda\")\n",
    "# configs.num_epochs = 20\n",
    "\n",
    "# epochs_Loss = []\n",
    "# for epoch in range(configs.num_epochs):\n",
    "#     print(f\"Epoch {epoch}\")\n",
    "#     model.train()\n",
    "#     # acc = Accuracy(average=\"macro\", num_classes=2).to(\"cuda\")\n",
    "    \n",
    "#     # reset the precision matrix based on SNGP paper\n",
    "#     model.reset_precision_matrix()\n",
    "#     batches_Loss = []\n",
    "#     for batch in tqdm(train_dl, desc=\"Training\"):\n",
    "#         x, y, metadata = batch\n",
    "#         x = x.to(\"cuda\")\n",
    "#         y = y.to(\"cuda\")\n",
    "#         y_hat = model(x)\n",
    "#         loss = criterion(y_hat, y, reduction='mean')\n",
    "#         optimizer.zero_grad()\n",
    "#         loss.backward()\n",
    "#         optimizer.step()\n",
    "#         batches_Loss.append(loss.item())\n",
    "#         # acc(y_hat, y)\n",
    "#     epochs_Loss.append(np.mean(batches_Loss))\n",
    "\n",
    "\n",
    "    "
   ]
  },
  {
   "cell_type": "code",
   "execution_count": 10,
   "metadata": {},
   "outputs": [],
   "source": [
    "# torch.save(model.state_dict(), \"SNGP_model_20epochs.pt\")\n",
    "# "
   ]
  },
  {
   "cell_type": "code",
   "execution_count": 11,
   "metadata": {},
   "outputs": [],
   "source": [
    "# model(x)[1].shape   "
   ]
  },
  {
   "cell_type": "markdown",
   "metadata": {},
   "source": [
    "## Loading checkpoint"
   ]
  },
  {
   "cell_type": "code",
   "execution_count": 7,
   "metadata": {},
   "outputs": [
    {
     "data": {
      "text/plain": [
       "<All keys matched successfully>"
      ]
     },
     "execution_count": 7,
     "metadata": {},
     "output_type": "execute_result"
    }
   ],
   "source": [
    "# state_dict = torch.load(\"logs/ckpt_store/sngp_uva_ndl_meanfield_25_weightes_sampler.pt\")\n",
    "state_dict = torch.load(\"logs/ckpt_store/sngp_resnet10_uva600_ndl&prst_no_batchnorm.pt\")\n",
    "# state_dict = torch.load(\"logs/ckpt_store/resnet10_uva600_ndl&prst.pt\")\n",
    "model.load_state_dict(state_dict)"
   ]
  },
  {
   "cell_type": "code",
   "execution_count": null,
   "metadata": {},
   "outputs": [],
   "source": [
    "\"\"\"In order to load to the model in the registry\"\"\"\n",
    "state_dict = torch.load(\"logs/ckpt_store/sngp_resnet10_extra_lin_uva600_ndl&prst_no_batchnorm_pretrained_with_prostate_frozen_backbone.pt\")\n",
    "model.load_state_dict(state_dict)"
   ]
  },
  {
   "cell_type": "code",
   "execution_count": 9,
   "metadata": {},
   "outputs": [
    {
     "data": {
      "text/plain": [
       "['UVA']"
      ]
     },
     "execution_count": 9,
     "metadata": {},
     "output_type": "execute_result"
    }
   ],
   "source": [
    "# get columns of data frame\n",
    "# train_metadata = train_ds.metadata\n",
    "# train_metadata.columns\n",
    "# list(set(train_metadata['center']))\n",
    "# list(train_metadata.query('center == \"UVA\"').index)"
   ]
  },
  {
   "cell_type": "code",
   "execution_count": 10,
   "metadata": {},
   "outputs": [
    {
     "name": "stderr",
     "output_type": "stream",
     "text": [
      "Validation: 100%|██████████| 94/94 [00:21<00:00,  4.31it/s]"
     ]
    },
    {
     "name": "stdout",
     "output_type": "stream",
     "text": [
      "Validation Loss: 0.7899583819064688\n"
     ]
    },
    {
     "name": "stderr",
     "output_type": "stream",
     "text": [
      "\n"
     ]
    }
   ],
   "source": [
    "from torchmetrics import Accuracy, AUROC\n",
    "from src.lightning.callbacks.components import metrics\n",
    "\n",
    "# validation\n",
    "val_metadata = val_ds.metadata\n",
    "# patch metric manager just collects the predictions and labels and finds all metrics \n",
    "# TODO: patch metric manager needs major update\n",
    "patch_metric_manager = metrics.PatchMetricManager(list(set(val_metadata['center'])), device=\"cpu\")\n",
    "\n",
    "# acc = Accuracy(average=\"macro\", num_classes=2).to(\"cuda\")\n",
    "# auc = AUROC(average=\"macro\", num_classes=2).to(\"cuda\")\n",
    "model.seen_data = torch.tensor(len(train_ds))\n",
    "batches_Loss = []\n",
    "model.to(\"cuda\")\n",
    "model.eval()\n",
    "with torch.no_grad():\n",
    "    for batch in tqdm(val_dl, desc=\"Validation\"):\n",
    "        x, y, metadata = batch\n",
    "        x = x.to(\"cuda\")\n",
    "        y = y.to(\"cuda\")\n",
    "        y_hat = model(x)\n",
    "        # y_hat = y_hat[0]\n",
    "        loss = criterion(y_hat, y, reduction='mean')\n",
    "        batches_Loss.append(loss.item())\n",
    "        patch_metric_manager.update_wMetadata(ds_type=\"val\", logits=y_hat, labels=y, metadata=metadata)\n",
    "\n",
    "print(f\"Validation Loss: {np.mean(batches_Loss)}\")"
   ]
  },
  {
   "cell_type": "code",
   "execution_count": 11,
   "metadata": {},
   "outputs": [
    {
     "data": {
      "text/plain": [
       "{'val/finetune_auc': tensor(0.6459, device='cuda:0'),\n",
       " 'val/finetune_ap': tensor(0.6225, device='cuda:0'),\n",
       " 'val/finetune_acc_macro': tensor(0.6031, device='cuda:0'),\n",
       " 'val/finetune_sen': tensor(0.6031, device='cuda:0'),\n",
       " 'val/finetune_spe': tensor(0.6031, device='cuda:0'),\n",
       " 'val/finetune_f1': tensor(0.6055, device='cuda:0')}"
      ]
     },
     "execution_count": 11,
     "metadata": {},
     "output_type": "execute_result"
    }
   ],
   "source": [
    "patch_metric_manager.center_metric_dict['ALL'].gs_valMetric_dict[\"ALL\"].compute()\n",
    "patch_metric_manager.compute('val', 'ALL')"
   ]
  },
  {
   "cell_type": "code",
   "execution_count": 12,
   "metadata": {},
   "outputs": [
    {
     "name": "stderr",
     "output_type": "stream",
     "text": [
      "Test: 100%|██████████| 108/108 [00:25<00:00,  4.31it/s]"
     ]
    },
    {
     "name": "stdout",
     "output_type": "stream",
     "text": [
      "Test Loss: 0.6870539896190166\n"
     ]
    },
    {
     "name": "stderr",
     "output_type": "stream",
     "text": [
      "\n"
     ]
    }
   ],
   "source": [
    "# test\n",
    "# acc = Accuracy(average=\"macro\", num_classes=2).to(\"cuda\")\n",
    "# auc = AUROC(average=\"macro\", num_classes=2).to(\"cuda\")\n",
    "batches_Loss = []\n",
    "model.to(\"cuda\")\n",
    "model.eval()\n",
    "with torch.no_grad():\n",
    "    for batch in tqdm(test_dl, desc=\"Test\"):\n",
    "        x, y, metadata = batch\n",
    "        x = x.to(\"cuda\")\n",
    "        y = y.to(\"cuda\")\n",
    "        y_hat = model(x)\n",
    "        # y_hat = y_hat[0]\n",
    "        loss = criterion(y_hat, y, reduction='mean')\n",
    "        batches_Loss.append(loss.item())\n",
    "        patch_metric_manager.update_wMetadata(ds_type=\"test\", logits=y_hat, labels=y, metadata=metadata)\n",
    "        \n",
    "print(f\"Test Loss: {np.mean(batches_Loss)}\")"
   ]
  },
  {
   "cell_type": "code",
   "execution_count": 13,
   "metadata": {},
   "outputs": [
    {
     "data": {
      "text/plain": [
       "{'test/finetune_auc': tensor(0.7114, device='cuda:0'),\n",
       " 'test/finetune_ap': tensor(0.6984, device='cuda:0'),\n",
       " 'test/finetune_acc_macro': tensor(0.6453, device='cuda:0'),\n",
       " 'test/finetune_sen': tensor(0.6453, device='cuda:0'),\n",
       " 'test/finetune_spe': tensor(0.6453, device='cuda:0'),\n",
       " 'test/finetune_f1': tensor(0.6499, device='cuda:0')}"
      ]
     },
     "execution_count": 13,
     "metadata": {},
     "output_type": "execute_result"
    }
   ],
   "source": [
    "patch_metric_manager.center_metric_dict['ALL'].gs_testMetric_dict[\"ALL\"].compute()\n",
    "patch_metric_manager.compute('test', 'ALL')"
   ]
  },
  {
   "cell_type": "code",
   "execution_count": 27,
   "metadata": {},
   "outputs": [
    {
     "data": {
      "text/html": [
       "<pre style=\"white-space:pre;overflow-x:auto;line-height:normal;font-family:Menlo,'DejaVu Sans Mono',consolas,'Courier New',monospace\"><span style=\"font-weight: bold\">{</span>\n",
       "    <span style=\"color: #008000; text-decoration-color: #008000\">'test/finetune_core_auc'</span>: <span style=\"color: #800080; text-decoration-color: #800080; font-weight: bold\">tensor</span><span style=\"font-weight: bold\">(</span><span style=\"color: #008080; text-decoration-color: #008080; font-weight: bold\">0.9245</span><span style=\"font-weight: bold\">)</span>,\n",
       "    <span style=\"color: #008000; text-decoration-color: #008000\">'test/finetune_core_ap'</span>: <span style=\"color: #800080; text-decoration-color: #800080; font-weight: bold\">tensor</span><span style=\"font-weight: bold\">(</span><span style=\"color: #008080; text-decoration-color: #008080; font-weight: bold\">0.9186</span><span style=\"font-weight: bold\">)</span>,\n",
       "    <span style=\"color: #008000; text-decoration-color: #008000\">'test/finetune_core_acc_macro'</span>: <span style=\"color: #800080; text-decoration-color: #800080; font-weight: bold\">tensor</span><span style=\"font-weight: bold\">(</span><span style=\"color: #008080; text-decoration-color: #008080; font-weight: bold\">0.6997</span><span style=\"font-weight: bold\">)</span>,\n",
       "    <span style=\"color: #008000; text-decoration-color: #008000\">'test/finetune_core_sen'</span>: <span style=\"color: #800080; text-decoration-color: #800080; font-weight: bold\">tensor</span><span style=\"font-weight: bold\">(</span><span style=\"color: #008080; text-decoration-color: #008080; font-weight: bold\">0.6997</span><span style=\"font-weight: bold\">)</span>,\n",
       "    <span style=\"color: #008000; text-decoration-color: #008000\">'test/finetune_core_spe'</span>: <span style=\"color: #800080; text-decoration-color: #800080; font-weight: bold\">tensor</span><span style=\"font-weight: bold\">(</span><span style=\"color: #008080; text-decoration-color: #008080; font-weight: bold\">0.6997</span><span style=\"font-weight: bold\">)</span>,\n",
       "    <span style=\"color: #008000; text-decoration-color: #008000\">'test/finetune_core_f1'</span>: <span style=\"color: #800080; text-decoration-color: #800080; font-weight: bold\">tensor</span><span style=\"font-weight: bold\">(</span><span style=\"color: #008080; text-decoration-color: #008080; font-weight: bold\">0.7077</span><span style=\"font-weight: bold\">)</span>\n",
       "<span style=\"font-weight: bold\">}</span>\n",
       "</pre>\n"
      ],
      "text/plain": [
       "\u001b[1m{\u001b[0m\n",
       "    \u001b[32m'test/finetune_core_auc'\u001b[0m: \u001b[1;35mtensor\u001b[0m\u001b[1m(\u001b[0m\u001b[1;36m0.9245\u001b[0m\u001b[1m)\u001b[0m,\n",
       "    \u001b[32m'test/finetune_core_ap'\u001b[0m: \u001b[1;35mtensor\u001b[0m\u001b[1m(\u001b[0m\u001b[1;36m0.9186\u001b[0m\u001b[1m)\u001b[0m,\n",
       "    \u001b[32m'test/finetune_core_acc_macro'\u001b[0m: \u001b[1;35mtensor\u001b[0m\u001b[1m(\u001b[0m\u001b[1;36m0.6997\u001b[0m\u001b[1m)\u001b[0m,\n",
       "    \u001b[32m'test/finetune_core_sen'\u001b[0m: \u001b[1;35mtensor\u001b[0m\u001b[1m(\u001b[0m\u001b[1;36m0.6997\u001b[0m\u001b[1m)\u001b[0m,\n",
       "    \u001b[32m'test/finetune_core_spe'\u001b[0m: \u001b[1;35mtensor\u001b[0m\u001b[1m(\u001b[0m\u001b[1;36m0.6997\u001b[0m\u001b[1m)\u001b[0m,\n",
       "    \u001b[32m'test/finetune_core_f1'\u001b[0m: \u001b[1;35mtensor\u001b[0m\u001b[1m(\u001b[0m\u001b[1;36m0.7077\u001b[0m\u001b[1m)\u001b[0m\n",
       "\u001b[1m}\u001b[0m\n"
      ]
     },
     "metadata": {},
     "output_type": "display_data"
    },
    {
     "data": {
      "text/html": [
       "<pre style=\"white-space:pre;overflow-x:auto;line-height:normal;font-family:Menlo,'DejaVu Sans Mono',consolas,'Courier New',monospace\"><span style=\"font-weight: bold\">{</span>\n",
       "    <span style=\"color: #008000; text-decoration-color: #008000\">'val/finetune_core_auc'</span>: <span style=\"color: #800080; text-decoration-color: #800080; font-weight: bold\">tensor</span><span style=\"font-weight: bold\">(</span><span style=\"color: #008080; text-decoration-color: #008080; font-weight: bold\">0.7385</span><span style=\"font-weight: bold\">)</span>,\n",
       "    <span style=\"color: #008000; text-decoration-color: #008000\">'val/finetune_core_ap'</span>: <span style=\"color: #800080; text-decoration-color: #800080; font-weight: bold\">tensor</span><span style=\"font-weight: bold\">(</span><span style=\"color: #008080; text-decoration-color: #008080; font-weight: bold\">0.7257</span><span style=\"font-weight: bold\">)</span>,\n",
       "    <span style=\"color: #008000; text-decoration-color: #008000\">'val/finetune_core_acc_macro'</span>: <span style=\"color: #800080; text-decoration-color: #800080; font-weight: bold\">tensor</span><span style=\"font-weight: bold\">(</span><span style=\"color: #008080; text-decoration-color: #008080; font-weight: bold\">0.7039</span><span style=\"font-weight: bold\">)</span>,\n",
       "    <span style=\"color: #008000; text-decoration-color: #008000\">'val/finetune_core_sen'</span>: <span style=\"color: #800080; text-decoration-color: #800080; font-weight: bold\">tensor</span><span style=\"font-weight: bold\">(</span><span style=\"color: #008080; text-decoration-color: #008080; font-weight: bold\">0.7039</span><span style=\"font-weight: bold\">)</span>,\n",
       "    <span style=\"color: #008000; text-decoration-color: #008000\">'val/finetune_core_spe'</span>: <span style=\"color: #800080; text-decoration-color: #800080; font-weight: bold\">tensor</span><span style=\"font-weight: bold\">(</span><span style=\"color: #008080; text-decoration-color: #008080; font-weight: bold\">0.7039</span><span style=\"font-weight: bold\">)</span>,\n",
       "    <span style=\"color: #008000; text-decoration-color: #008000\">'val/finetune_core_f1'</span>: <span style=\"color: #800080; text-decoration-color: #800080; font-weight: bold\">tensor</span><span style=\"font-weight: bold\">(</span><span style=\"color: #008080; text-decoration-color: #008080; font-weight: bold\">0.7161</span><span style=\"font-weight: bold\">)</span>\n",
       "<span style=\"font-weight: bold\">}</span>\n",
       "</pre>\n"
      ],
      "text/plain": [
       "\u001b[1m{\u001b[0m\n",
       "    \u001b[32m'val/finetune_core_auc'\u001b[0m: \u001b[1;35mtensor\u001b[0m\u001b[1m(\u001b[0m\u001b[1;36m0.7385\u001b[0m\u001b[1m)\u001b[0m,\n",
       "    \u001b[32m'val/finetune_core_ap'\u001b[0m: \u001b[1;35mtensor\u001b[0m\u001b[1m(\u001b[0m\u001b[1;36m0.7257\u001b[0m\u001b[1m)\u001b[0m,\n",
       "    \u001b[32m'val/finetune_core_acc_macro'\u001b[0m: \u001b[1;35mtensor\u001b[0m\u001b[1m(\u001b[0m\u001b[1;36m0.7039\u001b[0m\u001b[1m)\u001b[0m,\n",
       "    \u001b[32m'val/finetune_core_sen'\u001b[0m: \u001b[1;35mtensor\u001b[0m\u001b[1m(\u001b[0m\u001b[1;36m0.7039\u001b[0m\u001b[1m)\u001b[0m,\n",
       "    \u001b[32m'val/finetune_core_spe'\u001b[0m: \u001b[1;35mtensor\u001b[0m\u001b[1m(\u001b[0m\u001b[1;36m0.7039\u001b[0m\u001b[1m)\u001b[0m,\n",
       "    \u001b[32m'val/finetune_core_f1'\u001b[0m: \u001b[1;35mtensor\u001b[0m\u001b[1m(\u001b[0m\u001b[1;36m0.7161\u001b[0m\u001b[1m)\u001b[0m\n",
       "\u001b[1m}\u001b[0m\n"
      ]
     },
     "metadata": {},
     "output_type": "display_data"
    }
   ],
   "source": [
    "\"\"\"A better way to calculate core metrics is used in sngp_training.py.\"\"\"\n",
    "core_metric_manager = metrics.CoreMetricManager(val_ds, test_ds, list(set(val_metadata['center'])), device=\"cpu\")\n",
    "\n",
    "val_logits, val_labels, val_gs = core_metric_manager.get_logits_labels_grades_from_patchManager(\"val\", patch_metric_manager)\n",
    "core_metric_manager.update(\"val\", val_logits, val_labels, val_gs)\n",
    "\n",
    "test_logits, test_labels, test_gs = core_metric_manager.get_logits_labels_grades_from_patchManager(\"test\", patch_metric_manager)\n",
    "core_metric_manager.update(\"test\", test_logits, test_labels, test_gs)\n",
    "\n",
    "pprint(core_metric_manager.compute(\"test\", \"ALL\"))\n",
    "pprint(core_metric_manager.compute(\"val\", \"ALL\"))"
   ]
  },
  {
   "attachments": {},
   "cell_type": "markdown",
   "metadata": {},
   "source": [
    "#### plotting val logits vs val involvement repeated for each patch"
   ]
  },
  {
   "cell_type": "code",
   "execution_count": 19,
   "metadata": {},
   "outputs": [],
   "source": [
    "# # val_logits['UVA'].softmax(dim=1)\n",
    "# # val_labels['UVA'].shape\n",
    "# val_metadata = val_ds.metadata\n",
    "# val_metadata['pct_cancer'].replace(np.NaN, 0, inplace=True)\n",
    "# val_pct_repeated = np.repeat(val_metadata['pct_cancer'], 55)\n",
    "# plt.scatter(val_pct_repeated, val_logits['UVA'].softmax(dim=1)[:,1].cpu().numpy(), alpha=0.1, s=10)\n",
    "# # val_metadata['pct_cancer']"
   ]
  },
  {
   "cell_type": "code",
   "execution_count": 20,
   "metadata": {},
   "outputs": [],
   "source": [
    "# test_metadata = test_ds.metadata\n",
    "# test_metadata['pct_cancer'].replace(np.NaN, 0, inplace=True)\n",
    "# test_pct_repeated = np.repeat(test_metadata['pct_cancer'], 55)\n",
    "# plt.scatter(test_pct_repeated, test_logits['UVA'].softmax(dim=1)[:,1].cpu().numpy(), alpha=0.1, s=10)"
   ]
  },
  {
   "attachments": {},
   "cell_type": "markdown",
   "metadata": {},
   "source": [
    "### Core scatter plots"
   ]
  },
  {
   "cell_type": "code",
   "execution_count": 15,
   "metadata": {},
   "outputs": [],
   "source": [
    "\"\"\"\"For core scatter plots we need to find the core logits and labels which is done using core metric manager\"\"\"\n",
    "corelen_list = core_metric_manager.corelen_dict['val']['UVA']\n",
    "val_core_logits, val_core_labels, val_core_gs =\\\n",
    "    core_metric_manager.aggregate_patches(val_logits['UVA'], val_labels['UVA'], val_gs['UVA'], corelen_list) \n",
    "    \n",
    "corelen_list = core_metric_manager.corelen_dict['test']['UVA']\n",
    "test_core_logits, test_core_labels, test_core_gs =\\\n",
    "    core_metric_manager.aggregate_patches(test_logits['UVA'], test_labels['UVA'], test_gs['UVA'], corelen_list) "
   ]
  },
  {
   "cell_type": "code",
   "execution_count": 16,
   "metadata": {},
   "outputs": [
    {
     "data": {
      "text/plain": [
       "<matplotlib.collections.PathCollection at 0x7f2f54bd6740>"
      ]
     },
     "execution_count": 16,
     "metadata": {},
     "output_type": "execute_result"
    },
    {
     "data": {
      "image/png": "[encoded data removed]",
      "text/plain": [
       "<Figure size 640x480 with 1 Axes>"
      ]
     },
     "metadata": {},
     "output_type": "display_data"
    }
   ],
   "source": [
    "val_metadata = val_ds.metadata\n",
    "val_metadata['pct_cancer'].replace(np.NaN, 0, inplace=True)\n",
    "plt.xlim(-0.05, 1.05)\n",
    "plt.ylim(-0.05, 1.05)\n",
    "plt.axhline(y=0.5, color='r', linestyle='-.', alpha=0.3)\n",
    "plt.scatter(val_metadata['pct_cancer']/100, val_core_logits.softmax(dim=1)[:,1].cpu().numpy(), alpha=1, s=10)"
   ]
  },
  {
   "cell_type": "code",
   "execution_count": 17,
   "metadata": {},
   "outputs": [
    {
     "data": {
      "text/plain": [
       "<matplotlib.collections.PathCollection at 0x7f2f54b00cd0>"
      ]
     },
     "execution_count": 17,
     "metadata": {},
     "output_type": "execute_result"
    },
    {
     "data": {
      "image/png": "[encoded data removed]",
      "text/plain": [
       "<Figure size 640x480 with 1 Axes>"
      ]
     },
     "metadata": {},
     "output_type": "display_data"
    }
   ],
   "source": [
    "test_metadata = test_ds.metadata\n",
    "test_metadata['pct_cancer'].replace(np.NaN, 0, inplace=True)\n",
    "plt.xlim(-0.05, 1.05)\n",
    "plt.ylim(-0.05, 1.05)\n",
    "plt.axhline(y=0.5, color='r', linestyle='-.', alpha=0.3)\n",
    "plt.scatter(test_metadata['pct_cancer']/100, test_core_logits.softmax(dim=1)[:,1].cpu().numpy(), alpha=1, s=10)"
   ]
  },
  {
   "attachments": {},
   "cell_type": "markdown",
   "metadata": {},
   "source": [
    "## Calculating uncertainty"
   ]
  },
  {
   "cell_type": "code",
   "execution_count": 18,
   "metadata": {},
   "outputs": [],
   "source": [
    "def calculate_uncertainty(logits):\n",
    "    # Dempster-Shafer uncertainty for SNGP\n",
    "    # From: https://github.com/google/uncertainty-baselines/blob/main/baselines/cifar/ood_utils.py#L22\n",
    "    num_classes = logits.shape[1]\n",
    "    belief_mass = logits.exp().sum(1)\n",
    "    uncertainty = num_classes / (belief_mass + num_classes)\n",
    "    return uncertainty"
   ]
  },
  {
   "cell_type": "code",
   "execution_count": 19,
   "metadata": {},
   "outputs": [],
   "source": [
    "# getting uncertainty for val and test patch wise\n",
    "val_uncertainty = calculate_uncertainty(val_logits['UVA'].detach().cpu())\n",
    "test_uncertainty = calculate_uncertainty(test_logits['UVA'].detach().cpu())"
   ]
  },
  {
   "attachments": {},
   "cell_type": "markdown",
   "metadata": {},
   "source": [
    "## Please skip until where I define a function to get performance metrics based on a threshold"
   ]
  },
  {
   "cell_type": "code",
   "execution_count": 42,
   "metadata": {},
   "outputs": [
    {
     "data": {
      "text/plain": [
       "{'test/finetune_auc': tensor(0.8800, device='cuda:0'),\n",
       " 'test/finetune_ap': tensor(0.8745, device='cuda:0'),\n",
       " 'test/finetune_acc_macro': tensor(0.7956, device='cuda:0'),\n",
       " 'test/finetune_sen': tensor(0.7956, device='cuda:0'),\n",
       " 'test/finetune_spe': tensor(0.7956, device='cuda:0'),\n",
       " 'test/finetune_f1': tensor(0.7936, device='cuda:0')}"
      ]
     },
     "execution_count": 42,
     "metadata": {},
     "output_type": "execute_result"
    }
   ],
   "source": [
    "\"\"\"Performance on certain samples based on threshold.\n",
    "Uncertain samples are removed from the prediction.\n",
    "\"\"\"\n",
    "\n",
    "threshold = 0.4\n",
    "# normalize uncertainty\n",
    "val_uncertainty = (val_uncertainty - val_uncertainty.min()) / (val_uncertainty.max() - val_uncertainty.min())\n",
    "test_uncertainty = (test_uncertainty - test_uncertainty.min()) / (test_uncertainty.max() - test_uncertainty.min())\n",
    "# plt.hist(val_uncertainty, bins=100)\n",
    "# plt.show()\n",
    "\n",
    "certain_val_data_idx = np.where(val_uncertainty < threshold)[0]\n",
    "certain_test_data_idx = np.where(test_uncertainty < threshold)[0]\n",
    "\n",
    "certain_val_logits = val_logits['UVA'][certain_val_data_idx, :]\n",
    "certain_val_labels = val_labels['UVA'][certain_val_data_idx]\n",
    "val_patch_metadata = val_ds.metadata.loc[val_ds.metadata.index.repeat(val_ds.core_lengths)].reset_index(drop=True)\n",
    "certain_val_metadata = val_patch_metadata.loc[certain_val_data_idx].reset_index(drop=True)\n",
    "\n",
    "\n",
    "certain_test_logits = test_logits['UVA'][certain_test_data_idx, :]\n",
    "certain_test_labels = test_labels['UVA'][certain_test_data_idx]\n",
    "test_patch_metadata = test_ds.metadata.loc[test_ds.metadata.index.repeat(test_ds.core_lengths)].reset_index(drop=True)\n",
    "certain_test_metadata = test_patch_metadata.loc[certain_test_data_idx].reset_index(drop=True)\n",
    "\n",
    "\n",
    "patch_metric_manager_certain = metrics.PatchMetricManager(list(set(val_metadata['center'])), device=\"cpu\")\n",
    "patch_metric_manager_certain.update_wMetadata(\"val\", certain_val_logits, certain_val_labels, certain_val_metadata)\n",
    "patch_metric_manager_certain.update_wMetadata(\"test\", certain_test_logits, certain_test_labels, certain_test_metadata)\n",
    "\n",
    "patch_metric_manager_certain.compute('val', 'ALL')\n",
    "patch_metric_manager_certain.compute('test', 'ALL')\n",
    "\n",
    "# core_metric_manager_certain = metrics.CoreMetricManager(val_ds, test_ds, list(set(val_metadata['center'])), device=\"cpu\")\n",
    "# core_metric_manager.aggregate_patches(val_logits['UVA'], val_labels['UVA'], val_gs['UVA'], corelen_list)"
   ]
  },
  {
   "cell_type": "code",
   "execution_count": 33,
   "metadata": {},
   "outputs": [
    {
     "data": {
      "text/plain": [
       "{'test/finetune_core_auc': tensor(0.9235),\n",
       " 'test/finetune_core_ap': tensor(0.9176),\n",
       " 'test/finetune_core_acc_macro': tensor(0.8539),\n",
       " 'test/finetune_core_sen': tensor(0.8539),\n",
       " 'test/finetune_core_spe': tensor(0.8539),\n",
       " 'test/finetune_core_f1': tensor(0.8259)}"
      ]
     },
     "execution_count": 33,
     "metadata": {},
     "output_type": "execute_result"
    }
   ],
   "source": [
    "\"\"\"Performance on certain cores based on threshold.\n",
    "Uncertain samples are removed then core performance is found only using their certain samples.\n",
    "\"\"\"\n",
    "core_len_cumsum = np.cumsum(val_ds.core_lengths)\n",
    "val_certain_core_lengths = []\n",
    "for i, val in enumerate(core_len_cumsum):\n",
    "    if i==0:\n",
    "        indices_list = certain_val_data_idx[certain_val_data_idx < val]\n",
    "    else: \n",
    "        indices_list = certain_val_data_idx[(certain_val_data_idx < val) & (certain_val_data_idx >= core_len_cumsum[i-1])]\n",
    "    val_certain_core_lengths.append(len(indices_list))\n",
    "    \n",
    "core_len_cumsum = np.cumsum(test_ds.core_lengths)\n",
    "test_certain_core_lengths = []\n",
    "for i, val in enumerate(core_len_cumsum):\n",
    "    if i==0:\n",
    "        indices_list = certain_test_data_idx[certain_test_data_idx < val]\n",
    "    else: \n",
    "        indices_list = certain_test_data_idx[(certain_test_data_idx < val) & (certain_test_data_idx >= core_len_cumsum[i-1])]\n",
    "    test_certain_core_lengths.append(len(indices_list))\n",
    "\n",
    "import copy\n",
    "certain_val_ds = copy.deepcopy(val_ds)\n",
    "certain_val_ds.core_lengths = val_certain_core_lengths\n",
    "certain_test_ds = copy.deepcopy(test_ds)\n",
    "certain_test_ds.core_lengths = test_certain_core_lengths\n",
    "\n",
    "core_metric_manager_certain = metrics.CoreMetricManager(certain_val_ds, certain_test_ds, list(set(val_metadata['center'])), device=\"cpu\")\n",
    "core_metric_manager_certain.update_wPatchmanager(patch_metric_manager_certain, \"val\")\n",
    "core_metric_manager_certain.update_wPatchmanager(patch_metric_manager_certain, \"test\")\n",
    "\n",
    "core_metric_manager_certain.compute('val', 'ALL')\n",
    "core_metric_manager_certain.compute('test', 'ALL')"
   ]
  },
  {
   "cell_type": "code",
   "execution_count": 71,
   "metadata": {},
   "outputs": [
    {
     "data": {
      "text/plain": [
       "{'test/finetune_auc': tensor(0.7662, device='cuda:0'),\n",
       " 'test/finetune_ap': tensor(0.7611, device='cuda:0'),\n",
       " 'test/finetune_acc_macro': tensor(0.7060, device='cuda:0'),\n",
       " 'test/finetune_sen': tensor(0.7060, device='cuda:0'),\n",
       " 'test/finetune_spe': tensor(0.7060, device='cuda:0'),\n",
       " 'test/finetune_f1': tensor(0.6858, device='cuda:0')}"
      ]
     },
     "execution_count": 71,
     "metadata": {},
     "output_type": "execute_result"
    }
   ],
   "source": [
    "\"\"\"Performance on samples only from certain cores based on threshold.\n",
    "\"\"\"\n",
    "\n",
    "threshold = 0.6\n",
    "minimum_certain_core_len_percentile = 0.6\n",
    "remove_uncertain_samples_from_uncertain_cores = False\n",
    "# normalize uncertainty\n",
    "# val_uncertainty = (val_uncertainty - val_uncertainty.mean()) / val_uncertainty.std()\n",
    "# test_uncertainty = (test_uncertainty - test_uncertainty.mean()) / test_uncertainty.std()\n",
    "val_uncertainty = (val_uncertainty - val_uncertainty.min()) / (val_uncertainty.max() - val_uncertainty.min())\n",
    "test_uncertainty = (test_uncertainty - test_uncertainty.min()) / (test_uncertainty.max() - test_uncertainty.min())\n",
    "# plt.hist(val_uncertainty, bins=100)\n",
    "# plt.show()\n",
    "\n",
    "core_len_cumsum = np.cumsum(val_ds.core_lengths)\n",
    "val_certain_core_lengths = []\n",
    "val_patch_indices_for_selected_cores = []\n",
    "for i, val in enumerate(core_len_cumsum):\n",
    "    if i==0:\n",
    "        certain_patch_indices = val_uncertainty[:val]<threshold\n",
    "    else: \n",
    "        certain_patch_indices = val_uncertainty[core_len_cumsum[i-1]:val]<threshold    \n",
    "    \n",
    "    new_core_len = (certain_patch_indices).sum()\n",
    "    if remove_uncertain_samples_from_uncertain_cores:\n",
    "        # not removing uncertain samples from uncertain cores\n",
    "        new_core_len = val_ds.core_lengths[i] if new_core_len > val_ds.core_lengths[i] * minimum_certain_core_len_percentile else 0\n",
    "        val_certain_core_lengths.append(new_core_len)\n",
    "        val_patch_indices_for_selected_cores.append(\n",
    "            torch.ones_like(certain_patch_indices) \n",
    "            if new_core_len > 0 \n",
    "            else torch.zeros_like(certain_patch_indices)\n",
    "            )\n",
    "    else:\n",
    "        # removing uncertain samples from uncertain cores\n",
    "        new_core_len = new_core_len if new_core_len > val_ds.core_lengths[i] * minimum_certain_core_len_percentile else 0\n",
    "        val_certain_core_lengths.append(new_core_len)\n",
    "        val_patch_indices_for_selected_cores.append(\n",
    "            certain_patch_indices\n",
    "            if new_core_len > 0 \n",
    "            else torch.zeros_like(certain_patch_indices)\n",
    "            )\n",
    "    \n",
    "val_patch_indices_for_selected_cores = torch.cat(val_patch_indices_for_selected_cores).numpy()\n",
    "\n",
    "\n",
    "core_len_cumsum = np.cumsum(test_ds.core_lengths)\n",
    "test_certain_core_lengths = []\n",
    "test_patch_indices_for_selected_cores = []\n",
    "for i, val in enumerate(core_len_cumsum):\n",
    "    if i==0:\n",
    "        certain_patch_indices = test_uncertainty[:val]<threshold\n",
    "    else: \n",
    "        certain_patch_indices = test_uncertainty[core_len_cumsum[i-1]:val]<threshold    \n",
    "    \n",
    "    new_core_len = (certain_patch_indices).sum()\n",
    "    if remove_uncertain_samples_from_uncertain_cores:\n",
    "        # not removing uncertain samples from uncertain cores\n",
    "        new_core_len = test_ds.core_lengths[i] if new_core_len > test_ds.core_lengths[i] * minimum_certain_core_len_percentile else 0\n",
    "        test_certain_core_lengths.append(new_core_len)\n",
    "        test_patch_indices_for_selected_cores.append(\n",
    "            torch.ones_like(certain_patch_indices) \n",
    "            if new_core_len > 0 \n",
    "            else torch.zeros_like(certain_patch_indices)\n",
    "            )\n",
    "    else:\n",
    "        # removing uncertain samples from uncertain cores\n",
    "        new_core_len = new_core_len if new_core_len > test_ds.core_lengths[i] * minimum_certain_core_len_percentile else 0\n",
    "        test_certain_core_lengths.append(new_core_len)\n",
    "        test_patch_indices_for_selected_cores.append(\n",
    "            certain_patch_indices \n",
    "            if new_core_len > 0 \n",
    "            else torch.zeros_like(certain_patch_indices)\n",
    "            )  \n",
    "              \n",
    "test_patch_indices_for_selected_cores = torch.cat(test_patch_indices_for_selected_cores).numpy()\n",
    "\n",
    "\n",
    "certain_val_logits = val_logits['UVA'][val_patch_indices_for_selected_cores, :]\n",
    "certain_val_labels = val_labels['UVA'][val_patch_indices_for_selected_cores]\n",
    "val_patch_metadata = val_ds.metadata.loc[val_ds.metadata.index.repeat(val_ds.core_lengths)].reset_index(drop=True)\n",
    "certain_val_metadata = val_patch_metadata.loc[val_patch_indices_for_selected_cores].reset_index(drop=True)\n",
    "\n",
    "certain_test_logits = test_logits['UVA'][test_patch_indices_for_selected_cores, :]\n",
    "certain_test_labels = test_labels['UVA'][test_patch_indices_for_selected_cores]\n",
    "test_patch_metadata = test_ds.metadata.loc[test_ds.metadata.index.repeat(test_ds.core_lengths)].reset_index(drop=True)\n",
    "certain_test_metadata = test_patch_metadata.loc[test_patch_indices_for_selected_cores].reset_index(drop=True)\n",
    "\n",
    "\n",
    "patch_metric_manager_certain = metrics.PatchMetricManager(list(set(val_metadata['center'])), device=\"cpu\")\n",
    "patch_metric_manager_certain.update_wMetadata(\"val\", certain_val_logits, certain_val_labels, certain_val_metadata)\n",
    "patch_metric_manager_certain.update_wMetadata(\"test\", certain_test_logits, certain_test_labels, certain_test_metadata)\n",
    "\n",
    "patch_metric_manager_certain.compute('val', 'ALL')\n",
    "patch_metric_manager_certain.compute('test', 'ALL')"
   ]
  },
  {
   "cell_type": "code",
   "execution_count": 72,
   "metadata": {},
   "outputs": [
    {
     "data": {
      "text/plain": [
       "{'test/finetune_core_auc': tensor(0.8497),\n",
       " 'test/finetune_core_ap': tensor(0.7311),\n",
       " 'test/finetune_core_acc_macro': tensor(0.8394),\n",
       " 'test/finetune_core_sen': tensor(0.8394),\n",
       " 'test/finetune_core_spe': tensor(0.8394),\n",
       " 'test/finetune_core_f1': tensor(0.8330)}"
      ]
     },
     "execution_count": 72,
     "metadata": {},
     "output_type": "execute_result"
    }
   ],
   "source": [
    "\"\"\"Performance on certain cores based on threshold.\n",
    "Cores with x percent of uncertain samples are removed.\n",
    "\"\"\"\n",
    "import copy\n",
    "certain_val_ds = copy.deepcopy(val_ds)\n",
    "certain_val_ds.core_lengths = val_certain_core_lengths\n",
    "certain_test_ds = copy.deepcopy(test_ds)\n",
    "certain_test_ds.core_lengths = test_certain_core_lengths\n",
    "\n",
    "core_metric_manager_certain = metrics.CoreMetricManager(certain_val_ds, certain_test_ds, list(set(val_metadata['center'])), device=\"cpu\")\n",
    "core_metric_manager_certain.update_wPatchmanager(patch_metric_manager_certain, \"val\")\n",
    "core_metric_manager_certain.update_wPatchmanager(patch_metric_manager_certain, \"test\")\n",
    "\n",
    "core_metric_manager_certain.compute('val', 'ALL')\n",
    "core_metric_manager_certain.compute('test', 'ALL')\n",
    "\n"
   ]
  },
  {
   "cell_type": "code",
   "execution_count": 30,
   "metadata": {},
   "outputs": [],
   "source": [
    "# # this code should be used for logging with wandb\n",
    "# # writer should change to wandb.log\n",
    "# import wandb\n",
    "# wandb.init(project=configs.logger.wandb.project, entity=configs.logger.wandb.entity)\n",
    "\n",
    "\n",
    "# for name, layer in model.feature_extractor.named_modules():\n",
    "#     if isinstance(layer, torch.nn.Conv2d):        \n",
    "#         wandb.log({f\"mu/{name}\": layer.weight_mu})\n",
    "#         wandb.log({f\"sigma/{name}\": layer.weight_sigma})"
   ]
  },
  {
   "cell_type": "code",
   "execution_count": 91,
   "metadata": {},
   "outputs": [
    {
     "name": "stderr",
     "output_type": "stream",
     "text": [
      "/tmp/ipykernel_1230668/4251157400.py:9: RuntimeWarning: invalid value encountered in divide\n",
      "  ax2.bar(np.arange(20)*5, certain_hist/all_hist, alpha=0.5, color='b')\n"
     ]
    },
    {
     "data": {
      "image/png": "[encoded data removed]",
      "text/plain": [
       "<Figure size 640x480 with 2 Axes>"
      ]
     },
     "metadata": {},
     "output_type": "display_data"
    }
   ],
   "source": [
    "# plt.hist(certain_val_metadata['pct_cancer'], bins=20)\n",
    "all_hist, _ = np.histogram(test_patch_metadata['pct_cancer'], bins=20, )\n",
    "certain_hist, _= np.histogram(certain_test_metadata['pct_cancer'], bins=20, )\n",
    "\n",
    "fig,ax = plt.subplots()\n",
    "ax.hist(test_patch_metadata['pct_cancer'], bins=20, alpha=0.5)\n",
    "ax.hist(certain_test_metadata['pct_cancer'], bins=20)\n",
    "ax2=ax.twinx()\n",
    "ax2.bar(np.arange(20)*5, certain_hist/all_hist, alpha=0.5, color='b')\n",
    "plt.show()\n",
    "# certain_val_metadata.query('grade != \"Benign\"')"
   ]
  },
  {
   "attachments": {},
   "cell_type": "markdown",
   "metadata": {},
   "source": [
    "## Calculating performance metrics based on threshold"
   ]
  },
  {
   "cell_type": "code",
   "execution_count": 21,
   "metadata": {},
   "outputs": [],
   "source": [
    "def performance_on_certain_patches_based_on_threshold(threshold, patch_uncertainty, patch_logits, patch_labels, dataset):\n",
    "    \"\"\"Performance on certain samples based on threshold.\n",
    "    Uncertain samples are removed from the prediction.\n",
    "    \"\"\"\n",
    "    # normalize uncertainty\n",
    "    patch_uncertainty = (patch_uncertainty - patch_uncertainty.min()) / (patch_uncertainty.max() - patch_uncertainty.min())\n",
    "\n",
    "    certain_data_idx = np.where(patch_uncertainty < threshold)[0]\n",
    "\n",
    "    certain_logits = patch_logits[certain_data_idx, :]\n",
    "    certain_labels = patch_labels[certain_data_idx]\n",
    "    patch_metadata = dataset.metadata.loc[dataset.metadata.index.repeat(dataset.core_lengths)].reset_index(drop=True)\n",
    "    certain_metadata = patch_metadata.loc[certain_data_idx].reset_index(drop=True)\n",
    "\n",
    "\n",
    "    patch_metric_manager_certain = metrics.PatchMetricManager(list(set(dataset.metadata['center'])), device=\"cpu\")\n",
    "    patch_metric_manager_certain.update_wMetadata(\"val\", certain_logits, certain_labels, certain_metadata)\n",
    "    \n",
    "    \n",
    "    core_len_cumsum = np.cumsum(dataset.core_lengths)\n",
    "    certain_core_lengths = []\n",
    "    for i, val in enumerate(core_len_cumsum):\n",
    "        if i==0:\n",
    "            indices_list = certain_data_idx[certain_data_idx < val]\n",
    "        else: \n",
    "            indices_list = certain_data_idx[(certain_data_idx < val) & (certain_data_idx >= core_len_cumsum[i-1])]\n",
    "        certain_core_lengths.append(len(indices_list))\n",
    "\n",
    "    import copy\n",
    "    certain_ds = copy.deepcopy(dataset)\n",
    "    certain_ds.core_lengths = certain_core_lengths\n",
    "\n",
    "    core_metric_manager_certain = metrics.CoreMetricManager(certain_ds, certain_ds, list(set(dataset.metadata['center'])), device=\"cpu\")\n",
    "    core_metric_manager_certain.update_wPatchmanager(patch_metric_manager_certain, \"val\")\n",
    "\n",
    "    patch_dict_performance, core_dict_performance = patch_metric_manager_certain.compute('val', 'ALL'), core_metric_manager_certain.compute('val', 'ALL')\n",
    "\n",
    "    return patch_dict_performance, core_dict_performance"
   ]
  },
  {
   "attachments": {},
   "cell_type": "markdown",
   "metadata": {},
   "source": [
    "### getting performance for 10 different thresholds"
   ]
  },
  {
   "cell_type": "code",
   "execution_count": 24,
   "metadata": {},
   "outputs": [],
   "source": [
    "_ds = val_ds\n",
    "_logits = val_logits['UVA'].detach().cpu()\n",
    "_labels = val_labels['UVA'].detach().cpu()\n",
    "_uncertainty = calculate_uncertainty(_logits)\n",
    "\n",
    "# _ds = test_ds\n",
    "# _logits = test_logits['UVA'].detach().cpu()\n",
    "# _labels = test_labels['UVA'].detach().cpu()\n",
    "# _uncertainty = calculate_uncertainty(_logits)\n",
    "\n",
    "patch_auc_list_thresholds = []\n",
    "core_auc_list_thresholds = []\n",
    "for i in range(10):\n",
    "    threshold = 1 - i/10\n",
    "    # print(f\"threshold: {threshold}\")\n",
    "    patch_dict_performance, core_dict_performance =\\\n",
    "    performance_on_certain_patches_based_on_threshold(\n",
    "        threshold,\n",
    "        _uncertainty,\n",
    "        _logits,\n",
    "        _labels,\n",
    "        _ds\n",
    "        )\n",
    "    [patch_auc_list_thresholds.append(v) for k,v in patch_dict_performance.items() if 'auc' in k]\n",
    "    [core_auc_list_thresholds.append(v) for k,v in core_dict_performance.items() if 'auc' in k]"
   ]
  },
  {
   "cell_type": "code",
   "execution_count": 25,
   "metadata": {},
   "outputs": [
    {
     "data": {
      "text/plain": [
       "(0.5, 1.05)"
      ]
     },
     "execution_count": 25,
     "metadata": {},
     "output_type": "execute_result"
    },
    {
     "data": {
      "image/png": "[encoded data removed]",
      "text/plain": [
       "<Figure size 640x480 with 1 Axes>"
      ]
     },
     "metadata": {},
     "output_type": "display_data"
    }
   ],
   "source": [
    "plt.plot(range(len(patch_auc_list_thresholds)), patch_auc_list_thresholds)\n",
    "plt.ylim(0.5, 1.05)\n",
    "# plt.plot(range(len(core_auc_list_thresholds)), core_auc_list_thresholds)\n"
   ]
  }
 ],
 "metadata": {
  "kernelspec": {
   "display_name": "exact_env",
   "language": "python",
   "name": "python3"
  },
  "language_info": {
   "codemirror_mode": {
    "name": "ipython",
    "version": 3
   },
   "file_extension": ".py",
   "mimetype": "text/x-python",
   "name": "python",
   "nbconvert_exporter": "python",
   "pygments_lexer": "ipython3",
   "version": "3.10.8"
  },
  "orig_nbformat": 4,
  "vscode": {
   "interpreter": {
    "hash": "410e89f2f44b0beb9bc17729029af0a1782becd3423b288ae69b52d70a74bed6"
   }
  }
 },
 "nbformat": 4,
 "nbformat_minor": 2
}
