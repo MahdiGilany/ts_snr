{
 "cells": [
  {
   "attachments": {},
   "cell_type": "markdown",
   "metadata": {},
   "source": [
    "## Core Finetuning\n"
   ]
  },
  {
   "cell_type": "code",
   "execution_count": 1,
   "metadata": {},
   "outputs": [
    {
     "name": "stdout",
     "output_type": "stream",
     "text": [
      "/home/mahdigilany/offline_codes/codes/TRUSnet\n"
     ]
    }
   ],
   "source": [
    "%cd ..\n",
    "# pass environment variables to jupyter notebook.\n",
    "# %env DATA=/home/mahdigilany/projects_data/Exact"
   ]
  },
  {
   "cell_type": "markdown",
   "metadata": {},
   "source": [
    "### datamodule"
   ]
  },
  {
   "cell_type": "code",
   "execution_count": 2,
   "metadata": {},
   "outputs": [
    {
     "name": "stderr",
     "output_type": "stream",
     "text": [
      "/home/mahdigilany/anaconda3/envs/exact_env/lib/python3.10/site-packages/tqdm/auto.py:22: TqdmWarning: IProgress not found. Please update jupyter and ipywidgets. See https://ipywidgets.readthedocs.io/en/stable/user_install.html\n",
      "  from .autonotebook import tqdm as notebook_tqdm\n",
      "Global seed set to 0\n"
     ]
    },
    {
     "data": {
      "text/plain": [
       "0"
      ]
     },
     "execution_count": 2,
     "metadata": {},
     "output_type": "execute_result"
    }
   ],
   "source": [
    "import pytorch_lightning as pl\n",
    "pl.seed_everything(0)"
   ]
  },
  {
   "cell_type": "code",
   "execution_count": 5,
   "metadata": {},
   "outputs": [
    {
     "name": "stdout",
     "output_type": "stream",
     "text": [
      "/home/mahdigilany/projects_data/Exact\n"
     ]
    },
    {
     "name": "stderr",
     "output_type": "stream",
     "text": [
      "Preparing cores: 100%|██████████| 838/838 [00:21<00:00, 38.97it/s]\n",
      "Loading Patch Views: 100%|██████████| 838/838 [00:00<00:00, 13160.99it/s]\n",
      "Preparing cores: 100%|██████████| 80/80 [00:02<00:00, 39.31it/s]\n",
      "Loading Patch Views: 100%|██████████| 80/80 [00:00<00:00, 12704.72it/s]\n",
      "Preparing cores: 100%|██████████| 47/47 [00:01<00:00, 39.37it/s]\n",
      "Loading Patch Views: 100%|██████████| 47/47 [00:00<00:00, 12632.64it/s]\n",
      "Preparing cores: 100%|██████████| 27/27 [00:00<00:00, 38.50it/s]\n",
      "Loading Patch Views: 100%|██████████| 27/27 [00:00<00:00, 12503.72it/s]\n",
      "Preparing cores: 100%|██████████| 46/46 [00:01<00:00, 39.50it/s]\n",
      "Loading Patch Views: 100%|██████████| 46/46 [00:00<00:00, 12429.97it/s]\n",
      "Preparing cores: 100%|██████████| 90/90 [00:02<00:00, 38.94it/s]\n",
      "Loading Patch Views: 100%|██████████| 90/90 [00:00<00:00, 12548.61it/s]\n",
      "Preparing cores: 100%|██████████| 57/57 [00:01<00:00, 38.98it/s]\n",
      "Loading Patch Views: 100%|██████████| 57/57 [00:00<00:00, 12656.85it/s]\n",
      "Preparing cores: 100%|██████████| 54/54 [00:01<00:00, 35.82it/s]\n",
      "Loading Patch Views: 100%|██████████| 54/54 [00:00<00:00, 12686.52it/s]\n",
      "Preparing cores: 100%|██████████| 77/77 [00:01<00:00, 38.75it/s]\n",
      "Loading Patch Views: 100%|██████████| 77/77 [00:00<00:00, 12698.52it/s]\n"
     ]
    }
   ],
   "source": [
    "from src.lightning.datamodules.exact_datamodule import ExactPatchDMConfig\n",
    "from src.configuration import register_configs\n",
    "from hydra import compose, initialize\n",
    "from hydra.utils import instantiate \n",
    "from hydra.core.global_hydra import GlobalHydra\n",
    "from omegaconf import OmegaConf\n",
    "from rich import print as pprint\n",
    "\n",
    "# dm_config = OmegaConf.structured(ExactPatchDMConfig(_target_=\"src.lightning.datamodules.exact_datamodule.PatchDataModuleForSupervisedLearning\"))\n",
    "\n",
    "register_configs()\n",
    "\n",
    "GlobalHydra.instance().clear()\n",
    "initialize(config_path=\"../configs\", version_base=\"1.1\")\n",
    "\n",
    "dm_config = compose(\n",
    "    config_name=\"datamodule/concatenated_cores.yaml\", \n",
    "    overrides=[\"datamodule.splits.cohort_specifier=['UVA', 'CRCEO', 'PMCC', 'PCC']\",\n",
    "               \"datamodule.splits.train_val_split_seed=1\",\n",
    "               \"datamodule.splits.train_val_ratio=0.2\",\n",
    "               \"datamodule.splits.test_as_val=True\"]\n",
    "    )\n",
    "dm = instantiate(dm_config)\n",
    "# pprint(OmegaConf.to_yaml(dm_config))\n",
    "\n",
    "dm = dm['datamodule']\n",
    "print(dm.root)\n",
    "dm.setup()\n"
   ]
  },
  {
   "cell_type": "code",
   "execution_count": 24,
   "metadata": {},
   "outputs": [
    {
     "data": {
      "text/plain": [
       "8"
      ]
     },
     "execution_count": 24,
     "metadata": {},
     "output_type": "execute_result"
    }
   ],
   "source": [
    "val_dl_list = dm.val_dataloader()\n",
    "test_dl_list = dm.test_dataloader()\n",
    "len(val_dl_list)\n",
    "# test_ds_dict = dm.test_ds"
   ]
  },
  {
   "cell_type": "code",
   "execution_count": 25,
   "metadata": {},
   "outputs": [],
   "source": [
    "val_dl_UVA = val_dl_list[0]\n",
    "test_dl_UVA = test_dl_list[0]"
   ]
  },
  {
   "cell_type": "code",
   "execution_count": 26,
   "metadata": {},
   "outputs": [],
   "source": [
    "# batch = next(iter(val_dl_UVA))\n",
    "# batch[2]"
   ]
  },
  {
   "cell_type": "markdown",
   "metadata": {},
   "source": [
    "### model"
   ]
  },
  {
   "cell_type": "code",
   "execution_count": 36,
   "metadata": {},
   "outputs": [
    {
     "name": "stderr",
     "output_type": "stream",
     "text": [
      "/home/mahdigilany/anaconda3/envs/exact_env/lib/python3.10/site-packages/pytorch_lightning/utilities/parsing.py:261: UserWarning: Attribute 'backbone' is an instance of `nn.Module` and is already saved during checkpointing. It is recommended to ignore them using `self.save_hyperparameters(ignore=['backbone'])`.\n",
      "  rank_zero_warn(\n"
     ]
    }
   ],
   "source": [
    "from src.modeling.registry import create_model\n",
    "\n",
    "model = create_model(model_name=\"grade_linear_all_centers\")\n"
   ]
  },
  {
   "cell_type": "code",
   "execution_count": 28,
   "metadata": {},
   "outputs": [
    {
     "data": {
      "text/plain": [
       "  | Name         | Type               | Params\n",
       "----------------------------------------------------\n",
       "0 | train_acc    | Accuracy           | 0     \n",
       "1 | backbone     | VICReg             | 5.7 M \n",
       "2 | head_network | MultiheadAttention | 1.1 M \n",
       "----------------------------------------------------\n",
       "6.8 M     Trainable params\n",
       "0         Non-trainable params\n",
       "6.8 M     Total params\n",
       "27.352    Total estimated model params size (MB)"
      ]
     },
     "execution_count": 28,
     "metadata": {},
     "output_type": "execute_result"
    }
   ],
   "source": [
    "from pytorch_lightning.utilities.model_summary import ModelSummary\n",
    "\n",
    "ModelSummary(model, max_depth=1)"
   ]
  },
  {
   "cell_type": "markdown",
   "metadata": {},
   "source": [
    "### trainer/tester"
   ]
  },
  {
   "cell_type": "code",
   "execution_count": 29,
   "metadata": {},
   "outputs": [],
   "source": [
    "# import pytorch_lightning as pl\n",
    "\n",
    "# trainer = pl.Trainer(gpus=1, max_epochs=1)\n",
    "# validation_epoch_end_outputs = trainer.test(model, dataloaders=test_dl_UVA)"
   ]
  },
  {
   "cell_type": "code",
   "execution_count": 40,
   "metadata": {},
   "outputs": [],
   "source": [
    "import torch\n",
    "\n",
    "device = torch.device(\"cuda:0\" if torch.cuda.is_available() else \"cpu\")\n",
    "model = model.to(device)\n",
    "\n",
    "# accumulating logits and labels in logits_list and labels_list\n",
    "logits_list = []\n",
    "labels_list = []\n",
    "\n",
    "# accumulating metadata dictionaries in a pandas dataframe \n",
    "import pandas as pd\n",
    "metadata_list = []\n",
    "\n",
    "for _loader in test_dl_list:\n",
    "    for batch in _loader:\n",
    "        x = batch[0].to(device)\n",
    "        pos = batch[1]\n",
    "        y = batch[2]\n",
    "        metadata = batch[3:]\n",
    "        \n",
    "        loss, logits, labels, *metadata = model.shared_step(tuple([x, pos, y, *metadata]))\n",
    "        \n",
    "        metadata_list.append(metadata[0])\n",
    "        logits_list.append(logits.detach().cpu())\n",
    "        labels_list.append(labels.detach().cpu())\n",
    "    \n",
    "logits = torch.cat(logits_list) # (N, 3)\n",
    "labels = torch.cat(labels_list) # (N,)\n",
    "metadata_df = pd.DataFrame(metadata_list)"
   ]
  },
  {
   "cell_type": "code",
   "execution_count": 50,
   "metadata": {},
   "outputs": [
    {
     "name": "stdout",
     "output_type": "stream",
     "text": [
      "acc: 0.3408, auc: [0.59241573 0.6432247  0.47432498]\n",
      "acc: 0.3408, auc: tensor([0.5907, 0.6449, 0.4736])\n"
     ]
    }
   ],
   "source": [
    "# logits.softmax(dim=1).argmax(dim=1)\n",
    "# finding macro accuracy and auroc using labels and logits.\n",
    "from sklearn.metrics import balanced_accuracy_score, roc_auc_score\n",
    "acc = balanced_accuracy_score(labels, logits.softmax(dim=1).argmax(dim=1))\n",
    "auc = roc_auc_score(labels, logits.softmax(dim=1), multi_class=\"ovr\",average=None)\n",
    "\n",
    "print(f\"acc: {acc:.4f}, auc: {auc}\")\n",
    "\n",
    "# getting the same metrics using pytorch lightning\n",
    "from torchmetrics.functional.classification import accuracy, auroc\n",
    "acc = accuracy(logits, labels, num_classes=3, average=\"macro\", multiclass=True)\n",
    "auc = auroc(logits, labels, num_classes=3, average=\"None\")\n",
    "\n",
    "print(f\"acc: {acc:.4f}, auc: {auc}\")"
   ]
  },
  {
   "cell_type": "code",
   "execution_count": 42,
   "metadata": {},
   "outputs": [
    {
     "name": "stdout",
     "output_type": "stream",
     "text": [
      "tensor([0, 0, 0, 0, 0, 0, 0, 0, 0, 0, 0, 0, 0, 0, 0, 0, 0, 0, 0, 0, 0, 0, 0, 0,\n",
      "        0, 0, 0, 0, 0, 0, 0, 0, 0, 0, 0, 0, 0, 0, 0, 0, 0, 0, 0, 0, 0, 0, 0, 0,\n",
      "        0, 0, 0, 0, 0, 0, 0, 0, 0, 0, 1, 1, 1, 1, 1, 1, 1, 1, 1, 1, 1, 2, 2, 2,\n",
      "        2, 2, 2, 2, 2, 2, 2, 2, 2, 2, 2, 2, 2, 2, 2, 2, 2, 2, 0, 0, 0, 0, 0, 0,\n",
      "        0, 0, 0, 0, 0, 0, 0, 0, 0, 0, 0, 0, 0, 0, 0, 0, 0, 0, 0, 0, 0, 0, 0, 0,\n",
      "        0, 0, 0, 0, 0, 0, 0, 0, 0, 0, 0, 0, 1, 1, 1, 1, 1, 1, 1, 1, 1, 1, 1, 1,\n",
      "        1, 1, 1, 0, 0, 0, 0, 0, 0, 0, 0, 0, 0, 0, 0, 0, 0, 0, 0, 0, 0, 0, 0, 0,\n",
      "        0, 0, 0, 0, 0, 0, 0, 0, 1, 1, 1, 1, 1, 1, 1, 1, 1, 1, 1, 1, 1, 1, 1, 1,\n",
      "        2, 2, 2, 2, 2, 2, 2, 2, 2, 0, 0, 0, 0, 0, 0, 0, 0, 0, 0, 0, 0, 0, 0, 0,\n",
      "        0, 0, 0, 0, 0, 0, 0, 0, 0, 0, 0, 0, 0, 0, 0, 0, 0, 0, 0, 0, 0, 0, 0, 0,\n",
      "        0, 0, 0, 0, 0, 0, 0, 0, 0, 0, 1, 1, 1, 1, 1, 1, 1, 1, 1, 1, 1, 1, 1, 1,\n",
      "        1, 1, 1, 1, 1, 1, 1, 1, 1, 1, 2, 2, 2, 2])\n",
      "tensor([1, 1, 1, 1, 1, 1, 1, 1, 1, 1, 1, 1, 1, 1, 1, 1, 1, 1, 1, 1, 1, 1, 1, 1,\n",
      "        1, 1, 1, 1, 1, 1, 1, 1, 1, 1, 1, 1, 1, 1, 1, 1, 1, 1, 1, 1, 1, 1, 1, 1,\n",
      "        0, 1, 1, 1, 0, 1, 1, 1, 1, 1, 1, 1, 1, 1, 1, 1, 1, 1, 1, 1, 1, 1, 1, 1,\n",
      "        1, 1, 1, 1, 1, 1, 1, 1, 1, 1, 1, 1, 1, 1, 1, 1, 1, 1, 1, 1, 1, 1, 1, 1,\n",
      "        1, 1, 1, 1, 1, 1, 1, 1, 1, 1, 1, 1, 1, 1, 1, 1, 1, 1, 1, 1, 1, 1, 1, 1,\n",
      "        1, 1, 1, 1, 1, 1, 1, 1, 1, 1, 1, 1, 1, 1, 1, 1, 1, 1, 1, 1, 1, 1, 1, 1,\n",
      "        1, 1, 1, 1, 1, 1, 1, 1, 1, 1, 1, 1, 1, 1, 1, 1, 1, 1, 1, 1, 1, 1, 1, 1,\n",
      "        1, 1, 1, 1, 1, 1, 1, 1, 1, 1, 1, 1, 1, 1, 1, 1, 1, 1, 1, 1, 1, 1, 1, 1,\n",
      "        1, 1, 1, 1, 1, 1, 1, 1, 1, 1, 1, 1, 0, 1, 1, 1, 1, 1, 1, 1, 0, 1, 1, 1,\n",
      "        1, 1, 1, 1, 1, 1, 1, 1, 1, 1, 1, 1, 1, 1, 1, 1, 1, 1, 1, 1, 1, 1, 1, 1,\n",
      "        1, 1, 1, 1, 1, 1, 1, 1, 1, 1, 1, 1, 1, 1, 1, 1, 1, 1, 1, 1, 1, 1, 1, 1,\n",
      "        1, 1, 1, 1, 1, 1, 1, 1, 1, 1, 1, 1, 1, 1])\n",
      "tensor(178)\n"
     ]
    }
   ],
   "source": [
    "import numpy as np\n",
    "print(labels)\n",
    "print(logits.softmax(dim=1).argmax(dim=1))\n",
    "print(torch.sum(labels == 0))"
   ]
  },
  {
   "cell_type": "markdown",
   "metadata": {},
   "source": [
    "#### testing loading from checkpoint"
   ]
  },
  {
   "cell_type": "code",
   "execution_count": 39,
   "metadata": {},
   "outputs": [
    {
     "name": "stdout",
     "output_type": "stream",
     "text": [
      "Parameter containing:\n",
      "tensor([[ 1.6366e-02,  1.2715e-02,  9.7730e-03,  ..., -3.1610e-02,\n",
      "          1.3288e-02,  2.8237e-06],\n",
      "        [-2.7461e-02,  1.1492e-02,  3.6739e-02,  ..., -2.5170e-02,\n",
      "         -2.7714e-02, -1.1655e-02],\n",
      "        [-2.5266e-02,  3.5729e-02,  1.9143e-02,  ..., -1.0565e-02,\n",
      "         -4.7182e-03,  3.0842e-02],\n",
      "        ...,\n",
      "        [-1.0982e-02,  2.7076e-02,  1.9341e-02,  ..., -2.3310e-02,\n",
      "          1.5406e-03,  3.0218e-02],\n",
      "        [-1.2433e-02, -1.0591e-02, -3.3257e-03,  ...,  9.9350e-03,\n",
      "         -1.4610e-02, -3.1932e-03],\n",
      "        [-2.2631e-02,  3.4880e-02, -1.2592e-02,  ...,  1.5350e-02,\n",
      "          2.2455e-02, -2.0288e-02]], requires_grad=True)\n"
     ]
    },
    {
     "name": "stderr",
     "output_type": "stream",
     "text": [
      "/home/mahdigilany/anaconda3/envs/exact_env/lib/python3.10/site-packages/pytorch_lightning/utilities/parsing.py:261: UserWarning: Attribute 'backbone' is an instance of `nn.Module` and is already saved during checkpointing. It is recommended to ignore them using `self.save_hyperparameters(ignore=['backbone'])`.\n",
      "  rank_zero_warn(\n"
     ]
    }
   ],
   "source": [
    "from src.utils.checkpoints import get_named_checkpoint\n",
    "from src.lightning.lightning_modules.self_supervised.finetune import CoreGradeFinetuner\n",
    "from omegaconf import OmegaConf\n",
    "from dataclasses import dataclass\n",
    "\n",
    "# ckpt_name = f\"grading_Multattn-sl_all-centrs_ssl-pretrain_all-centrs\"\n",
    "# ckpt_path = get_named_checkpoint(ckpt_name)\n",
    "\n",
    "# ckpt_path = \"./logs/experiments/runs/Grading_Multattn-sl_all-centrs_ssl-pretrain_all-centrs_bsz20/\" \\\n",
    "#     \"2022-11-29_18-15-46/checkpoints/epoch_017.ckpt\"\n",
    "\n",
    "ckpt_path = \"/home/mahdigilany/projects_data/Exact/checkpoint_store/epoch_011.ckpt\"\n",
    "\n",
    "\n",
    "@dataclass\n",
    "class Backbone:\n",
    "    _target_: str = \"src.modeling.registry.create_model\"\n",
    "    model_name: str = \"vicreg_resnet10_pretrn_allcntrs_noPrst_ndl_crop\"\n",
    "    split_seed: int = 1\n",
    "\n",
    "backbone_conf = OmegaConf.structured(Backbone)\n",
    "model = CoreGradeFinetuner.load_from_checkpoint(ckpt_path, backbone=backbone_conf)\n",
    "\n",
    "model_notloaded = create_model(model_name=\"vicreg_resnet10_pretrn_allcntrs_noPrst_ndl_crop\", split_seed=1)\n",
    "# print(torch.load(ckpt_path)['state_dict']['backbone.backbone.layer1.0.conv1.weight'])\n",
    "# print(model_notloaded.backbone.layer1[0].conv1.weight)\n",
    "# print(model.backbone.backbone.layer1[0].conv1.weight)\n",
    "\n",
    "\n",
    "# instantiating head network using structured config\n",
    "from omegaconf import OmegaConf\n",
    "from src.lightning.lightning_modules.self_supervised.finetune import HeadNetConfig\n",
    "\n",
    "head_config = OmegaConf.structured(HeadNetConfig)\n",
    "head_network = instantiate(head_config)\n",
    "\n",
    "print(model.head_network.linears[0].weight)\n",
    "# print(head_network.linears[0].weight)"
   ]
  },
  {
   "cell_type": "code",
   "execution_count": 34,
   "metadata": {},
   "outputs": [
    {
     "data": {
      "image/png": "[encoded data removed]",
      "text/plain": [
       "<Figure size 640x480 with 1 Axes>"
      ]
     },
     "metadata": {},
     "output_type": "display_data"
    }
   ],
   "source": [
    "# plotting the histogram of the weights of the first convolutional layer of the backbone.\n",
    "import matplotlib.pyplot as plt\n",
    "\n",
    "plt.hist(model.backbone.backbone.layer1[0].conv1.weight.detach().cpu().flatten(), bins=100, alpha=0.2)\n",
    "plt.hist(model_notloaded.backbone.layer1[0].conv1.weight.detach().cpu().flatten(), bins=100, alpha=0.2)\n",
    "# plt.hist(torch.load(ckpt_path)['state_dict']['backbone.backbone.layer1.0.conv1.weight'].detach().cpu().flatten(),\n",
    "        #  bins=100, alpha=0.2)\n",
    "plt.show()\n"
   ]
  }
 ],
 "metadata": {
  "kernelspec": {
   "display_name": "exact_env",
   "language": "python",
   "name": "python3"
  },
  "language_info": {
   "codemirror_mode": {
    "name": "ipython",
    "version": 3
   },
   "file_extension": ".py",
   "mimetype": "text/x-python",
   "name": "python",
   "nbconvert_exporter": "python",
   "pygments_lexer": "ipython3",
   "version": "3.10.8"
  },
  "vscode": {
   "interpreter": {
    "hash": "410e89f2f44b0beb9bc17729029af0a1782becd3423b288ae69b52d70a74bed6"
   }
  }
 },
 "nbformat": 4,
 "nbformat_minor": 0
}
